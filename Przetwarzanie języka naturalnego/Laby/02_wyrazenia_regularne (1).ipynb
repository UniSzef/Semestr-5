{
  "cells": [
    {
      "cell_type": "markdown",
      "source": [
        "## Zajęcia 2: Wyrażenia regularne\n",
        "\n",
        "Wszystkie zadania ćwiczeniowe należy rozwiązywać w języku Python w kopii Jupyter Notebook'a dla danych zajęć w wyznaczonych miejscach (komórki z komentarzem `# Solution`).\n",
        "\n",
        "Nie należy usuwać komórek z treścią zadań.\n",
        "\n",
        "Należy wyświetlać outputy przy pomocy `print`\n"
      ],
      "metadata": {}
    },
    {
      "cell_type": "markdown",
      "source": [
        "Istnieją 2 moduły do wykorzystania wyrażeń regularnych w Pythonie: `re` oraz `regex`\n",
        "\n",
        "Moduł `re` jest częścią standardowej biblioteki języka Python, natomiast `regex` stanowi osobny moduł, który należy zainstalować, by móc z niego korzystać. Moduł `re` jest prostszy i będzie wykorzystywany na potrzeby tych zajęć.\n",
        "\n",
        "Dokumentacja: https://docs.python.org/3/library/re.html\n",
        "\n",
        "Dla chętnych: wyzwanie uczenia maszynowego, w którym można było zastosować wyrażenia regularne https://www.kaggle.com/c/pii-detection-removal-from-educational-data "
      ],
      "metadata": {}
    },
    {
      "cell_type": "markdown",
      "source": [
        "### Zadanie 1\n",
        "Napisz funkcje wykorzystujące wyrażenia regularne do walidacji danych osobowych. Funkcje muszą zwrócić wartość `True`, gdy walidacja przejdzie pomyślnie, a w przeciwnym wypadku wartość `False`. Uwaga: funkcja nie ma sprawdzać, czy w danym tekście znajduje się dany rodzaj danych, tylko czy w pełni stanowi dany obiekt (np. tekst \"Imię: Adam\" albo \"Adam to szef\" nie powinien przejść walidacji). Funkcje do napisania:\n",
        "* Funkcja walidująca imię (minimum 2 litery, zaczyna się wielką literą, pozostałe litery są małe, nie zawiera innych znaków oprócz liter)\n",
        "* Funkcja walidująca nr telefonu w formacie (XX) XXX-XX-XX (np. (61) 222-45-56)\n",
        "* Funkcja walidująca kod pocztowy XX-XXX (np. 61-620)\n",
        "* Funkcja walidująca adres email (uproszczone założenia: pierwsza część składa się z liter i cyfr, potem mamy symbol \"@\", następnie domenę składającą się z liter, dalej symbol \".\" i na końcu ciąg liter od 2 do 6 znaków)"
      ],
      "metadata": {}
    },
    {
      "cell_type": "code",
      "source": [
        "import re"
      ],
      "outputs": [],
      "execution_count": 3,
      "metadata": {}
    },
    {
      "cell_type": "code",
      "source": [
        "# Solution 1\n",
        "\n",
        "def validate_name(text):\n",
        "    if re.fullmatch(r'[A-ZĄĆĘŁÓŚŹŻ][a-ząćęłóśźż]+', text):\n",
        "        return True\n",
        "    return False\n",
        "\n",
        "\n",
        "def validate_phone_number(phone_number):\n",
        "    if re.fullmatch(r'\\(\\d{2}\\)\\s\\d{3}-\\d{2}-\\d{2}', phone_number):\n",
        "        return True\n",
        "    return False\n",
        "\n",
        "\n",
        "def validate_zip_code(zip_code):\n",
        "    if re.fullmatch(r'\\d{2}-\\d{3}', zip_code):\n",
        "        return True\n",
        "    return False\n",
        "\n",
        "\n",
        "def validate_email(email):\n",
        "    if re.fullmatch(r'[a-zA-Z0-9]+@[a-zA-Z]+\\.[a-zA-Z]{2,6}', email):\n",
        "        return True\n",
        "    return False\n",
        "\n",
        "\n",
        "names = [\"Adam\", \"Ewa\", \"adam\", \"maciek15pl\", \"y\", \"ka$ia\"]\n",
        "phone_numbers = [\"(61) 222-45-56\", \"telefon: (61) 222-45-56\", \"23 123-25-64\", \"(61) 5312-53-1\", \"(00 1110022)\"]\n",
        "zip_codes = [\"61-620\", \"63-125 \", \"12345\", \"125-21\"]\n",
        "emails = [\"sigmaboy@sigma.pl\", \"superbohater2008@gmail.com\", \"bieg@cz@gmail.com\", \".slodkipiesek.@pieskowo.eu\", \"@do.it\"]\n",
        "\n",
        "\n",
        "print(\"NAMES\")\n",
        "for name in names:\n",
        "    print(validate_name(name))\n",
        "\n",
        "print(\"PHONE NUMBERS\")\n",
        "for phone_number in phone_numbers:\n",
        "    print(validate_phone_number(phone_number))\n",
        "\n",
        "print(\"ZIP CODES\")\n",
        "for code in zip_codes:\n",
        "    print(validate_zip_code(code))\n",
        "\n",
        "print(\"EMAILS\")\n",
        "for email in emails:\n",
        "    print(validate_email(email))"
      ],
      "outputs": [
        {
          "output_type": "stream",
          "name": "stdout",
          "text": "NAMES\nTrue\nTrue\nFalse\nFalse\nFalse\nFalse\nPHONE NUMBERS\nTrue\nFalse\nFalse\nFalse\nFalse\nZIP CODES\nTrue\nFalse\nFalse\nFalse\nEMAILS\nTrue\nTrue\nFalse\nFalse\nFalse\n"
        }
      ],
      "execution_count": 4,
      "metadata": {}
    },
    {
      "cell_type": "markdown",
      "source": [
        "### Zadanie 2\n",
        "Napisz funkcję, która podzieli tekst na zdania. Zdanie kończy się kropką, znakiem zapytania lub wykrzyknikiem. Wykorzystaj pojedynczy pattern z wyrażeń regularnych.  "
      ],
      "metadata": {}
    },
    {
      "cell_type": "code",
      "source": [
        "# Solution 2\n",
        "\n",
        "def split_sentences(text):\n",
        "    sentences = re.split(r'(?<=[.!?])\\s+', text.strip())\n",
        "    return sentences\n",
        "\n",
        "text = 'Jestem bardzo zmęczony. Czy dzisiaj się wyśpie? Nie! Oby jutro się udało.'\n",
        "result = split_sentences(text)\n",
        "\n",
        "for sentence in result:\n",
        "    print(sentence)"
      ],
      "outputs": [
        {
          "output_type": "stream",
          "name": "stdout",
          "text": "Jestem bardzo zmęczony.\nCzy dzisiaj się wyśpie?\nNie!\nOby jutro się udało.\n"
        }
      ],
      "execution_count": 6,
      "metadata": {}
    },
    {
      "cell_type": "markdown",
      "source": [
        "### Zadanie 3\n",
        "Napisz funkcję, który znajdzie w tekście jak największą liczbę wulgaryzmów i zastąpi je ciągiem znaków \"---\" (i zwróci tekst bez wulgaryzmów). Użyj wyrażeń regularnych. Pamiętaj, że wulgaryzmy odmieniają się przez przypadki oraz tworzy się z nich czasowniki, które również można uznać za wulgaryzmy. Przetestuj program na prawdziwym tekście (minimum 500 znaków) zawierającym różne wulgaryzmy (np. jakaś wypowiedź z forum internetowego)."
      ],
      "metadata": {}
    },
    {
      "cell_type": "code",
      "source": [
        "import re\n",
        "\n",
        "def censor_text(text):\n",
        "    problematic_words = [\n",
        "        r'\\bkurw[ayieo]+\\b',\n",
        "        r'\\bspierdal[aąe][ććłiaąę]*\\b',\n",
        "        r'\\bpierd[oó][lł][ićiaąe]*\\b',\n",
        "        r'\\bsuk[aięoą]\\b',\n",
        "        r'\\bchuj+[aieoy]*\\b',\n",
        "        r'\\bjeb[aąeęoł][ććiaąęło]*\\b',\n",
        "        r'\\b(?:zajeb|przejeb|wyjeb|podjeb|odjeb|dojeb|rozjeb|najeb|wjeb|jeb)[aąeęoćł][ććiaąęe]*\\b',\n",
        "        r'\\bzasran[yieąłę]+\\b',\n",
        "        r'\\bszmaciarz\\b',\n",
        "        r'\\bpieprz[yo][nśći]*\\b',\n",
        "        r'\\bzjeb[aąeęoćł][ććiaąęe]*\\b',\n",
        "        r'\\bkutas(?:y|em|a|owi|ie|ów|ami|ach)?\\b',\n",
        "        r'\\bpieprz(?:ony|ona|one|eni|onego|onemu|onych|onym)\\b',\n",
        "        r'\\bgówno(?:ami|ach|a|o|em)?\\b'\n",
        "    ]\n",
        "    pattern = re.compile('|'.join(problematic_words), re.IGNORECASE)\n",
        "    censored_text = pattern.sub('---', text)\n",
        "    \n",
        "    return censored_text\n",
        "\n",
        "text = \"\"\"\n",
        "Geralt: Jak się nie ma co się lubi, to się kradnie, co popadnie.\n",
        "Geralt Talar: – Bywaj. – Ja kurwa jestem, a nie bywam.\\n\n",
        "Geralt Casimir: – Bywaj, Casimir. Oby Eufemia do ciebie wróciła. – A, pies ją jebał. Mam tyle złota, że miłość mi do szczęścia niepotrzebna!\\n\n",
        "Geralt: Zawsze mogło być gorzej... Zawsze mogło być, kurwa, gorzej.\n",
        "Geralt: Jeśli masz wybierać między jednym złem a drugim, nie wybieraj w ogóle. A jeśli ktoś cię zmusi, powiedz, żeby spierdalał.\n",
        "Jaskier: Nawet jak ktoś ci wleje, to pamiętaj, że wciąż jesteś pieprzonym bardem, a barda się słucha! A nie obija!\n",
        "Geralt: Wiedźmin nie dyskutuje. Wiedźmin zabija potwory. A potem idzie się napić, bo, kurwa, ma dość tych gier.\n",
        "Zoltan: Życie jest jak smark – krótkie i lepkie jak chuj.\n",
        "Geralt: Jaskier, nie pieprz tyle, bo cię zaraz ktoś udusi, a ja nie będę go powstrzymywał.\n",
        "Zoltan: Jak mówisz, że się coś zrobi, to się to kurwa robi, a nie pierdoli trzy po trzy!\n",
        "Geralt: Nie mam ochoty grać w wasze zasrane gry. Mam dosyć tego bagna, w którym siedzę po uszy.\n",
        "Geralt: Yennefer! Kurwa, czy ty kiedykolwiek możesz po prostu powiedzieć, co myślisz, zamiast owijać w bawełnę?\n",
        "Geralt: Wiedźmin w żadnej sprawie nie ma szczęścia, ale zawsze, kurwa, znajdzie się jakiś łachudra, co mu powie, że to jego wina.\n",
        "Jaskier: Co z tego, że wyglądasz jak pieprzony król, skoro gówno to zmienia!\n",
        "Bandyta: Pies cię jebał!\n",
        "Chłop1 Chłop2: Te, siwy! Po co ci dwa miecze?! -Ciekawe, czy w spodniach też trzyma dwa kutasy.\n",
        "Strażnik: Problem... Dobre sobie. W czarnej dupie, kurwa, jesteśmy, a nie mamy \"problem\". Siedzi jakieś kudłate chuj wie co w lesie i napada na każdy jebany transport, jaki tu jedzie gościńcem. Kończą nam się już bełty, strzały, prowiant, no niedobrze jest. Wysłałem paru ludzi, żeby zobaczyli, co się dzieje... I nie wrócili.\n",
        "\"\"\"\n",
        "\n",
        "censored_output = censor_text(text)\n",
        "\n",
        "print(censored_output)\n"
      ],
      "outputs": [
        {
          "output_type": "stream",
          "name": "stdout",
          "text": "\nGeralt: Jak się nie ma co się lubi, to się kradnie, co popadnie.\nGeralt Talar: – Bywaj. – Ja --- jestem, a nie bywam.\n\nGeralt Casimir: – Bywaj, Casimir. Oby Eufemia do ciebie wróciła. – A, pies ją ---. Mam tyle złota, że miłość mi do szczęścia niepotrzebna!\n\nGeralt: Zawsze mogło być gorzej... Zawsze mogło być, ---, gorzej.\nGeralt: Jeśli masz wybierać między jednym złem a drugim, nie wybieraj w ogóle. A jeśli ktoś cię zmusi, powiedz, żeby ---.\nJaskier: Nawet jak ktoś ci wleje, to pamiętaj, że wciąż jesteś --- bardem, a barda się słucha! A nie obija!\nGeralt: Wiedźmin nie dyskutuje. Wiedźmin zabija potwory. A potem idzie się napić, bo, ---, ma dość tych gier.\nZoltan: Życie jest jak smark – krótkie i lepkie jak ---.\nGeralt: Jaskier, nie pieprz tyle, bo cię zaraz ktoś udusi, a ja nie będę go powstrzymywał.\nZoltan: Jak mówisz, że się coś zrobi, to się to --- robi, a nie --- trzy po trzy!\nGeralt: Nie mam ochoty grać w wasze --- gry. Mam dosyć tego bagna, w którym siedzę po uszy.\nGeralt: Yennefer! ---, czy ty kiedykolwiek możesz po prostu powiedzieć, co myślisz, zamiast owijać w bawełnę?\nGeralt: Wiedźmin w żadnej sprawie nie ma szczęścia, ale zawsze, ---, znajdzie się jakiś łachudra, co mu powie, że to jego wina.\nJaskier: Co z tego, że wyglądasz jak --- król, skoro --- to zmienia!\nBandyta: Pies cię ---!\nChłop1 Chłop2: Te, siwy! Po co ci dwa miecze?! -Ciekawe, czy w spodniach też trzyma dwa ---.\nStrażnik: Problem... Dobre sobie. W czarnej dupie, ---, jesteśmy, a nie mamy \"problem\". Siedzi jakieś kudłate --- wie co w lesie i napada na każdy jebany transport, jaki tu jedzie gościńcem. Kończą nam się już bełty, strzały, prowiant, no niedobrze jest. Wysłałem paru ludzi, żeby zobaczyli, co się dzieje... I nie wrócili.\n\n"
        }
      ],
      "execution_count": 64,
      "metadata": {}
    }
  ],
  "metadata": {
    "kernelspec": {
      "display_name": "Python 3",
      "language": "python",
      "name": "python3"
    },
    "language_info": {
      "codemirror_mode": {
        "name": "ipython",
        "version": 3
      },
      "file_extension": ".py",
      "mimetype": "text/x-python",
      "name": "python",
      "nbconvert_exporter": "python",
      "pygments_lexer": "ipython3",
      "version": "3.11.2"
    },
    "nteract": {
      "version": "nteract-front-end@1.0.0"
    }
  },
  "nbformat": 4,
  "nbformat_minor": 2
}