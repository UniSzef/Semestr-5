{
 "cells": [
  {
   "cell_type": "markdown",
   "metadata": {},
   "source": [
    "## Zajęcia 3: NLP w Linuxie\n",
    "\n",
    "W przypadku tych zajęć ćwiczeniowych, zadania należy rozwiązywać w Linuxie, natomiast komendy potrzebne do wykonania zadań proszę umieścić w tym Notebooku.\n",
    "\n",
    "Nie należy usuwać komórek z treścią zadań.\n",
    "\n",
    "W zadaniach 1-5 trzeba skorzystać z pliku \"names.txt\" (zawierającym imiona w języku polskim) w folderze Data\n"
   ]
  },
  {
   "cell_type": "markdown",
   "metadata": {},
   "source": [
    "### Zadanie 1\n",
    "Napisz polecenie, które posortuje alfabetycznie i wyświetli na wyjściu imiona z pliku names.txt (nie przejmujemy się polskimi znakami)"
   ]
  },
  {
   "cell_type": "code",
   "execution_count": 1,
   "metadata": {},
   "outputs": [
    {
     "ename": "SyntaxError",
     "evalue": "invalid syntax (540992455.py, line 2)",
     "output_type": "error",
     "traceback": [
      "\u001b[1;36m  Cell \u001b[1;32mIn[1], line 2\u001b[1;36m\u001b[0m\n\u001b[1;33m    sort names.txt\u001b[0m\n\u001b[1;37m         ^\u001b[0m\n\u001b[1;31mSyntaxError\u001b[0m\u001b[1;31m:\u001b[0m invalid syntax\n"
     ]
    }
   ],
   "source": [
    "# Solution 1\n",
    "sort names.txt"
   ]
  },
  {
   "cell_type": "markdown",
   "metadata": {},
   "source": [
    "### Zadanie 2\n",
    "Napisz polecenie, które posortuje imiona alfabetycznie w odwrotnej kolejności z pliku names.txt i zapisze je do pliku names_sort.txt (nie przejmujemy się polskimi znakami)"
   ]
  },
  {
   "cell_type": "code",
   "execution_count": null,
   "metadata": {},
   "outputs": [],
   "source": [
    "# Solution 2\n",
    "sort -r names.txt >sort.txt"
   ]
  },
  {
   "cell_type": "markdown",
   "metadata": {},
   "source": [
    "### Zadanie 3\n",
    "Napisz polecenie, które wypisze linie z przedziału 10-20 włącznie (łącznie 11 linii) z pliku names.txt\n"
   ]
  },
  {
   "cell_type": "code",
   "execution_count": 2,
   "metadata": {},
   "outputs": [],
   "source": [
    "# Solution 3\n",
    "sed -n '10,20p' names.txt"
   ]
  },
  {
   "cell_type": "markdown",
   "metadata": {},
   "source": [
    "### Zadanie 4\n",
    "\n",
    "Napisz polecenie, które zwróci liczbę imion kończących się na \"usz\" lub \"aw\" (czyli np. Tadeusz, lub Wiesław)"
   ]
  },
  {
   "cell_type": "code",
   "execution_count": 3,
   "metadata": {},
   "outputs": [],
   "source": [
    "# Solution 4\n",
    "grep -E 'usz|asz' names.txt "
   ]
  },
  {
   "cell_type": "markdown",
   "metadata": {},
   "source": [
    "### Zadanie 5\n",
    "Napisz polecenie, które zamieni wszystkie wystąpienia polskich liter na znak X"
   ]
  },
  {
   "cell_type": "code",
   "execution_count": 4,
   "metadata": {},
   "outputs": [],
   "source": [
    "# Solution 5\n",
    "sed 's/[ąćęłńóśźż]/X/g' names.txt"
   ]
  },
  {
   "cell_type": "markdown",
   "metadata": {},
   "source": [
    "### Zadanie 6\n",
    "\n",
    "Masz dwie listy słów: positive-words.txt i negative-words.txt, które zawierają słowa często kojarzone odpowiednio z pozytywnym i negatywnym wydźwiękiem (eng. sentiment). \n",
    "\n",
    "Twoim zadaniem jest napisanie skryptu bash, który wyświetli ile jest słów z plików negative-words.txt positive-words.txt oraz, czy ogólny wydźwięk tekstu jest \"Pozytywny\", \"Negatywny\", czy \"Neutralny\", w zależności od liczby słów (pozytywny, jeżeli liczba słów z pliku positive-words.txt jest większa od liczby słów z pliku negative-words.txt, neutralny jeżeli liczba jest równa i negatywny, gdy liczba słów z pliku positive-worsd.txt jest mniejsza od liczby słów).\n",
    "\n",
    "Przetestuj to na tekstach z plików example_text_1.txt oraz example_text_2.txt"
   ]
  },
  {
   "cell_type": "code",
   "execution_count": 5,
   "metadata": {},
   "outputs": [],
   "source": [
    "# Solution 6\n",
    "#!/bin/bash\n",
    "\n",
    "positive_words=\"positive-words.txt\"\n",
    "negative_words=\"negative-words.txt\"\n",
    "input_file=$1 \n",
    "\n",
    "# -o: output each match on a new line, -w: match whole words only (e.g., finds \"happy\" but not \"unhappy\"), -i: case-insensitive, -F: fixed string matching, -f \"$positive_words\": use patterns from 'positive_words' file.\n",
    "positive_words_count=$(grep -owiFf \"$positive_words\" \"$input_file\" | wc -l) \n",
    "negative_words_count=$(grep -owiFf \"$negative_words\" \"$input_file\" | wc -l)\n",
    "\n",
    "# -gt: arithmetic comparison operator for \"greater than\", # -lt: arithmetic comparison operator for \"less than\"\n",
    "if [ \"$positive_words_count\" -gt \"$negative_words_count\" ]; then \n",
    "    echo \"Pozytywny\"\n",
    "elif [ \"$positive_words_count\" -lt \"$negative_words_count\" ]; then\n",
    "    echo \"Negatywny\"\n",
    "else\n",
    "    echo \"Neutralny\"\n",
    "fi"
   ]
  }
 ],
 "metadata": {
  "kernelspec": {
   "display_name": "Python 3",
   "language": "python",
   "name": "python3"
  },
  "language_info": {
   "codemirror_mode": {
    "name": "ipython",
    "version": 3
   },
   "file_extension": ".py",
   "mimetype": "text/x-python",
   "name": "python",
   "nbconvert_exporter": "python",
   "pygments_lexer": "ipython3",
   "version": "3.11.2"
  }
 },
 "nbformat": 4,
 "nbformat_minor": 2
}
