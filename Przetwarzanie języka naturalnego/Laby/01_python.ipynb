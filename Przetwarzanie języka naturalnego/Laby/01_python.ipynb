{
 "cells": [
  {
   "cell_type": "markdown",
   "metadata": {},
   "source": [
    "## Zajęcia 1: Python\n",
    "\n",
    "Wszystkie zadania ćwiczeniowe należy rozwiązywać w języku Python w kopii Jupyter Notebook'a dla danych zajęć w wyznaczonych miejscach (komórki z komentarzem `# Solution`).\n",
    "\n",
    "Nie wolno usuwać komórek z treścią zadań.\n",
    "\n",
    "Należy wyświetlać outputy przy pomocy `print`\n",
    "\n",
    "#### Dla chętnych (niepunktowane)\n",
    "\n",
    "Sprawdzić stronę do rozwiązywania zadań [LeetCode](https://leetcode.com/). Lista 75 (Blind 75) lub 150 (NeetCode) wybranych zadań pozwalających na efektywne nauczenie się różnych zagadnień wraz z linkiem do materiału wyjaśniającego zadanie dostępne są na stronie [NeetCode](https://neetcode.io/practice)."
   ]
  },
  {
   "cell_type": "markdown",
   "metadata": {},
   "source": [
    "### Zadanie 1\n",
    "Stwórz następujące listy przy pomocy [Python List Comprehension](https://www.w3schools.com/Python/python_lists_comprehension.asp) zawierające:\n",
    "1. Kwadraty liczb całkowitych z przedziału [10, 20] włącznie\n",
    "2. Liczby nieparzyste z przedziału [40, 50] włącznie\n",
    "3. Wartości funkcji 3x-4 dla liczb całkowitych z przedziału [-5, 5] włącznie\n",
    "4. Napisy \"Rok: (liczba)\" dla liczb całkowitych z przedziału 2020-2025 (skorzystaj z [fstring](https://www.w3schools.com/python/python_string_formatting.asp))"
   ]
  },
  {
   "cell_type": "markdown",
   "metadata": {},
   "source": []
  },
  {
   "cell_type": "code",
   "execution_count": 6,
   "metadata": {},
   "outputs": [],
   "source": [
    "# Solution 1"
   ]
  },
  {
   "cell_type": "markdown",
   "metadata": {},
   "source": [
    "### Zadanie 2\n",
    "Na podstawie tekstu ze zmiennej `text`, wykonaj następujące zadania:\n",
    "1. Wyświetl długość (ilość znaków) tekstu\n",
    "2. Wypisz 5 najczęściej występujących liter wraz z liczbą wystąpień (można skorzystać z narzędzia [Counter](https://docs.python.org/3/library/collections.html#counter-objects))\n",
    "3. Wyświetl tekst ze zmiennej `text` bez samogłosek\n",
    "4. Wyświetl tekst ze zmiennej `text` bez spółgłosek"
   ]
  },
  {
   "cell_type": "code",
   "execution_count": null,
   "metadata": {},
   "outputs": [],
   "source": [
    "# źródło tekstu: Wikipedia\n",
    "text = \"Dziobak (Ornithorhynchus anatinus) – prowadzący częściowo wodny tryb życia endemiczny dla wschodnich stanów Australii (w tym Tasmanii) gatunek ssaka z grupy stekowców, jedynych członków tej gromady składających jaja. Jest ostatnim istniejącym do dziś przedstawicielem swego rodzaju i rodziny, choć znaleziono skamieniałości licznych przedstawicieli tych taksonów.\""
   ]
  },
  {
   "cell_type": "code",
   "execution_count": null,
   "metadata": {},
   "outputs": [],
   "source": [
    "# Solution 2\n",
    "from typing import Counter\n",
    "\n",
    "\n",
    "solution_1 = len(text)\n",
    "cnt = Counter()\n",
    "for word in ['red', 'blue', 'red', 'green', 'blue', 'blue']:\n",
    "    cnt[word] += 1"
   ]
  },
  {
   "cell_type": "markdown",
   "metadata": {},
   "source": [
    "### Zadanie 3\n",
    "\n",
    "Napisz funkcję, która wstawia polskie tłumaczenia wyrazów w danym tekście dla podanego słownika.\n",
    "Czyli np. dla słownika:\n",
    "* dogs -> psy\n",
    "* cats -> koty\n",
    "* horses -> konie\n",
    "* woda -> water\n",
    "\n",
    "Oraz tekstu \"I like dogs more than cats, but cows are the best!\n",
    "\n",
    "Funkcja powinna zwrócić tekst:\n",
    "\n",
    "\"I like psy more than koty, but cows are the best!\"\n",
    "\n",
    "Zdefiniuj słownik dla minimum 5 słów oraz dwa przykładowe teksty o długości między 30 a 50 znaków i wypisz outputy funkcji dla przykładowych tekstów."
   ]
  },
  {
   "cell_type": "code",
   "execution_count": 8,
   "metadata": {},
   "outputs": [],
   "source": [
    "# Solution 3\n",
    "\n",
    "def translate_to_polish(text, dictionary):\n",
    "    pass"
   ]
  }
 ],
 "metadata": {
  "kernelspec": {
   "display_name": "base",
   "language": "python",
   "name": "python3"
  },
  "language_info": {
   "codemirror_mode": {
    "name": "ipython",
    "version": 3
   },
   "file_extension": ".py",
   "mimetype": "text/x-python",
   "name": "python",
   "nbconvert_exporter": "python",
   "pygments_lexer": "ipython3",
   "version": "3.11.2"
  }
 },
 "nbformat": 4,
 "nbformat_minor": 2
}
