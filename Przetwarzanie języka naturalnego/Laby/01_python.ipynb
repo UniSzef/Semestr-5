{
 "cells": [
  {
   "cell_type": "markdown",
   "metadata": {},
   "source": [
    "## Zajęcia 1: Python\n",
    "\n",
    "Wszystkie zadania ćwiczeniowe należy rozwiązywać w języku Python w kopii Jupyter Notebook'a dla danych zajęć w wyznaczonych miejscach (komórki z komentarzem `# Solution`).\n",
    "\n",
    "Nie wolno usuwać komórek z treścią zadań.\n",
    "\n",
    "Należy wyświetlać outputy przy pomocy `print`\n",
    "\n",
    "#### Dla chętnych (niepunktowane)\n",
    "\n",
    "Sprawdzić stronę do rozwiązywania zadań [LeetCode](https://leetcode.com/). Lista 75 (Blind 75) lub 150 (NeetCode) wybranych zadań pozwalających na efektywne nauczenie się różnych zagadnień wraz z linkiem do materiału wyjaśniającego zadanie dostępne są na stronie [NeetCode](https://neetcode.io/practice)."
   ]
  },
  {
   "cell_type": "markdown",
   "metadata": {},
   "source": [
    "### Zadanie 1\n",
    "Stwórz następujące listy przy pomocy [Python List Comprehension](https://www.w3schools.com/Python/python_lists_comprehension.asp) zawierające:\n",
    "1. Kwadraty liczb całkowitych z przedziału [10, 20] włącznie\n",
    "2. Liczby nieparzyste z przedziału [40, 50] włącznie\n",
    "3. Wartości funkcji 3x-4 dla liczb całkowitych z przedziału [-5, 5] włącznie\n",
    "4. Napisy \"Rok: (liczba)\" dla liczb całkowitych z przedziału 2020-2025 (skorzystaj z [fstring](https://www.w3schools.com/python/python_string_formatting.asp))"
   ]
  },
  {
<<<<<<< HEAD
   "cell_type": "markdown",
   "metadata": {},
   "source": []
  },
  {
   "cell_type": "code",
   "execution_count": 6,
   "metadata": {},
   "outputs": [],
   "source": [
    "# Solution 1"
=======
   "cell_type": "code",
   "execution_count": 22,
   "metadata": {},
   "outputs": [
    {
     "name": "stdout",
     "output_type": "stream",
     "text": [
      "[100, 121, 144, 169, 196, 225, 256, 289, 324, 361, 400]\n",
      "[41, 43, 45, 47, 49]\n",
      "[-19, -16, -13, -10, -7, -4, -1, 2, 5, 8, 11]\n",
      "['Rok: 2020', 'Rok: 2021', 'Rok: 2022', 'Rok: 2023', 'Rok: 2024', 'Rok: 2025']\n"
     ]
    }
   ],
   "source": [
    "# Solution 1\n",
    "list_one = [x*x for x in range(10,21)]\n",
    "print(list_one)\n",
    "\n",
    "list_two = [x for x in range(40, 51) if x % 2 == 1]\n",
    "print(list_two)\n",
    "\n",
    "list_three = [(3*x - 4) for x in range(-5,6)]\n",
    "print(list_three)\n",
    "\n",
    "list_four = [f\"Rok: {rok}\" for rok in range(2020,2026)]\n",
    "print(list_four)"
>>>>>>> c547c1f6b84c72c4a7395aca253fca4f8bff3587
   ]
  },
  {
   "cell_type": "markdown",
   "metadata": {},
   "source": [
    "### Zadanie 2\n",
    "Na podstawie tekstu ze zmiennej `text`, wykonaj następujące zadania:\n",
    "1. Wyświetl długość (ilość znaków) tekstu\n",
    "2. Wypisz 5 najczęściej występujących liter wraz z liczbą wystąpień (można skorzystać z narzędzia [Counter](https://docs.python.org/3/library/collections.html#counter-objects))\n",
    "3. Wyświetl tekst ze zmiennej `text` bez samogłosek\n",
    "4. Wyświetl tekst ze zmiennej `text` bez spółgłosek"
   ]
  },
  {
   "cell_type": "code",
<<<<<<< HEAD
   "execution_count": null,
=======
   "execution_count": 7,
>>>>>>> c547c1f6b84c72c4a7395aca253fca4f8bff3587
   "metadata": {},
   "outputs": [],
   "source": [
    "# źródło tekstu: Wikipedia\n",
    "text = \"Dziobak (Ornithorhynchus anatinus) – prowadzący częściowo wodny tryb życia endemiczny dla wschodnich stanów Australii (w tym Tasmanii) gatunek ssaka z grupy stekowców, jedynych członków tej gromady składających jaja. Jest ostatnim istniejącym do dziś przedstawicielem swego rodzaju i rodziny, choć znaleziono skamieniałości licznych przedstawicieli tych taksonów.\""
   ]
  },
  {
   "cell_type": "code",
<<<<<<< HEAD
   "execution_count": null,
   "metadata": {},
   "outputs": [],
=======
   "execution_count": 10,
   "metadata": {},
   "outputs": [
    {
     "name": "stdout",
     "output_type": "stream",
     "text": [
      "363\n",
      "[('i', 27), ('a', 26), ('n', 21), ('c', 21), ('o', 20)]\n",
      "Dzbk (rnthrhnchs ntns) – prwdząc częścw wdn trb żc ndmczn dl wschdnch stnów strl (w tm Tsmn) gtnk ssk z grp stkwców, jdnch człnków tj grmd skłdjącch jj. Jst sttnm stnjącm d dzś przdstwclm swg rdzj  rdzn, chć znlzn skmnłśc lcznch przdstwcl tch tksnów.\n",
      "ioaOioyuaaiuoayioooyyyiaeeiyaoiaAuaiiyaaiiaueaauyeoeyyoeoayaayaaeoaiiieyoieaiieeeooauioiyoaeiooaieiaoiiyeaiieiyao\n"
     ]
    }
   ],
>>>>>>> c547c1f6b84c72c4a7395aca253fca4f8bff3587
   "source": [
    "# Solution 2\n",
    "from typing import Counter\n",
    "\n",
<<<<<<< HEAD
    "\n",
    "solution_1 = len(text)\n",
    "cnt = Counter()\n",
    "for word in ['red', 'blue', 'red', 'green', 'blue', 'blue']:\n",
    "    cnt[word] += 1"
=======
    "#1.\n",
    "print(len(text)) \n",
    "\n",
    "#2.\n",
    "text_strip = ''.join(filter(lambda x: not x.isspace(), text)) \n",
    "cnt = Counter(text_strip) \n",
    "most_common_letters = cnt.most_common(5)\n",
    "print(most_common_letters)\n",
    "\n",
    "#3\n",
    "vowels = ['a', 'e', 'i', 'o', 'u', 'y', 'A', 'E', 'I', 'O', 'U', 'Y']\n",
    "text_with_no_vowels = ''.join([letter for letter in text if letter not in vowels])\n",
    "print(text_with_no_vowels)\n",
    "\n",
    "#4\n",
    "text_with_no_consonants  = ''.join([letter for letter in text if letter in vowels])\n",
    "print(text_with_no_consonants)"
>>>>>>> c547c1f6b84c72c4a7395aca253fca4f8bff3587
   ]
  },
  {
   "cell_type": "markdown",
   "metadata": {},
   "source": [
    "### Zadanie 3\n",
    "\n",
    "Napisz funkcję, która wstawia polskie tłumaczenia wyrazów w danym tekście dla podanego słownika.\n",
    "Czyli np. dla słownika:\n",
    "* dogs -> psy\n",
    "* cats -> koty\n",
    "* horses -> konie\n",
    "* woda -> water\n",
    "\n",
    "Oraz tekstu \"I like dogs more than cats, but cows are the best!\n",
    "\n",
    "Funkcja powinna zwrócić tekst:\n",
    "\n",
    "\"I like psy more than koty, but cows are the best!\"\n",
    "\n",
    "Zdefiniuj słownik dla minimum 5 słów oraz dwa przykładowe teksty o długości między 30 a 50 znaków i wypisz outputy funkcji dla przykładowych tekstów."
   ]
  },
  {
   "cell_type": "code",
<<<<<<< HEAD
   "execution_count": 8,
   "metadata": {},
   "outputs": [],
   "source": [
    "# Solution 3\n",
    "\n",
    "def translate_to_polish(text, dictionary):\n",
    "    pass"
   ]
=======
   "execution_count": 2,
   "metadata": {},
   "outputs": [
    {
     "name": "stdout",
     "output_type": "stream",
     "text": [
      "I like psy more than koty, but cows are the best!\n",
      "Les klasyki du rocka une muzyka qui ne umiera nigdy!\n",
      "Il mio współlokator è un brudas totalny! Non sprząta nigdy l'appartamento e zostawia sempre tutto in bałagan.\n"
     ]
    }
   ],
   "source": [
    "# Solution 3\n",
    "import re\n",
    "\n",
    "\n",
    "def translate_to_polish(text, dictionary):\n",
    "    for pattern, replacement in dictionary.items():\n",
    "        text = re.sub(pattern, replacement, text)\n",
    "    return text\n",
    "#og\n",
    "text = \"I like dogs more than cats, but cows are the best!\"\n",
    "dictionary = {\n",
    "    r'\\bdogs\\b' : 'psy',\n",
    "    r'\\bcats\\b' : 'koty',\n",
    "    r'\\bhorses\\b' : 'konie',\n",
    "    r'\\bwoda\\b' : 'water'\n",
    "}\n",
    "\n",
    "text1 = \"Les classiques du rock une musique qui ne meurt jamais!\"\n",
    "dictionary1 = {\n",
    "    r'\\bclassiques\\b': 'klasyki',\n",
    "    r'\\brock\\b': 'rocka',\n",
    "    r'\\bmusique\\b': 'muzyka',\n",
    "    r'\\bmeurt\\b': 'umiera',\n",
    "    r'\\bjamais\\b': 'nigdy'\n",
    "}\n",
    "\n",
    "text2 = \"Il mio coinquilino è un disordinato totale! Non pulisce mai l'appartamento e lascia sempre tutto in disordine.\"\n",
    "dictionary2 = {\n",
    "     r'\\bcoinquilino\\b': 'współlokator',\n",
    "    r'\\bdisordinato\\b': 'brudas',\n",
    "    r'\\btotale\\b': 'totalny',\n",
    "    r'\\bpulisce\\b': 'sprząta',\n",
    "    r'\\bmai\\b': 'nigdy',\n",
    "    r'\\blascia\\b': 'zostawia',\n",
    "    r'\\bdisordine\\b': 'bałagan'\n",
    "}\n",
    "translated_text = translate_to_polish(text, dictionary)\n",
    "print(translated_text)\n",
    "translated_text = translate_to_polish(text1, dictionary1)\n",
    "print(translated_text)\n",
    "translated_text = translate_to_polish(text2, dictionary2)\n",
    "print(translated_text)"
   ]
  },
  {
   "cell_type": "code",
   "execution_count": null,
   "metadata": {},
   "outputs": [],
   "source": []
>>>>>>> c547c1f6b84c72c4a7395aca253fca4f8bff3587
  }
 ],
 "metadata": {
  "kernelspec": {
<<<<<<< HEAD
   "display_name": "base",
=======
   "display_name": "Python 3",
>>>>>>> c547c1f6b84c72c4a7395aca253fca4f8bff3587
   "language": "python",
   "name": "python3"
  },
  "language_info": {
   "codemirror_mode": {
    "name": "ipython",
    "version": 3
   },
   "file_extension": ".py",
   "mimetype": "text/x-python",
   "name": "python",
   "nbconvert_exporter": "python",
   "pygments_lexer": "ipython3",
<<<<<<< HEAD
   "version": "3.11.2"
=======
   "version": "3.10.11"
>>>>>>> c547c1f6b84c72c4a7395aca253fca4f8bff3587
  }
 },
 "nbformat": 4,
 "nbformat_minor": 2
}
