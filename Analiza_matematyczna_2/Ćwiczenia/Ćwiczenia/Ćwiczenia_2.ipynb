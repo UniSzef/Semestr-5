{
 "cells": [
  {
   "cell_type": "markdown",
   "id": "4cc6c96f",
   "metadata": {},
   "source": [
    "# Ćwiczenia 2"
   ]
  },
  {
   "cell_type": "markdown",
   "id": "1276423e",
   "metadata": {},
   "source": [
    "***TEMAT:*** Szeregi potęgowe"
   ]
  },
  {
   "cell_type": "markdown",
   "id": "a92c3fcc",
   "metadata": {},
   "source": [
    "## Wzór Cauchy'ego-Hadamarda"
   ]
  },
  {
   "cell_type": "markdown",
   "id": "cd1dc617",
   "metadata": {},
   "source": [
    "### Twierdzenie (Cauchy'ego-Hadamarda)\n",
    "\n",
    "Dla szeregu potęgowego \n",
    "$$\n",
    "\\sum_{n=0}^\\infty a_n(z-z_0)^n \\quad\\quad (\\star)\n",
    "$$\n",
    "niech \n",
    "$$\n",
    "\\lambda=\\limsup_{n\\to\\infty}\\sqrt[n]{|a_n|}\n",
    "$$\n",
    "i niech \n",
    "\n",
    "$$\n",
    "R=\\begin{cases}\n",
    "\\frac{1}{\\lambda},& 0<\\lambda<\\infty,\\\\\n",
    "0, & \\lambda=\\infty\\\\\n",
    "\\infty, & \\lambda=0. \n",
    "\\end{cases}\n",
    "$$\n",
    "Szereg w $(\\star)$ jest zbieżnych dla wszystkich $z\\in\\mathbb{C}$ takich, że $|z-z_0|<R$ i rozbieżny dla wszystkich \n",
    "$z\\in\\mathbb{C}$ takich, że $|z-z_0|>R$.\n",
    "\n",
    "***Uwagi:***\n",
    "1. Szereg w $(\\star)$ jest zawsze zbieżny dla $z=z_0$.\n",
    "2. Liczbę $R$ (z oczywistych względów) nazywa się promieniem zbieżności szeregu potęgowego.\n",
    "3. Nie jest jasne zachowanie szeregu potęgowego dla tych $z$ dla których $|z-z_0|=R$.\n",
    "4. Jeśli granica $\\displaystyle \\lim_{n\\to\\infty}\\left|\\frac{a_{n+1}}{a_n}\\right|$ istnieje, to jest równa $\\lambda$."
   ]
  },
  {
   "cell_type": "markdown",
   "id": "22ba9f05",
   "metadata": {},
   "source": [
    "#### Zadanie 1\n",
    "\n",
    "Zbadamy zbieżność szeregu potęgowego\n",
    "\n",
    "$$\n",
    "\\sum_{n=0}^\\infty z^n.\n",
    "$$"
   ]
  },
  {
   "cell_type": "markdown",
   "id": "d301e8b0",
   "metadata": {},
   "source": [
    "##### Rozwiązanie:\n",
    "W zadaniu tym $a_n=1$ i $z_0=0$. Zatem $\\lambda=1$ a więc i $R=1$.\n",
    "Szereg jest zatem zbieżny dla $z\\in\\mathbb{C}$ takich, że $|z|<1$ i rozbieżny dla tych $z$, dla których $|z|>1$.\n",
    "Ponadto jest jasne, że dla $z$ takich, że $|z|=1$ szereg nie jest zbieżny bo nie spełnia warunku koniecznego zbieżności szeregów."
   ]
  },
  {
   "cell_type": "markdown",
   "id": "b375c3ed",
   "metadata": {},
   "source": [
    "#### Zadanie 2\n",
    "\n",
    "Zbadamy zbieżność szeregu potęgowego\n",
    "\n",
    "$$\n",
    "\\sum_{n=0}^\\infty \\frac{z^n}{n!}.\n",
    "$$"
   ]
  },
  {
   "cell_type": "markdown",
   "id": "97191dfa",
   "metadata": {},
   "source": [
    "##### Rozwiązanie:\n",
    "\n",
    "W zadaniu tym $a_n=\\frac{1}{n!}$ i $z_0=0$. Mamy\n",
    "$$\n",
    "\\lim_{n\\to\\infty} \\left|\\frac{a_{n+1}}{a_n}\\right|=\\lim_{n\\to\\infty}\\frac{1}{n+1}=0.\n",
    "$$\n",
    "\n",
    "Zatem $\\lambda=0$ a więc $R=\\infty$. Stąd szereg jest zbieżny dla wszystkich $z\\in\\mathbb{C}$.\n"
   ]
  },
  {
   "cell_type": "markdown",
   "id": "6c20d350",
   "metadata": {},
   "source": [
    "#### Zadanie 3\n",
    "\n",
    "\n",
    "Zbadamy zbieżność szeregu potęgowego\n",
    "\n",
    "$$\n",
    "\\sum_{n=1}^\\infty \\frac{z^n}{n}.\n",
    "$$"
   ]
  },
  {
   "cell_type": "markdown",
   "id": "4890cd5c",
   "metadata": {},
   "source": [
    "##### Rozwiązanie:\n",
    "\n",
    "W zadaniu tym $a_n=\\frac{1}{n}$ i $z_0=0$. Mamy\n",
    "$$\n",
    "\\lim_{n\\to\\infty} \\left|\\frac{a_{n+1}}{a_n}\\right|=\\lim_{n\\to\\infty}\\frac{n}{n+1}=1.\n",
    "$$\n",
    "\n",
    "Zatem $\\lambda=1$ a więc $R=1$. Stąd szereg jest zbieżny dla $z\\in\\mathbb{C}$ takich, że $|z|<1$ i rozbieżny dla tych $z$, dla których $|z|>1$.\n",
    "Jeśli $z=1$, to otrzymujemy szereg \n",
    "$$\n",
    "\\sum_{n=1}^\\infty \\frac{1}{n},\n",
    "$$\n",
    "który jest rozbieżny. \n",
    "\n",
    "Jeśli $|z|=1$ i $z\\not=1$, to proste zastosowanie poniższego kryterium ($b_n=1/n$, $a_n=z^n$) daje, że szereg jest wtedy zbieżny.\n",
    "\n",
    "***Kryterium Dirichleta***\n",
    "\n",
    "Jeżeli ciąg liczb rzeczywistych (b_n) maleje do zera a sumy częsciowe szeregu $\\sum_{n=1}^\\infty a_n$ tworzą ciąg ograniczony, to szereg \n",
    "$$\n",
    "\\sum_{n=1}^\\infty a_nb_n\n",
    "$$\n",
    "jest zbieżny."
   ]
  },
  {
   "cell_type": "markdown",
   "id": "b8fc236e",
   "metadata": {},
   "source": [
    "#### Zadanie 4\n",
    "\n",
    "Zbadamy zbieżność szeregu potęgowego\n",
    "\n",
    "$$\n",
    "\\sum_{n=1}^\\infty \\frac{(-1)^n}{(2n+1)!}z^{2n+1}.\n",
    "$$"
   ]
  },
  {
   "cell_type": "markdown",
   "id": "e232d4a2",
   "metadata": {},
   "source": [
    "##### Rozwiązanie:\n",
    "\n",
    "Szereg ten jest oczywiście zbieżny dla $z=0$. Niech zatem $z\\not=0$ i niech \n",
    "\n",
    "$$\n",
    "a_n=\\frac{(-1)^n}{(2n+1)!}z^{2n+1}.\n",
    "$$\n",
    "Mamy\n",
    "$$\n",
    "\\lim_{n\\to\\infty}\\left|\\frac{a_{n+1}}{a_n}\\right|=\\lim_{n\\to\\infty}\\frac{1}{(2n+2)(2n+3)}|z^2|=0.\n",
    "$$\n",
    "Zatem dla $z\\not= 0$ nasz szereg jest zbieżny na mocy kryterium ilorazowego, jest zatem zbieżny dla $z\\in\\mathbb{C}$."
   ]
  },
  {
   "cell_type": "markdown",
   "id": "5dc36cb9",
   "metadata": {},
   "source": [
    "## Wzór Eulera"
   ]
  },
  {
   "cell_type": "markdown",
   "id": "5874d7ad",
   "metadata": {},
   "source": [
    "#### Zadanie 5 \n",
    "\n",
    "Uzasadnimy, że dla wszystkich $z\\in\\mathbb{C}$ mamy\n",
    "\n",
    "$$\n",
    "e^{iz}=\\cos z +i\\sin z.\n",
    "$$"
   ]
  },
  {
   "cell_type": "markdown",
   "id": "a6402f17",
   "metadata": {},
   "source": [
    "##### Rozwiązanie:\n",
    "\n",
    "Wiemy (tak się definiuje te funkcje!), że każdego $z\\in\\mathbb{C}$ mamy\n",
    "\n",
    "$$\n",
    "e^{z}=\\sum_{n=0}^\\infty \\frac{z^n}{n!},\\quad \\cos{z}=\\sum_{n=0}^\\infty \\frac{(-1)^n}{(2n)!}z^{2n} \\text{ oraz }\n",
    "\\sin{z}=\\sum_{n=0}^\\infty \\frac{(-1)^n}{(2n+1)!}z^{2n+1}.\n",
    "$$\n",
    "\n",
    "Stąd\n",
    "\n",
    "$$\n",
    "e^{iz}=\\sum_{n=0}^\\infty \\frac{(iz)^n}{n!}=\\sum_{n=0}^\\infty \\frac{(iz)^{2n}}{(2n)!}+ \\sum_{n=0}^\\infty \\frac{(iz)^{2n+1}}{(2n+1)!}.\n",
    "$$\n",
    "\n",
    "Ale\n",
    "\n",
    "$$\n",
    "(iz)^{2n}=(-1)^nz^{2n} \\text{ oraz } (iz)^{2n+1}=i(-1)^nz^{2n+1}.\n",
    "$$\n",
    "\n",
    "Zatem \n",
    "\n",
    "$$\n",
    "e^{iz}=\\sum_{n=0}^\\infty \\frac{(-1)^n}{(2n)!}z^{2n}+i\\sum_{n=0}^\\infty \\frac{(-1)^n}{(2n+1)!}z^{2n+1}=\\cos z+ i\\sin z.\n",
    "$$\n"
   ]
  },
  {
   "cell_type": "markdown",
   "id": "f94f4677",
   "metadata": {},
   "source": [
    "## Zastosowania"
   ]
  },
  {
   "cell_type": "markdown",
   "id": "3e1ee0e2",
   "metadata": {},
   "source": [
    "\n",
    "Wiadomo, że jeśli  szereg potęgowy\n",
    "$$\n",
    "f(x)=\\sum_{n=0}^\\infty a_n(x-x_0)^n\n",
    "$$\n",
    "ma niezerowy promień zbieżności, to \n",
    "dla każdego $n\\in\\mathbb{N}$ mamy\n",
    "$$\n",
    "f^{(n)}(x_0)=n!a_n.\n",
    "$$"
   ]
  },
  {
   "cell_type": "markdown",
   "id": "f9787dae",
   "metadata": {},
   "source": [
    "#### Zadanie 6"
   ]
  },
  {
   "cell_type": "markdown",
   "id": "efc5eeaa",
   "metadata": {},
   "source": [
    "Funkcję $f(x)=e^{-3x^2}$ rozwiniemy w szereg potęgowy o środku w $x_0=0$. Wykonane obliczenia wykorzystamy do obliczenia \n",
    "$f^{(31)}(0)$ i $f^{(32)}(0)$."
   ]
  },
  {
   "cell_type": "markdown",
   "id": "3caacd4c",
   "metadata": {},
   "source": [
    "##### Rozwiązanie:\n",
    "Wiemy, że dla każdego $x\\in\\mathbb{R}$ mamy\n",
    "$$\n",
    "e^x=\\sum_{n=0}^\\infty\\frac{x^n}{n!}.\n",
    "$$\n",
    "Zatem dla każdego $x\\in\\mathbb{R}$\n",
    "$$\n",
    "e^{-3x^2}=\\sum_{n=0}^\\infty\\frac{(-3)^n}{n!}x^{2n}.\n",
    "$$\n",
    "Wiemy, że współczynnik przy $x^{31}$ jest równy $\\frac{f^{(31)}(0)}{31!}$.\n",
    "Ponieważ współczynnik przy $x^{31}$ jest równy $0$, to \n",
    "$$\n",
    "f^{(31)}(0)=0.\n",
    "$$\n",
    "Wiemy, że współczynnik przy $x^{32}$ jest równy $\\frac{f^{(32)}(0)}{32!}$.\n",
    "Ponieważ współczynnik przy $x^{32}$ jest równy $\\frac{3^{16}}{16!}$, to \n",
    "$$\n",
    "f^{(32)}(0)=\\frac{3^{16}\\cdot32!}{16!}.\n",
    "$$"
   ]
  },
  {
   "cell_type": "markdown",
   "id": "6979ceeb",
   "metadata": {},
   "source": [
    "#### Zadanie 7\n",
    "\n",
    "Funkcję $f(x)=\\frac{x}{1+x^2}$ rozwiniemy w szereg potęgowy o środku w $x_0=0$. Wykonane  obliczenia wykorzystamy do obliczenia\n",
    "$f^{(49)}(0)$."
   ]
  },
  {
   "cell_type": "markdown",
   "id": "fbff1b9d",
   "metadata": {},
   "source": [
    "##### Rozwiązanie:\n",
    "Korzystając ze wzoru na sumę szeregu geometrycznego otrzymujemy, że dla $x\\in(-1,1)$ mamy\n",
    "$$f(x)=x\\cdot\\frac{1}{1+x^2}=x\\cdot\\frac{1}{1-(-x^2)}=\\sum_{n=0}^\\infty (-1)^nx^{2n+1}.$$\n",
    "Wiemy, że współczynnik przy $x^{49}$ jest równy $\\frac{f^{(49)}(0)}{49!}$.\n",
    "Ponieważ współczynnik przy $x^{49}$ jest równy $1$, to \n",
    "$$\n",
    "f^{(49)}(0)=49!.\n",
    "$$"
   ]
  },
  {
   "cell_type": "markdown",
   "id": "7642185c",
   "metadata": {},
   "source": [
    "#### Zadanie 8"
   ]
  },
  {
   "cell_type": "markdown",
   "id": "4f313327",
   "metadata": {},
   "source": [
    "Za pomocą poznanej teorii szeregów potęgowych obliczymy\n",
    "$$\n",
    "\\sum_{n=1}^\\infty \\frac{n2^n}{3^n}.\n",
    "$$"
   ]
  },
  {
   "cell_type": "markdown",
   "id": "b435eafa",
   "metadata": {},
   "source": [
    "##### Rozwiązanie:\n",
    "\n",
    "Niech $$f(x)=\\sum_{n=1}^\\infty x^n.$$\n",
    "Szereg ten jest zbieżny dla $x\\in(-1,1)$.\n",
    "Dla  $x\\in(-1,1)$ \n",
    "ze wzoru na sumę szegu geometrycznego mamy\n",
    "$$\n",
    "f(x)=\\frac{x}{1-x}.\n",
    "$$\n",
    "Dla  $x\\in(-1,1)$ mamy\n",
    "$$\n",
    "f'(x)=\\frac{1}{(1-x)^2}.\n",
    "$$\n",
    "Z drugiej strony dla \n",
    "$x\\in(-1,1)$ mamy\n",
    "$$\n",
    "f'(x)=\\sum_{n=1}^\\infty nx^{n-1}.\n",
    "$$\n",
    "Stąd dla $x\\in(-1,1)$ \n",
    "$$\n",
    "\\frac{1}{(1-x)^2}=\\sum_{n=1}^\\infty nx^{n-1}.\n",
    "$$\n",
    "W szczególności dla $x=2/3$\n",
    "otrzymujemy, że \n",
    "$$\n",
    "9=\\frac{1}{(1-2/3)^2}=\\sum_{n=1}^\\infty n\\left(\\frac{2}{3}\\right)^{n-1}.\n",
    "$$\n",
    "Zatem\n",
    "$$\n",
    "\\sum_{n=1}^\\infty n \\left(\\frac{2}{3}\\right)^{n}=\\frac{2}{3}\\sum_{n=1}^\\infty n\\left(\\frac{2}{3}\\right)^{n-1}=6.\n",
    "$$"
   ]
  },
  {
   "cell_type": "markdown",
   "id": "b3ae76a1",
   "metadata": {},
   "source": [
    "#### Zadanie 9\n",
    "\n",
    "Za pomocą poznanej teorii szeregów potęgowych obliczymy\n",
    "$$\n",
    "\\sum_{n=0}^\\infty \\frac{(-1)^n}{(2n+1)\\cdot3^n}.\n",
    "$$"
   ]
  },
  {
   "cell_type": "markdown",
   "id": "e9929465",
   "metadata": {},
   "source": [
    "##### Rozwiązanie:\n",
    "\n",
    "Ze wzoru na sumę szeregu geometrycznego wynika, że dla wszystkich $x\\in (-1,1)$\n",
    "\n",
    "$$\n",
    "f(x)=\\sum_{n=0}^\\infty (-1)^nx^{2n}=\\sum_{n=0}^\\infty (-x^2)^n=\\frac{1}{1+x^2}.\n",
    "$$\n",
    "\n",
    "Dla dowolnego $t\\in (-1,1)$ mamy\n",
    "$$\n",
    "\\int_0^t f(x)dx=\\int_0^t\\frac{1}{1+x^2}dx=\\operatorname{arctg} t.\n",
    "$$\n",
    "Z drugiej strony dla każdego \n",
    "$t\\in (-1,1)$ mamy\n",
    "$$\n",
    "\\int_0^t f(x)dx=\\sum_{n=0}^\\infty \\int_0^t(-1)^nx^{2n} dx=\\sum_{n=0}^\\infty \\frac{(-1)^n}{2n+1}t^{2n+1}.\n",
    "$$\n",
    "Zatem dla  $t\\in (-1,1)$ mamy\n",
    "$$\n",
    "\\operatorname{arctg} t=\\sum_{n=0}^\\infty \\frac{(-1)^n}{2n+1}t^{2n+1}.\n",
    "$$\n",
    "W szczególności dla $t=\\frac{1}{\\sqrt{3}}=\\frac{\\sqrt{3}}{3}$\n",
    "dostajemy, że \n",
    "$$\n",
    "\\frac{\\pi}{6}=\\operatorname{arctg} \\left(\\frac{\\sqrt{3}}{3}\\right)=\\sum_{n=0}^\\infty \\frac{(-1)^n}{(2n+1)\\cdot3^n}\\cdot \\frac{1}{\\sqrt{3}}.\n",
    "$$\n",
    "Zatem \n",
    "$$\n",
    "\\sum_{n=0}^\\infty\\frac{(-1)^n}{(2n+1)\\cdot3^n}=\\frac{\\sqrt{3}\\pi}{6}.\n",
    "$$"
   ]
  },
  {
   "cell_type": "code",
   "execution_count": null,
   "id": "edb5d04b",
   "metadata": {},
   "outputs": [],
   "source": []
  }
 ],
 "metadata": {
  "kernelspec": {
   "display_name": "Python 3 (ipykernel)",
   "language": "python",
   "name": "python3"
  },
  "language_info": {
   "codemirror_mode": {
    "name": "ipython",
    "version": 3
   },
   "file_extension": ".py",
   "mimetype": "text/x-python",
   "name": "python",
   "nbconvert_exporter": "python",
   "pygments_lexer": "ipython3",
   "version": "3.11.3"
  },
  "toc": {
   "base_numbering": 1,
   "nav_menu": {},
   "number_sections": false,
   "sideBar": true,
   "skip_h1_title": false,
   "title_cell": "Table of Contents",
   "title_sidebar": "Contents",
   "toc_cell": false,
   "toc_position": {
    "height": "calc(100% - 180px)",
    "left": "10px",
    "top": "150px",
    "width": "165px"
   },
   "toc_section_display": true,
   "toc_window_display": true
  }
 },
 "nbformat": 4,
 "nbformat_minor": 5
}
