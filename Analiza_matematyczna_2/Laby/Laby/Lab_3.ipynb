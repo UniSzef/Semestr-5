{
 "cells": [
  {
   "cell_type": "markdown",
   "id": "b0ff9472-3d5b-424e-bd70-c08aa92f4f5f",
   "metadata": {},
   "source": [
    "**Uwaga**: Zadania należy wykonać  w notatniku Jupyter.\n",
    "\n",
    "1. Zapoznaj się z teorią algorytmu klastrowania K-means (klasyczny alogorytm w dziedzinie eksploracji danych (ang. <a href=\"https://en.wikipedia.org/wiki/Data_mining\">data mining))</a>) np. przez stronę <a href=\"https://www.statystyka.eu/analiza-skupien/metoda-k-srednich.php\">metoda-k-średnich</a>. Przestestuj jedną wybraną metrykę, inną  niż euklidesowa - wykonaj obrazy pokazujące efekty jej działania.\n",
    "   \n",
    "2. Przeczytaj, przeanalizuj i przetestuj materiał na stronie  <a href=\"https://www.kaggle.com/code/jaidevchittoria/k-means-from-scratch-iris\">k-means-from-scratch-iris</a> (**Irysy** stanowią kanoniczny zbiór danych w w różnych zadaniach eksploracji danych i uczenia maszynowego )\n",
    "\n",
    "   - Powtórz doświadczenie zmieniając metrykę euklidesową na metrykę $L_1$ \n",
    "   - Powtórz doświadczenie z metryką euklidesową usuwając z danych jedną klasę.\n",
    "<p></p>\n",
    "\n",
    "3. Wykonaj ponownie powyższe doświadczenie, tym razem skupiając się na sposobach wizualizacji danych i wyników. Posłuż\n",
    "   się materiałem na stronie\n",
    "   \n",
    "   https://www.kaggle.com/code/khotijahs1/k-means-clustering-of-iris-dataset\n",
    "   \n",
    "    - Przeczytaj dokumentacje wszystkich nowych dla siebie funkcji.\n",
    "    - W szczególności przeczytaj uwagi o mierzeniu odległości  w użytej tu implementacji algorytmu K-means - punkt 2.3.2 na stronie <a href=\"https://scikit-learn.org/stable/modules/clustering.html\">scikit-learn.org/stable/modules/clustering</a> .\n",
    "        \n",
    "Dane pobierz  z adresu <a href=\"https://gist.githubusercontent.com/curran/a08a1080b88344b0c8a7/raw/0e7a9b0a5d22642a06d3d5b9bcbad9890c8ee534/iris.csv\">iris.csv</a>"
   ]
  },
  {
   "cell_type": "code",
   "execution_count": null,
   "id": "8de7aca7-02f6-497e-abd0-a19bc90016b6",
   "metadata": {},
   "outputs": [],
   "source": []
  }
 ],
 "metadata": {
  "kernelspec": {
   "display_name": "Python 3 (ipykernel)",
   "language": "python",
   "name": "python3"
  },
  "language_info": {
   "codemirror_mode": {
    "name": "ipython",
    "version": 3
   },
   "file_extension": ".py",
   "mimetype": "text/x-python",
   "name": "python",
   "nbconvert_exporter": "python",
   "pygments_lexer": "ipython3",
   "version": "3.9.13"
  }
 },
 "nbformat": 4,
 "nbformat_minor": 5
}
