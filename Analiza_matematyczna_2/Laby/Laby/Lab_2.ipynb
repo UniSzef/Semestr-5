{
 "cells": [
  {
   "cell_type": "markdown",
   "id": "c36cf7d5-c332-4482-af0e-3ba30ea9bb8e",
   "metadata": {},
   "source": [
    "Jedno zadanie do wyboru (język programowania: C/C++ lub Python). Istotnym celem rozwiązania jest pełne zrozumienie podstaw matematycznych danego\n",
    "zadania.\n",
    "\n",
    "1. Napisz kod generujący krzywą Beziera n-tego stopnia (n - parametr) na płaszczyźnie - zastosuj algorytm de Casteljau (zob. <a href=\"https://mst.mimuw.edu.pl/lecture.php?lecture=gk1&part=Ch6&mode=xhtml#S1\">https://mst.mimuw.edu.pl</a>). Następnie napisz interfejs graficzny, w którym interaktywnie  rysujemy dowolną krzywą (z co najmniej 5 punktami przegięcia), a następnie w tym samym oknie dodajemy myszką  zbiór punktów kontrolnych krzywej Beziera w celu aproksymacji narysowanej krzywej.  Zadanie można rozwiązać przez zdefiniowanie jednej krzywej Beziera lub przez sklejenie aproksymanty z segmentów krzywych Beziera stopnia 3.\n",
    "\n",
    "2. Napisz kod generujący zbiór Mandelbrota wraz z ustaloną (parametr) liczbą poziomów rozbieżności definicyjnego ciągu (zaznaczonych różnymi kolorami). Wygeneruj kilka przykładów związanych z nim zbiorów Julia (spójnych i niespójnych). Aplikacja powinna również umożliwiać wizualizację dowolnego fragmentu zbioru Mandelbrota oraz zbioru Julia (zob. <a href=\"https://complex-analysis.com/content/mandelbrot_set.html\">https://complex-analysis.com/content/mandelbrot_set</a>).\n",
    "   <p></p>\n",
    "   Powyższa teoria stanowi klasyczny przykład układów dynamicznych umożliwiających m.in. badanie chaosu deterministycznego  (zob. np. <a href=\"https://portal.if.usp.br/controle/sites/portal.if.usp.br.ifusp/files/1806-1117-rbef-39-01-e1309.pdf\">Deterministic Chaos Theory: Basic Concepts</a>) występującego w wielu przypadkach zjawisk przyrodnicznych, ale również w ciekawszej ekonomii (np. dane giełdowe). Związek układów dynamicznych i uczenia maszynowego pokazany jest mi.in. w prezentacji <a href=\"https://www.stat.berkeley.edu/~mmahoney/talks/dynamical_systems_and_ml_2.pdf\">dynamical_systems and machine learning</a>. \n",
    "<p></p>\n",
    "4. Napisz kod generujący ogólny IFS na płaszczyźnie (dowolna liczba odwzorowań generujących) - zwróć uwagę na bezpośrednie zastosowanie Twierdzenia Banacha o punkcie stałym (konstrukcja algorytmu wynika bezpośrednio z klasycznego dowodu tego twierdzenia) z metryką Hausdorffa (zob. wykład). Aplikacja powinna wizualizować wszystkie przykłady ze strony  <a href=\"https://larryriddle.agnesscott.org/ifs/ifs.htm\">https://larryriddle.agnesscott.org/ifs/ifs</a> oraz klasyczny liść paproci (zob. <a href=\"https://pl.wikipedia.org/wiki/Papro%C4%87_Barnsleya\">Paproć_Barnsleya</a>). Algorytm jest wyjaśniony m.in na stronie <a href=\"https://kenbrakke.com/IFS/\">https://kenbrakke.com/IFS/</a>.\n",
    "   <p> Jednym z wielu zastosowań teorii IFS (w szczególności umożliwia ona inne niż definicyjne generatory zbiorów Julia, zob. <a href=\"https://www.academia.edu/33759698/Barnsley_M_F_Demko_S_Iterated_Function_Systems_the_Global_Construction_of_Fractals_Proc_R_Soc_London_Se_PDF?auto=download\">tu</a>) jest algorytm <b>kompresji fraktalnej</b>:\n",
    " <ul> <li><a href=\"https://www.researchgate.net/publication/262374825_A_Review_on_Fractal_Image_Compression/link/64c0bb168de7ed28bac30b6a/download?_tp=eyJjb250ZXh0Ijp7ImZpcnN0UGFnZSI6InB1YmxpY2F0aW9uIiwicGFnZSI6InB1YmxpY2F0aW9uIn19\">Krótka teoria</a> \n",
    " <li> <a href=\"https://arxiv.org/abs/1404.0774\">Przykład aktualnego zastosowania</a>\n",
    " </ul><p></p>       \n",
    "Czas na rozwiązanie: Dwa tygodnie od ogłoszenia lub (studia zaoczne) data kolejnych  laboratoriów. Za zadanie można otrzymać 5 punktów (zaliczenie od 3pkt). Przy oddawaniu projektu (na zajęciach po dwóch tygodniach od ogłoszenia projektu) trzeba odpowiedzieć poprawnie na 3 pytania (za 1pkt) związane z napisanym kodem i/lub matematyką danego zagadnienia - działający poprawnie kod oznacza otrzymanie 2pkt."
   ]
  },
  {
   "cell_type": "code",
   "execution_count": null,
   "id": "a51043a2-cec0-45ec-a562-51cc305c8059",
   "metadata": {},
   "outputs": [],
   "source": []
  },
  {
   "cell_type": "code",
   "execution_count": null,
   "id": "2b3e3034-116a-4feb-a29f-9017fa40424a",
   "metadata": {},
   "outputs": [],
   "source": []
  }
 ],
 "metadata": {
  "kernelspec": {
   "display_name": "Python 3 (ipykernel)",
   "language": "python",
   "name": "python3"
  },
  "language_info": {
   "codemirror_mode": {
    "name": "ipython",
    "version": 3
   },
   "file_extension": ".py",
   "mimetype": "text/x-python",
   "name": "python",
   "nbconvert_exporter": "python",
   "pygments_lexer": "ipython3",
   "version": "3.12.4"
  }
 },
 "nbformat": 4,
 "nbformat_minor": 5
}
