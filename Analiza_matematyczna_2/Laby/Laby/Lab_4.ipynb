{
 "cells": [
  {
   "cell_type": "markdown",
   "id": "c36cf7d5-c332-4482-af0e-3ba30ea9bb8e",
   "metadata": {},
   "source": [
    "<b>Uwaga:</b>Realizacja poniższego materiału nie podlega ocenie - istotne zadanie związane z transformatą Fouriera pojawi się w laboratorium 5.\n",
    "\n",
    "<b>Zadanie</b>: Zapoznać się z materiałem na stronie <a href=\"https://realpython.com/python-scipy-fft/\">python-scipy-fft/</a>. Przeprowadzić dodatkowe testy na innych danych. "
   ]
  }
 ],
 "metadata": {
  "kernelspec": {
   "display_name": "Python 3 (ipykernel)",
   "language": "python",
   "name": "python3"
  },
  "language_info": {
   "codemirror_mode": {
    "name": "ipython",
    "version": 3
   },
   "file_extension": ".py",
   "mimetype": "text/x-python",
   "name": "python",
   "nbconvert_exporter": "python",
   "pygments_lexer": "ipython3",
   "version": "3.12.4"
  }
 },
 "nbformat": 4,
 "nbformat_minor": 5
}
