{
 "cells": [
  {
   "cell_type": "markdown",
   "id": "be5da811-decc-479d-9ef5-c00579ef8b05",
   "metadata": {},
   "source": [
    "# Laboratoria 1 "
   ]
  },
  {
   "cell_type": "markdown",
   "id": "c14d862a-fd3c-4dfc-afe4-42950a794389",
   "metadata": {},
   "source": [
    "#### Zadanie 1\n",
    "\n",
    "Omów podstawowe wzory rachunku różniczkowego,  w szczególności wzór na pochodną funkcji złożonej.\n",
    "Jaka jest fizyczna i geometryczna interpretacja pochodnej?"
   ]
  },
  {
   "cell_type": "markdown",
   "id": "8098e9fa-070b-475d-9d44-ab02f13add6a",
   "metadata": {},
   "source": [
    "#### Zadanie 2\n",
    "\n",
    "Omów podstawowe wzory związane z całką nieoznaczoną. Jaki jest związek całki nieoznaczonej z całką oznaczoną? \n",
    "Jaka jest geometryczna interpretacja całki oznaczonej?"
   ]
  }
 ],
 "metadata": {
  "kernelspec": {
   "display_name": "Python 3 (ipykernel)",
   "language": "python",
   "name": "python3"
  },
  "language_info": {
   "codemirror_mode": {
    "name": "ipython",
    "version": 3
   },
   "file_extension": ".py",
   "mimetype": "text/x-python",
   "name": "python",
   "nbconvert_exporter": "python",
   "pygments_lexer": "ipython3",
   "version": "3.8.18"
  },
  "toc": {
   "base_numbering": 1,
   "nav_menu": {},
   "number_sections": false,
   "sideBar": true,
   "skip_h1_title": false,
   "title_cell": "Table of Contents",
   "title_sidebar": "Contents",
   "toc_cell": false,
   "toc_position": {},
   "toc_section_display": true,
   "toc_window_display": true
  }
 },
 "nbformat": 4,
 "nbformat_minor": 5
}
