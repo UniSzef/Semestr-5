{
 "cells": [
  {
   "cell_type": "markdown",
   "id": "4801690b",
   "metadata": {},
   "source": [
    "# Laboratoria 1"
   ]
  },
  {
   "cell_type": "markdown",
   "id": "46ad999e",
   "metadata": {},
   "source": [
    "## Zadanie 1\n",
    "\n",
    "Oblicz granice następujących ciągów:\n",
    "\n",
    "$$\n",
    "a)\\quad a_n=\\frac{2n^2+n}{n^2+1}; \\quad  b)\\quad a_n=\\frac{1}{\\log(\\log(n+10))}.\n",
    "$$\n",
    "\n",
    "Następnie wyznacz liczbę naturalną N taką, że dla $n\\geq N$ n-ty wyraz ciągu $(a_n)$ znajdują się mniej o $\\varepsilon$ od jego granicy, gdzie:\n",
    "\n",
    "$$\n",
    "1)\\quad \\varepsilon=0.1; \\quad   2)\\quad \\varepsilon=10^{-6}.\n",
    "$$"
   ]
  },
  {
   "cell_type": "markdown",
   "id": "034d59a2",
   "metadata": {},
   "source": [
    "## Zadanie 2"
   ]
  },
  {
   "cell_type": "markdown",
   "id": "fbeaaee2",
   "metadata": {},
   "source": [
    "Niech $\\alpha>0$ będzie dowolną liczbą dodatnią i niech $x_1$ będzie większe niż $\\sqrt{\\alpha}$.\n",
    "Dla $n\\geq 1 $ niech \n",
    "\n",
    "$$\n",
    "x_{n+1}=\\frac{1}{2}\\left(x_n+\\frac{\\alpha}{x_n}\\right).\n",
    "$$\n",
    "\n",
    "1. Pokaż, że ciąg $(x_n)_{n\\in\\mathbb{N}}$ malejąco dąży do $\\sqrt{\\alpha}$.\n",
    "2. Niech $e_n=x_n-\\sqrt{\\alpha}$. Pokaż, że dla $n\\geq 1$ mamy\n",
    "\n",
    "$$\n",
    "e_{n+1}=\\frac{e_n^2}{2x_n}<\\frac{e_n^2}{2\\sqrt{\\alpha}}.\n",
    "$$\n",
    "\n",
    "3. Niech $\\beta=2\\sqrt{\\alpha}$. Pokaż, że dla $n\\geq 1$ mamy\n",
    "\n",
    "$$\n",
    "e_{n+1}<\\beta \\left(\\frac{e_1}{\\beta}\\right)\n",
    "^{2^n}.$$\n",
    "\n",
    "4. Korzystając z powyższych informacji oblicz $\\sqrt{3}$ z dokładnością do $4\\cdot 10^{-8}$. "
   ]
  },
  {
   "cell_type": "markdown",
   "id": "fc957e8b",
   "metadata": {},
   "source": [
    "## Zadanie 3"
   ]
  },
  {
   "cell_type": "markdown",
   "id": "29ff7429",
   "metadata": {},
   "source": [
    "Wiadomo, że granicą ciągu $(a_n)_{n\\in\\mathbb{N}}$\n",
    "określonego wzorem\n",
    "\n",
    "$$\n",
    "a_n=\\left(1+\\frac{1}{n}\\right)^n\n",
    "$$\n",
    "\n",
    "jest liczba e.\n",
    "Jest ona równa (z dokładnością do 20 miejsc po przecinku) 2.7182818284590452354.\n",
    "\n",
    "Korzystając z biblioteki numpy  (i zaimplementowaych w niej różnych typów danych)\n",
    "oblicz wyrazy ciągu $a_n$ dla dużych $n$."
   ]
  },
  {
   "cell_type": "markdown",
   "id": "40664453",
   "metadata": {},
   "source": [
    "## Zadanie 4"
   ]
  },
  {
   "cell_type": "markdown",
   "id": "66ccd5f9",
   "metadata": {},
   "source": [
    "Korzystając z poznanych kryteriów zbadaj zbieżność następujących szeregów:\n",
    "\n",
    "$$\n",
    "\\sum_{n=1}^\\infty\\frac{4^n}{n!}; \\quad \\sum_{n=1}^\\infty\\left(1+\\frac{1}{n}\\right)^n;\\quad \n",
    "\\sum_{n=1}^\\infty\\frac{\\sqrt{n+1}-\\sqrt{n}}{n}; \\quad \\sum_{n=1}^\\infty (-1)^n(\\sqrt[n]{2}-1);\\quad\n",
    "\\sum_{n=1}^\\infty\\frac{n^{100}}{2^n}.\n",
    "$$"
   ]
  },
  {
   "cell_type": "markdown",
   "id": "3d35185e",
   "metadata": {},
   "source": [
    "## Zadanie 5\n",
    "Oblicz sumę szeregu \n",
    "\n",
    "$$\n",
    "\\sum_{n=0}^\\infty\\frac{1}{n!}\n",
    "$$\n",
    "\n",
    "z dokładnością do $2^{-20}$.\n",
    "\n",
    "__HINT:__ dla $n\\geq 4$  mamy, że $n!>2^n$."
   ]
  },
  {
   "cell_type": "markdown",
   "id": "68647fb5",
   "metadata": {},
   "source": [
    "## Zadanie 6\n",
    "\n",
    "Uzasadnij, że szereg \n",
    "\n",
    "$$\n",
    "\\sum_{n=1}^\\infty\\frac{(-1)^n}{n^2+n}\n",
    "$$\n",
    "\n",
    "jest zbieżny i oblicz jego sumę z dokładnością do $10^{-6}$."
   ]
  },
  {
   "cell_type": "markdown",
   "id": "983c8f37",
   "metadata": {},
   "source": [
    "# Punktowane zadanie domowe (2*3 pkt)"
   ]
  },
  {
   "cell_type": "markdown",
   "id": "24ddcac1",
   "metadata": {},
   "source": [
    "1. Uzasadnij, że szereg \n",
    "\n",
    "$$\n",
    "\\sum_{n=1}^\\infty\\frac{(-1)^n}{n+\\ln n}\n",
    "$$\n",
    "\n",
    "jest zbieżny i oblicz jego sumę z dokładnością do $10^{-4}$.\n",
    "\n",
    "2. Uzasadnij, że szereg  \n",
    "\n",
    "$$\n",
    "\\sum_{n=1}^\\infty\\frac{\\sin(n)}{2^n}\n",
    "$$\n",
    "\n",
    "jest zbieżny i oblicz jego sumę z dokładnością do $10^{-4}$.\n",
    "\n",
    "__Rozwiązanie zadań powinno zostać sporządzone w notatniku jupytera i przesłane najpóźniej w dniu poprzedzającym kolejne laboratoria (na Teams zostanie w tym celu utworzone zadanie domowe).__"
   ]
  },
  {
   "cell_type": "markdown",
   "id": "15508709",
   "metadata": {},
   "source": [
    "_Więcej zadań dotyczących teorii szeregów można znaleźć w trzecim rozdziale zbioru zadań Krysickiego i Włodarskiego._"
   ]
  }
 ],
 "metadata": {
  "kernelspec": {
   "display_name": "Python 3 (ipykernel)",
   "language": "python",
   "name": "python3"
  },
  "language_info": {
   "codemirror_mode": {
    "name": "ipython",
    "version": 3
   },
   "file_extension": ".py",
   "mimetype": "text/x-python",
   "name": "python",
   "nbconvert_exporter": "python",
   "pygments_lexer": "ipython3",
   "version": "3.8.18"
  },
  "latex_envs": {
   "LaTeX_envs_menu_present": true,
   "autoclose": false,
   "autocomplete": true,
   "bibliofile": "biblio.bib",
   "cite_by": "apalike",
   "current_citInitial": 1,
   "eqLabelWithNumbers": true,
   "eqNumInitial": 1,
   "hotkeys": {
    "equation": "Ctrl-E",
    "itemize": "Ctrl-I"
   },
   "labels_anchors": false,
   "latex_user_defs": false,
   "report_style_numbering": false,
   "user_envs_cfg": false
  },
  "toc": {
   "base_numbering": 1,
   "nav_menu": {},
   "number_sections": false,
   "sideBar": true,
   "skip_h1_title": false,
   "title_cell": "Table of Contents",
   "title_sidebar": "Contents",
   "toc_cell": false,
   "toc_position": {},
   "toc_section_display": true,
   "toc_window_display": true
  }
 },
 "nbformat": 4,
 "nbformat_minor": 5
}
