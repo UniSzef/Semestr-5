{
 "cells": [
  {
   "cell_type": "markdown",
   "id": "60c00d84",
   "metadata": {},
   "source": [
    "<b>Zadanie wstępne (dla osób, które tego nie znają)</b>\n",
    "\n",
    "Korzystając z wyjaśnień na stronie\n",
    "<a href=\"https://matplotlib.org/stable/tutorials/\">matplotlib.org</a>\n",
    "narysuj sześć wykresów wybranych funkcji. Rozwiązaniem powinien być  plik w formacie \n",
    "<i>jupyter notebook</i>. Każdy wykres powinien być wykonany w innym stylu (punkty i/lub linie różnego stylu, koloru i grubości, \n",
    "opis  osi układu współrzędnych, różne sposoby prezentacji wykresów: pojedyncza funkcja na jednym wykresie, grupa funkcji \n",
    "na jednym wykresie (potrzebna legenda), grupa wykresów w formacie macierzy itp.)."
   ]
  },
  {
   "cell_type": "markdown",
   "id": "ae6e895c",
   "metadata": {},
   "source": [
    "# Kilka elementarnych zastosowań analizy matematycznej"
   ]
  },
  {
   "cell_type": "markdown",
   "id": "4526d9fb",
   "metadata": {},
   "source": [
    "Poniżej prezentujemy przykadowe zastosowania pojęć i narzędzi analizy matematycznej, ograniczając się w większosci do funkcji jednej zmiennej"
   ]
  },
  {
   "cell_type": "markdown",
   "id": "0d63bbcd",
   "metadata": {},
   "source": [
    "### Krzywe  parametryczne jako bazowy mechanizm oprogramowania typu CAD \n",
    "\n",
    "(dwuwymiarowe krzywe Beziera 3-go stopnia są również podstawowym narzędziem w oprogramowniu typu Corel Draw, Adobe Ilustartor oraz Inkscape)"
   ]
  },
  {
   "cell_type": "markdown",
   "id": "0c43df2b",
   "metadata": {},
   "source": [
    "Material ćwiczeniowy  (wraz z elementarnymi ćwiczeniami) dostępny jest w dwóch plikach notatnika Juputer:\n",
    "\n",
    "[1. Krzywe Hermite'a i Beziera](parametric_curves_1.ipynb),\n",
    "\n",
    "[2. Wymierne krzywe Beziera oraz krzywe B-spline ](parametric_curves_2.ipynb)\n",
    "   "
   ]
  },
  {
   "cell_type": "markdown",
   "id": "5772c608",
   "metadata": {},
   "source": [
    "Podstawy teoretyczne można znaleźć w plikach PDF:\n",
    "\n",
    "[1. Krzywe Hermite'a i Beziera](parametric_curves_1.zip),\n",
    "\n",
    "[2. Krzywe B-spline i krzywe NURBS](parametric_curves_2.pdf)"
   ]
  },
  {
   "cell_type": "markdown",
   "id": "98acae78",
   "metadata": {},
   "source": [
    "Poniższe strony pokazują wybrane implementacje krzywych parametrycznych w języku narzędzi  języka  Python\n",
    "Krzywe B-spline i NURBS\n",
    "   \t\n",
    "1. <a href=\"https://demonstrations.wolfram.com/BSplineCurveWithKnots\">B-Spline Curve With Knots/</a>\n",
    "\n",
    "2. <a href=\"https://demonstrations.wolfram.com/GeneratingABSplineCurveByTheCoxDeBoorAlgorithm/\"> \n",
    "\tGenerating B-Spline Curve By The Cox-DeBoor Algorithm/</a>\n",
    "\n",
    "Biblioteka NURBS-PYTHON\n",
    "\n",
    "1. <a href=\"https://nurbs-python.readthedocs.io/en/5.x/basics.html#working-with-the-curves\">working-with-the-curves</a> \n",
    "2. <a href=\"https://nurbs-python.readthedocs.io/en/5.x/knot_refinement.html\">knot_refinement</a> (bez ostatniego przykładu) \n",
    "3. <a href=\"https://nurbs-python.readthedocs.io/en/5.x/fitting.html\">fitting</a>\n",
    "4. <a href=\"https://nurbs-python.readthedocs.io/en/5.x/visualization.html\">visualization</a> (bez przykładów powierzchni) \n",
    "\t\n",
    "\n",
    "\n"
   ]
  },
  {
   "cell_type": "markdown",
   "id": "1ecd9920",
   "metadata": {},
   "source": [
    "### Splot funkcji jako podstawa większosci filtrów w programach typu Photoshop i Gimp"
   ]
  },
  {
   "cell_type": "markdown",
   "id": "6b1932b5",
   "metadata": {},
   "source": [
    "Material ćwiczeniowy dostępny jest w postaci kodów notatnika Jupyter na stronie <a href=\"https://notebook.community/tonysyu/ipynb_demos/image_convolution_demo\">https://notebook.community/tonysyu/ipynb_demos/image_convolution_demo</a>. Kody należy testować we wlasnym notatniku."
   ]
  },
  {
   "cell_type": "markdown",
   "id": "dcda6d75",
   "metadata": {},
   "source": [
    "Podstawy teoretyczne można znaleźć np. w prezentacji [Operacja splotu obrazowego](Convolution_Filters.pdf)."
   ]
  },
  {
   "cell_type": "markdown",
   "id": "a650bc41",
   "metadata": {},
   "source": [
    "### Transformata Fouriera jako narzędzie przetwarzania sygnalów (w szczególnosci obrazów jako sygnalów 2D)"
   ]
  },
  {
   "cell_type": "markdown",
   "id": "9fd75db5",
   "metadata": {},
   "source": [
    "Rozwiązanie wielu problemów klasycznej analizy sygnałów (zob. np.[https://home.agh.edu.pl/~zobmat/2020/II_mich_mar/wstep.html](https://home.agh.edu.pl/~zobmat/2020/II_mich_mar/wstep.html) wykorzystuje m.in. dwa klasyczne narzędzia: szereg Fouriera (jeżeli sygnał ma naturę okresową) oraz transformatę Fouriera w bardziej ogólnym przypadku (zob. m.in. [https://home.agh.edu.pl/~zobmat/2020/II_mich_mar/szeregi.html](https://home.agh.edu.pl/~zobmat/2020/II_mich_mar/szeregi.html), [https://home.agh.edu.pl/~zobmat/2020/II_mich_mar/transformacje.html]( https://home.agh.edu.pl/~zobmat/2020/II_mich_mar/transformacje.html) a także [https://wazniak.mimuw.edu.pl/index.php?title=Analiza_matematyczna_2/Wyk%C5%82ad_5:_Szereg_pot%C4%99gowy._Trygonometryczny_szereg_Fouriera](https://wazniak.mimuw.edu.pl/index.php?title=Analiza_matematyczna_2/Wyk%C5%82ad_5:_Szereg_pot%C4%99gowy._Trygonometryczny_szereg_Fouriera). \n",
    "\n",
    "Sporo z tych zastosowań (np. usuwanie szumu i kompresja) przenosi się bezpośrednio na sygnały dwuwymiarowe (więc m.in. obrazy cyfrowe), w których ze względu na specyfikę analizy Fouriera możemy często konstruować algorytmy w języku funkcji jednej zmiennej (dla kompletności dobrze jest również przeczytać materiał z strony <a href=\"https://home.agh.edu.pl/~zobmat/2020/II_mich_mar/implikacje.html\">https://home.agh.edu.pl/~zobmat/2020/II_mich_mar/implikacje.html</a>). \n",
    "\n",
    "Klasycznym algorytmem obliczania (dyskretnej) transformaty Fouriera jest algorytm FFT (zob. in. <a href=\"https://www.youtube.com/watch?v=h7apO7q16V0\">https://www.youtube.com/watch?v=h7apO7q16V0</a>, <a href=\"https://eti.pg.edu.pl/documents/176593/26763380/Wykl\\_AlgorOblicz\\_10.pdf\">https://eti.pg.edu.pl/documents/176593/26763380/Wykl\\_AlgorOblicz\\_10.pdf</a> oraz <a href=\"http://galaxy.agh.edu.pl/~chwiej/mn/wyk/fft_22_23.pdf\">http://galaxy.agh.edu.pl/~chwiej/mn/wyk/fft_22_23.pdf</a>, gdzie w skrócie pokazano również zostosowanie analizy Fouriera do zagadnień dwu i trójwymiarowych (np. symulacji płynów), czyli opisu makroskopowego opisu świata, w którym żyjemy - w tym przypadku stosujemy FFT do rozwiązywania równań różniczkowych)."
   ]
  },
  {
   "cell_type": "markdown",
   "id": "a65a4a21",
   "metadata": {},
   "source": [
    "### Animacja punktu materialnego\n",
    "\n",
    "(najprostsza koncepcja sumulacji komputerowych zjawisk ruchu)\n",
    "\n"
   ]
  },
  {
   "cell_type": "markdown",
   "id": "ccc59693",
   "metadata": {},
   "source": [
    "W symulacjach punktu materialnego (pomijamy ksztalty obiektów) wykorzystujemy dwie klasyczne zależności związane z kinematyką i \n",
    "dynamiką punktu materialnego: pochodną wektora prędkości w postaci sumy przyspieszenia stycznego i normalnego do toru ruchu \n",
    "oraz drugie prawo Newtona jako równanie różniczkowe drugiego rzędu. \n",
    "\n",
    "Z technicznego punktu widzenia symulacja jest realizowana przez numeryczne rozwiązywanie różniczkowego równania ruchu. Materiał ten zawarty jest w [prezentacji PDF](Anim1.pdf) oraz [pliku testowym](Newton_mn.ipynb) w formacie Jupyter."
   ]
  },
  {
   "cell_type": "code",
   "execution_count": null,
   "id": "338d5c55",
   "metadata": {},
   "outputs": [],
   "source": []
  }
 ],
 "metadata": {
  "kernelspec": {
   "display_name": "Python 3 (ipykernel)",
   "language": "python",
   "name": "python3"
  },
  "language_info": {
   "codemirror_mode": {
    "name": "ipython",
    "version": 3
   },
   "file_extension": ".py",
   "mimetype": "text/x-python",
   "name": "python",
   "nbconvert_exporter": "python",
   "pygments_lexer": "ipython3",
   "version": "3.9.13"
  },
  "latex_envs": {
   "LaTeX_envs_menu_present": true,
   "autoclose": false,
   "autocomplete": true,
   "bibliofile": "biblio.bib",
   "cite_by": "apalike",
   "current_citInitial": 1,
   "eqLabelWithNumbers": true,
   "eqNumInitial": 1,
   "hotkeys": {
    "equation": "Ctrl-E",
    "itemize": "Ctrl-I"
   },
   "labels_anchors": false,
   "latex_user_defs": false,
   "report_style_numbering": false,
   "user_envs_cfg": false
  }
 },
 "nbformat": 4,
 "nbformat_minor": 5
}
