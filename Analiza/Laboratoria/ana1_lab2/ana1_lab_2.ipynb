{
 "cells": [
  {
   "cell_type": "markdown",
   "id": "e8879b94",
   "metadata": {},
   "source": [
    "# Laboratoria 2"
   ]
  },
  {
   "cell_type": "markdown",
   "id": "689de560",
   "metadata": {},
   "source": [
    "## Zadanie 1\n",
    "\n",
    "Za pomocą aparatu funkcji tworzących wyprowadź wzór na wyraz ogólny ciągu Fibbnaciego, to jest ciągu określonego następująco\n",
    "\n",
    "$$\n",
    "F_n=\\begin{cases}\n",
    "1,& n\\in \\{0,1\\}\\\\\n",
    "F_{n-1}+F_{n-2},& n\\geq 2.\n",
    "\\end{cases}\n",
    "$$\n",
    "\n",
    "\n",
    "\n",
    "__Uwaga:__ więcej takich przykładów można znaleźć tutaj:\n",
    "https://www.mimuw.edu.pl/~guzicki/materialy/Funkcje_tw.pdf"
   ]
  },
  {
   "cell_type": "markdown",
   "id": "a2364e1c",
   "metadata": {},
   "source": [
    "## Zadanie 2"
   ]
  },
  {
   "cell_type": "markdown",
   "id": "9f9942f1",
   "metadata": {},
   "source": [
    "Zbadaj zbieżność następujących szeregów potęgowych:\n",
    "\n",
    "$$\n",
    "\\sum_{n=1}^\\infty (-1)^n\\frac{n}{4^n}(x+3)^n,\\quad \\sum_{n=1}^\\infty \\left(1+\\frac{1}{n}\\right)^nx^n,\\quad\n",
    "\\sum_{n+1}^\\infty\\frac{x^n}{n!},\\quad \\sum_{n=0}^\\infty(-1)^n\\frac{x^{2n+1}}{(2n+1)!}.\n",
    "$$"
   ]
  },
  {
   "cell_type": "markdown",
   "id": "1052b4ae",
   "metadata": {},
   "source": [
    "## Zadanie 3"
   ]
  },
  {
   "cell_type": "markdown",
   "id": "b460cad1",
   "metadata": {},
   "source": [
    "Wiadomo, że dla każdego $x\\in\\mathbb{R}$ mamy\n",
    "\n",
    "$$\n",
    "\\sin(x)= \\sum_{n=0}^\\infty (-1)^n\\frac{x^{2n+1}}{(2n+1)!}.\n",
    "$$\n",
    "\n",
    "Oblicz wartość $\\sin(1)$ i wartość $\\sin(3,14)$ z dokładnością do 4 miejsc po przecinku."
   ]
  },
  {
   "cell_type": "markdown",
   "id": "c7d67a0c",
   "metadata": {},
   "source": [
    "## Zadanie 4"
   ]
  },
  {
   "cell_type": "markdown",
   "id": "3e156a4a",
   "metadata": {},
   "source": [
    "Wiadomo, że dla każdego $x\\in (-1,1)$ mamy\n",
    "\n",
    "$$\n",
    "\\ln(1+x)= \\sum_{n=1}^\\infty (-1)^n\\frac{x^{n}}{n}.\n",
    "$$\n",
    "\n",
    "Oblicz wartość $\\ln(1.5)$ z dokładnością do 4 miejsc po przecinku."
   ]
  },
  {
   "cell_type": "markdown",
   "id": "a33c471e-32b2-48bb-91cb-248d10681104",
   "metadata": {},
   "source": [
    "## Zadanie 5\n",
    "\n",
    "Niech $n\\geq 0$. Wielomianami Bernsteina rzędu $n$ nazywamy wielomiany\n",
    "\n",
    "$$\n",
    "B_{k,n}(x)={n\\choose k}x^k(1-x)^{n-k}, \\quad k=0,1,2,\\ldots, n.\n",
    "$$\n",
    "\n",
    "1. Narysuj wykres wielomianów Bernsteina dla $n=3$ na przedziale $[0,1]$.\n",
    "2. Uzasadnij, że dla dowolnego $n$ mamy\n",
    "\n",
    "$$\n",
    "\\sum_{k=0}^nB_{k,n}(x)=1.\n",
    "$$\n",
    "Jakie są wartości tych wielomianów dla $x=0$ i dla $x=1$?\n",
    "\n",
    "3. Niech $P_0=(x_0,y_0), \\ldots, P_n=(x_n,y_n)$ będą punktami na płaszczyźnie. Krzywą daną wzorem parametrycznym\n",
    "\n",
    "$$\n",
    "x(t)= \\sum_{k=0}^nB_{k,n}(t)x_k, \\quad y(t)= \\sum_{k=0}^nB_{k,n}(t)y_k\n",
    "$$\n",
    "\n",
    "nazywamy krzywą Béziera rzędu $n$. \n",
    "Napisz program rysujący tę krzywą.\n",
    "\n",
    "4. Dla funkcji ciągłej $f\\colon [0,1]\\to\\mathbb{R}$ tworzymy odpowiadający jej wielomian Bernsteina rzędu $n$ to jest wielomian \n",
    "\n",
    "$$\n",
    "B_n(f)(x)=\\sum_{k=0}^nf\\left(\\frac{k}{n}\\right)B_{k,n}(x).\n",
    "$$\n",
    "\n",
    "Sprawdź jaki jest związek tego wielomanu z funkcją $f$ na kilku przykładach.\n",
    "__Uwaga:__ więcej dowiesz się tutaj: https://nonagon.org/ExLibris/bernstein-proves-weierstrass"
   ]
  },
  {
   "cell_type": "markdown",
   "id": "d523b9dc",
   "metadata": {},
   "source": [
    "# Punktowane zadanie domowe (2*3 pkt)"
   ]
  },
  {
   "cell_type": "markdown",
   "id": "f1d41b5e",
   "metadata": {},
   "source": [
    "1. Oblicz wartość $\\cos(1)$ i wartość $\\cos(1.57)$ z dokładnością do 4 miejsc po przecinku korzystając z odpowiedniego rozwinięcia funkcji cosinus w szereg potęgowy.\n",
    "\n",
    "2. Zbadaj dla których $x\\in\\mathbb{R}$ zbieżne są szeregi\n",
    "\n",
    "$$\n",
    "\\sum_{n=1}^\\infty \\frac{(-1)^n}{n}x^n,\\quad \\sum_{n=1}^\\infty \\frac{1}{3^nn^2}x^n.\n",
    "$$\n",
    "\n",
    "__Rozwiązanie zadań powinno zostać sporządzone w notatniku jupytera i przesłane najpóźniej w dniu poprzedzającym kolejne laboratoria (na Teams zostanie w tym celu utworzone zadanie domowe).__"
   ]
  }
 ],
 "metadata": {
  "kernelspec": {
   "display_name": "Python 3 (ipykernel)",
   "language": "python",
   "name": "python3"
  },
  "language_info": {
   "codemirror_mode": {
    "name": "ipython",
    "version": 3
   },
   "file_extension": ".py",
   "mimetype": "text/x-python",
   "name": "python",
   "nbconvert_exporter": "python",
   "pygments_lexer": "ipython3",
   "version": "3.9.13"
  },
  "latex_envs": {
   "LaTeX_envs_menu_present": true,
   "autoclose": false,
   "autocomplete": true,
   "bibliofile": "biblio.bib",
   "cite_by": "apalike",
   "current_citInitial": 1,
   "eqLabelWithNumbers": true,
   "eqNumInitial": 1,
   "hotkeys": {
    "equation": "Ctrl-E",
    "itemize": "Ctrl-I"
   },
   "labels_anchors": false,
   "latex_user_defs": false,
   "report_style_numbering": false,
   "user_envs_cfg": false
  },
  "toc": {
   "base_numbering": 1,
   "nav_menu": {},
   "number_sections": false,
   "sideBar": true,
   "skip_h1_title": false,
   "title_cell": "Table of Contents",
   "title_sidebar": "Contents",
   "toc_cell": false,
   "toc_position": {},
   "toc_section_display": true,
   "toc_window_display": true
  }
 },
 "nbformat": 4,
 "nbformat_minor": 5
}
