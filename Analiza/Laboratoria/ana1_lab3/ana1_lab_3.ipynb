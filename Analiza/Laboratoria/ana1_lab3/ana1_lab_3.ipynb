{
 "cells": [
  {
   "cell_type": "markdown",
   "id": "a03533de",
   "metadata": {},
   "source": [
    "# Laboratoria 3"
   ]
  },
  {
   "cell_type": "markdown",
   "id": "9149509d",
   "metadata": {},
   "source": [
    "## Zadanie 1\n",
    "\n",
    "Zbadaj jednostajną ciągłość funkcji $f(x)=x^2$ na zbiorze $A$, gdzie:\n",
    "\n",
    "a) $A=[0,10]$;\n",
    "\n",
    "b) $A=\\mathbb{R}$.\n"
   ]
  },
  {
   "cell_type": "markdown",
   "id": "55a537e5",
   "metadata": {},
   "source": [
    "## Zadanie 2\n",
    "Zbadaj jednostajną ciągłość funkcji $f(x)=\\sin x$ na $\\mathbb{R}$."
   ]
  },
  {
   "cell_type": "markdown",
   "id": "58546442",
   "metadata": {},
   "source": [
    "## Zadanie 3\n",
    "\n",
    "Zbadaj jednostajną ciągłość funckji $f(x)=\\sin(x^2)$ na $\\mathbb{R}$.\n",
    "\n",
    "__Hint:__ obejrzyj wykres funkcji $f$ :)"
   ]
  },
  {
   "cell_type": "markdown",
   "id": "4657f783-7901-4423-92ad-d765b0f3d084",
   "metadata": {},
   "source": [
    "## Zadanie 4 "
   ]
  },
  {
   "cell_type": "markdown",
   "id": "d6b3dd0d-2dfc-4aab-8c25-08c7dd1ebd76",
   "metadata": {},
   "source": [
    "Używając bibliotek numpy i matplotlib  narysuj fragment wykresu funkcji\n",
    "\n",
    "$$\n",
    "f(x)=\\begin{cases}\n",
    "-x+4,& x\\leq 1\\\\\n",
    "-1,& x>1.\n",
    "\\end{cases}\n",
    "$$"
   ]
  },
  {
   "cell_type": "markdown",
   "id": "13351885",
   "metadata": {},
   "source": [
    "## Zadanie 5"
   ]
  },
  {
   "cell_type": "markdown",
   "id": "bb910f2d",
   "metadata": {},
   "source": [
    "Znajdź wszystkie pierwiastki rzeczywiste wielomianu z dokładnością do conajmniej 0.01:\n",
    "\n",
    "a) $x^5-3x^3+2x+1$;\n",
    "\n",
    "b) $x^6+x^5-x^2-5$;\n",
    "\n",
    "c) $x^6+6x^5-16 x^4 -x^2 -6x +17$.\n",
    "\n",
    "O zawaansowanych technikach znajdowania miejsc zerowych wielomianów można poczytać tutaj: https://en.wikipedia.org/wiki/Real-root_isolation."
   ]
  },
  {
   "cell_type": "markdown",
   "id": "78328a97",
   "metadata": {
    "tags": []
   },
   "source": [
    "## Zadanie 6"
   ]
  },
  {
   "cell_type": "markdown",
   "id": "db81769c-24bb-4aaf-b1a3-d12fd3f802ea",
   "metadata": {},
   "source": [
    "Zapoznan się z materiałami znajdującymi się tutaj: https://pl.wikipedia.org/wiki/Funkcja_sinc."
   ]
  },
  {
   "cell_type": "markdown",
   "id": "be6137db",
   "metadata": {},
   "source": [
    "# Punktowane zadanie domowe (2*3 pkt)"
   ]
  },
  {
   "cell_type": "markdown",
   "id": "10b5d9c4",
   "metadata": {},
   "source": [
    "1. Uzasadnij, że funkcja $f(x)=\\frac{1}{x^2}$ jest jednostajnie ciągła na $[1,4]$.\n",
    "\n",
    "2. Pokaż, że funkcja $f(x)=\\cos(x^2)$ nie jest jednostajnie ciągła na $\\mathbb{R}$.\n",
    "\n",
    "\n",
    "\n",
    "__Rozwiązanie zadań powinno zostać sporządzone w notatniku jupytera i przesłane najpóźniej w dniu poprzedzającym kolejne laboratoria (na Teams zostanie w tym celu utworzone zadanie domowe).__"
   ]
  }
 ],
 "metadata": {
  "kernelspec": {
   "display_name": "Python 3 (ipykernel)",
   "language": "python",
   "name": "python3"
  },
  "language_info": {
   "codemirror_mode": {
    "name": "ipython",
    "version": 3
   },
   "file_extension": ".py",
   "mimetype": "text/x-python",
   "name": "python",
   "nbconvert_exporter": "python",
   "pygments_lexer": "ipython3",
   "version": "3.8.18"
  },
  "latex_envs": {
   "LaTeX_envs_menu_present": true,
   "autoclose": false,
   "autocomplete": true,
   "bibliofile": "biblio.bib",
   "cite_by": "apalike",
   "current_citInitial": 1,
   "eqLabelWithNumbers": true,
   "eqNumInitial": 1,
   "hotkeys": {
    "equation": "Ctrl-E",
    "itemize": "Ctrl-I"
   },
   "labels_anchors": false,
   "latex_user_defs": false,
   "report_style_numbering": false,
   "user_envs_cfg": false
  },
  "toc": {
   "base_numbering": 1,
   "nav_menu": {},
   "number_sections": false,
   "sideBar": true,
   "skip_h1_title": false,
   "title_cell": "Table of Contents",
   "title_sidebar": "Contents",
   "toc_cell": false,
   "toc_position": {},
   "toc_section_display": true,
   "toc_window_display": true
  }
 },
 "nbformat": 4,
 "nbformat_minor": 5
}
