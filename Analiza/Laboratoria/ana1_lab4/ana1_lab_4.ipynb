{
 "cells": [
  {
   "cell_type": "markdown",
   "id": "a03533de",
   "metadata": {},
   "source": [
    "# Laboratoria 4"
   ]
  },
  {
   "cell_type": "markdown",
   "id": "9149509d",
   "metadata": {},
   "source": [
    "## Zadanie 1\n",
    "\n",
    "Zapoznaj się z materiałami dotyczącymi wzoru Taylora znajdującymi się w pliku CW11.ipynb. \n"
   ]
  },
  {
   "cell_type": "markdown",
   "id": "55a537e5",
   "metadata": {},
   "source": [
    "## Zadanie 2\n",
    "Napisz wzór Taylora dla funkcji $f(x)=e^x$ w otoczeniu punktu $0$.\n",
    ">* Wykorzystaj otrzymany wzór do obliczenia liczby $e$ z dokładnością do $10^{-10}$.\n",
    ">* Oszacuj dokładność wzoru przybliżonego\n",
    ">\n",
    ">$$\n",
    "e^{x} \\approx 1+x+\\frac{x^2}{2}+\\frac{x^3}{6}\n",
    "$$\n",
    ">\n",
    ">dla $0<x\\leq\\frac{1}{10}$."
   ]
  },
  {
   "cell_type": "markdown",
   "id": "58546442",
   "metadata": {},
   "source": [
    "## Zadanie 3\n",
    "Oblicz  $\\sqrt{1,01}$ z dokładnością $10^{-4}$."
   ]
  },
  {
   "cell_type": "markdown",
   "id": "4657f783-7901-4423-92ad-d765b0f3d084",
   "metadata": {},
   "source": [
    "## Zadanie 4 "
   ]
  },
  {
   "cell_type": "markdown",
   "id": "d6b3dd0d-2dfc-4aab-8c25-08c7dd1ebd76",
   "metadata": {},
   "source": [
    "Zapoznaj się z materiałami dotyczącymi wypukłości, wklęsłości znajdującymi się w pliku CW11.ipynb. "
   ]
  },
  {
   "cell_type": "markdown",
   "id": "0c87835d-8d52-4640-a6de-dea397088a4d",
   "metadata": {},
   "source": [
    "## Zadanie 5"
   ]
  },
  {
   "cell_type": "markdown",
   "id": "77bf891e-a6c8-4753-a46e-f3f54dc15faf",
   "metadata": {},
   "source": [
    "Określić przedziały (ścisłej) wypukłości oraz punkty przegięcia funkcji \n",
    "$$\n",
    "f(x)=(1+x^2)e^x.\n",
    "$$"
   ]
  },
  {
   "cell_type": "markdown",
   "id": "be6137db",
   "metadata": {},
   "source": [
    "# Punktowane zadanie domowe (2*3 pkt)"
   ]
  },
  {
   "cell_type": "markdown",
   "id": "10b5d9c4",
   "metadata": {},
   "source": [
    "1. Po zapoznaniu się z plikiem CW10.ipynb  oblicz następujące granice:\n",
    "\n",
    "$$ \n",
    "\\lim\\limits_{x\\to 0}\\frac{e^x-e^{-x}}{x},\\quad  \\lim\\limits_{x\\to \\infty}x^3e^{-x}.\n",
    "$$\n",
    "\n",
    "2. Napisz wzór Taylora dla funkcji $f(x)=\\ln(1+x)$ w otoczeniu punktu $0$. Wykorzystaj ten wzór do obliczenia $\\ln(2)$ z dokładnością do $0.01$.\n",
    "\n",
    "\n",
    "\n",
    "__Rozwiązanie zadań powinno zostać sporządzone w notatniku jupytera i przesłane najpóźniej w dniu poprzedzającym kolejne laboratoria (na Teams zostanie w tym celu utworzone zadanie domowe).__"
   ]
  },
  {
   "cell_type": "code",
   "execution_count": null,
   "id": "116b897a-c68a-4347-bf0e-49378184ddfc",
   "metadata": {},
   "outputs": [],
   "source": []
  }
 ],
 "metadata": {
  "kernelspec": {
   "display_name": "Python 3 (ipykernel)",
   "language": "python",
   "name": "python3"
  },
  "language_info": {
   "codemirror_mode": {
    "name": "ipython",
    "version": 3
   },
   "file_extension": ".py",
   "mimetype": "text/x-python",
   "name": "python",
   "nbconvert_exporter": "python",
   "pygments_lexer": "ipython3",
   "version": "3.8.18"
  },
  "latex_envs": {
   "LaTeX_envs_menu_present": true,
   "autoclose": false,
   "autocomplete": true,
   "bibliofile": "biblio.bib",
   "cite_by": "apalike",
   "current_citInitial": 1,
   "eqLabelWithNumbers": true,
   "eqNumInitial": 1,
   "hotkeys": {
    "equation": "Ctrl-E",
    "itemize": "Ctrl-I"
   },
   "labels_anchors": false,
   "latex_user_defs": false,
   "report_style_numbering": false,
   "user_envs_cfg": false
  },
  "toc": {
   "base_numbering": 1,
   "nav_menu": {},
   "number_sections": false,
   "sideBar": true,
   "skip_h1_title": false,
   "title_cell": "Table of Contents",
   "title_sidebar": "Contents",
   "toc_cell": false,
   "toc_position": {},
   "toc_section_display": true,
   "toc_window_display": true
  }
 },
 "nbformat": 4,
 "nbformat_minor": 5
}
