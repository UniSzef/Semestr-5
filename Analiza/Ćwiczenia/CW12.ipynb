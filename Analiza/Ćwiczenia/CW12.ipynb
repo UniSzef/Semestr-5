{
 "cells": [
  {
   "cell_type": "markdown",
   "id": "9f2398e3",
   "metadata": {},
   "source": [
    "# Całka nieoznaczona"
   ]
  },
  {
   "cell_type": "markdown",
   "id": "364327c1",
   "metadata": {},
   "source": [
    "## Cel zajęć\n",
    "\n",
    "Celem zajęć jest wprowadzenie pojęcia całki nieoznaczonej oraz nabycie praktycznej umiejętności obliczania całek za pomocą metody przez podstawienie i przez części."
   ]
  },
  {
   "cell_type": "markdown",
   "id": "e0904246",
   "metadata": {},
   "source": [
    "## Definicja funkcji pierwotnej\n",
    "\n",
    ">**Funkcją pierwotną** funkcji $f$ w przedziale $(a,b)$ nazywamy każdą taką funkcję $F$ określoną w $(a,b)$ taką, że  $F'(x)=f(x)$ dla $x\\in(a,b)$."
   ]
  },
  {
   "cell_type": "markdown",
   "id": "071003b9",
   "metadata": {
    "tags": []
   },
   "source": [
    "### Przykład funkcji pierwotnej\n",
    "\n",
    "Funkcje $F_1(x)=x^2$ i $F_2(x)=x^2+115$ są funkcjami pierwotnymi do funkcji $f(x)=2x$ w dowolnym przedziale $(a,b)$."
   ]
  },
  {
   "cell_type": "markdown",
   "id": "0569050c",
   "metadata": {},
   "source": [
    "### Przykład trudniejszej funkcji pierwotnej \n",
    "\n",
    "Pokażemy, że funkcja $F(x)=\\ln\\left(x+\\sqrt{x^2+1}\\right)$ jest funkcją pierwotną funkcji $f(x)=\\frac{1}{\\sqrt{x^2+1}}$.\n",
    "Mamy\n",
    "\n",
    "$$\n",
    "\\begin{align*}\n",
    "F'(x)=\\left(\\ln\\left(x+\\sqrt{x^2+1}\\right)\\right)'=&\\frac{1}{x+\\sqrt{x^2+1}}\\cdot\\left(1+\\frac{x}{\\sqrt{x^2+1}}\\right)\\\\\n",
    "=&\\frac{1}{x+\\sqrt{x^2+1}}\\cdot \\frac{x+\\sqrt{x^2+1}}{\\sqrt{x^2+1}}\\\\=&\\frac{1}{\\sqrt{x^2+1}}.\n",
    "\\end{align*}\n",
    "$$"
   ]
  },
  {
   "cell_type": "markdown",
   "id": "7bc55403",
   "metadata": {},
   "source": [
    "### Przykład funkcji nie posiadającej funkcji pierwotnej \n",
    "\n",
    "Pokażemy, że funkcja $f\\colon\\mathbb{R}\\to\\mathbb{R}$ dana wzorem $f(x)=1$, gdy $x \\geq 0$ i $f(x)=0$, gdy $x < 0$, nie  posiada funkcji pierwotnej. \n",
    "\n",
    "Jeśli  funkcja $F$ byłaby funkcją pierwtotną fukcji $f$,  to dla $x>0$  musiałoby być $F(x)=x+C_1$ i $F(x)=C_2$ dla $x<0$, gdzie $C_1$ i $C_2$ są pewnymi stałymi. Ponieważ funkcja $F$ musi być ciągła w punkcie x=0, to musi być $C_1=C_2=F(0)$.\n",
    "Ale tak określona funkcja $F$ nie ma pochodnej w punkcie $x=0$, bo \n",
    "\n",
    "$$\n",
    "F'_-(0)=\\lim_{h\\to 0^-}\\frac{F(h)-F(0)}{h}=\\lim_{h\\to 0^-}\\frac{C_1-C_1}{h}=0\n",
    "$$\n",
    "\n",
    "i \n",
    "\n",
    "$$\n",
    "F'_+(0)=\\lim_{h\\to 0^+}\\frac{F(h)-F(0)}{h}=\\lim_{h\\to 0^+}\\frac{h+C_1-C_1}{h}=1.\n",
    "$$\n"
   ]
  },
  {
   "cell_type": "code",
   "execution_count": 1,
   "id": "b141f464",
   "metadata": {},
   "outputs": [
    {
     "data": {
      "image/png": "[encoded data removed]",
      "text/plain": [
       "<Figure size 800x600 with 1 Axes>"
      ]
     },
     "metadata": {},
     "output_type": "display_data"
    }
   ],
   "source": [
    "import numpy as np\n",
    "import matplotlib.pyplot as plt\n",
    "\n",
    "def custom_function(x):\n",
    "    if x < 0:\n",
    "        return 2\n",
    "    else:\n",
    "        return x + 2\n",
    "\n",
    "# Generate x values\n",
    "x_values = np.linspace(-10, 10, 400)  # Adjust the range and number of points as needed\n",
    "\n",
    "# Calculate corresponding y values\n",
    "y_values = np.array([custom_function(x) for x in x_values])\n",
    "\n",
    "# Create the plot\n",
    "plt.figure(figsize=(8, 6))\n",
    "plt.plot(x_values, y_values, label=\"f(x)\", color='red')\n",
    "plt.xlabel('x')\n",
    "plt.ylabel('f(x)')\n",
    "plt.title('Piecewise Function')\n",
    "plt.legend()\n",
    "plt.grid(True)\n",
    "\n",
    "# Add coordinate axes\n",
    "plt.axhline(y=0, color='black', linewidth=2)\n",
    "plt.axvline(x=0, color='black', linewidth=2)\n",
    "\n",
    "plt.show()\n"
   ]
  },
  {
   "cell_type": "markdown",
   "id": "c0a9801d",
   "metadata": {},
   "source": [
    "**Uwaga:** jest jasne, że dowolne dwie funkcje pierwotne do funkcji $f$ w przedziale $(a,b)$ mogą się różnić conajwyżej o stałą. "
   ]
  },
  {
   "cell_type": "markdown",
   "id": "25a8a4b4",
   "metadata": {},
   "source": [
    "## Definicja całki nieoznaczonej\n",
    "\n",
    "> Rodzinę wszystkich funkcji pierwotnych funkcji $f$ nazywamy **całką nieoznaczoną** z $f$ i zapisujemy $\\int f(x)dx$.\n",
    "Zatem jeśli $F$ jest dowolną funkcją pierwotną, to $\\int f(x)dx=F(x)+C$, gdzie $C$  jest dowolną stałą."
   ]
  },
  {
   "cell_type": "markdown",
   "id": "7f3cfb0a",
   "metadata": {},
   "source": [
    "### Wzory, które trzeba znać\n",
    "\n",
    ">1.  $ \\int x^adx=\\frac {\\displaystyle {x^{a+1}}}{\\displaystyle {a+1}}+C$,\n",
    "$a\\neq -1$, $x>0$. Gdy $a$ jest liczbą naturalną, to zastrzeżenie $x>0$ odpada; \n",
    "gdy $a$ jest liczbą całkowitą ujemną to zamiast $x>0$ wystarczy założyć $x\\neq 0$.\n",
    ">\n",
    ">\n",
    ">2.  $\\ \\int \\frac {\\displaystyle {dx}}{\\displaystyle x}=\\ln \\mid x\\mid +C \\ , $ $x\\neq 0$  .\n",
    ">\n",
    ">\n",
    ">3. $\\  \\int e^xdx=e^x+C$  ,\n",
    ">\n",
    ">\n",
    ">4. $\\  \\int a^xdx=\\frac {\\displaystyle a^x}{\\displaystyle {\\ln a}}+C$, $a>0$, $a\\neq 1$.\n",
    ">\n",
    ">\n",
    ">5. $\\ \\int\\cos x dx=\\sin x +C$ ,\n",
    ">\n",
    ">\n",
    ">6. $\\ \\int \\sin xdx=-\\cos x+C$ ,\n",
    ">\n",
    ">\n",
    ">7. $\\ \\int \\frac {\\displaystyle {dx}}{\\displaystyle {\\cos^2x}}=\n",
    "\\text {tg }x +C$, $\\cos x\\neq 0$ .\n",
    ">\n",
    ">\n",
    ">8. $\\ \\int \\frac {\\displaystyle {dx}}{\\displaystyle {\\sin ^2x}}= -c\\text {tg }x+C$, $\\sin x\\neq 0$.\n",
    ">\n",
    ">\n",
    ">9. $\\ \\int \\frac {\\displaystyle {dx}}{\\displaystyle {\\sqrt {1-x^2}}}= \\text{arc}\\sin x+C,-1<x<1$.\n",
    ">\n",
    ">\n",
    ">10. $\\ \\int \\frac {\\displaystyle {dx}}{\\displaystyle {1+x^2}}= \\text {arctg }x +C$.\n",
    "\n"
   ]
  },
  {
   "cell_type": "markdown",
   "id": "6efbdce3",
   "metadata": {},
   "source": [
    "### Przykłady\n",
    "Opierając się na wzorze 1 otrzymujemy:\n",
    "\n",
    "- $ \\int x^3dx=\\frac{x^4}{4}+C$;\n",
    "\n",
    "\n",
    "- $ \\int x^5dx=\\frac{x^6}{6}+C$;\n",
    "\n",
    "\n",
    "- $ \\int \\sqrt{x}dx=\\frac{2}{3}x^{\\frac{3}{2}}+C$;\n",
    "\n",
    "\n",
    "- $ \\int \\frac{1}{x^2}dx=-\\frac{1}{x}+C$;\n",
    "\n",
    "\n",
    "- $ \\int \\frac{1}{x^7}dx=-\\frac{1}{6x^6}+C$;\n",
    "\n",
    "\n",
    "- $ \\int \\frac{1}{\\sqrt{x}}dx=2\\sqrt{x}+C$;\n",
    "\n",
    "\n",
    "Opierając się na wzorze 4 otrzymujemy:\n",
    "\n",
    "- $ \\int 4^x dx=\\frac{4^x}{\\ln 4}+C$."
   ]
  },
  {
   "cell_type": "markdown",
   "id": "3ee8f36a",
   "metadata": {},
   "source": [
    "### Przykłady do samodzielnego rozwiązania\n",
    "\n",
    "Oblicz:\n",
    "\n",
    "$$\n",
    "\\int xdx,\\ \\int x^8dx, \\int \\sqrt[5]{x}dx, \\ \\int \\frac{1}{x^4}dx, \\ \\int \\frac{1}{x^8}dx, \\ \\int \\frac{1}{\\sqrt[3]{x}}dx.\n",
    "$$"
   ]
  },
  {
   "cell_type": "markdown",
   "id": "9b2bc358",
   "metadata": {},
   "source": [
    "## Jak obliczać całki?"
   ]
  },
  {
   "cell_type": "markdown",
   "id": "241db7e4",
   "metadata": {},
   "source": [
    "### Arytmetyczne własności całki\n",
    ">__Twierdzenie.__ (o działaniach arytmetycznych na całkach nieoznaczonych)\n",
    ">\n",
    ">Jeżeli funkcje $f$ i $g$ są całkowalne w przedziale $I$ (otwartym lub domkniętym),\n",
    "a $c$ jest dowolną liczbą, to funkcje $f+g$, $f-g$ i $cf$ są też całkowalne\n",
    "w $I$ oraz\n",
    ">\n",
    ">$$ \\int [f(x)+g(x)] \\; dx= \\int f(x)dx+ \\int g(x) \\; dx ,$$\n",
    ">\n",
    ">$$ \\int [f(x)-g(x)] \\; dx= \\int f(x)dx- \\int g(x) \\; dx  ,$$\n",
    ">\n",
    ">$$ \\int cf(x) \\; dx=c \\int f(x) \\; dx.$$\n",
    "\n"
   ]
  },
  {
   "cell_type": "markdown",
   "id": "66dab4da",
   "metadata": {},
   "source": [
    "#### Przykłady\n",
    "\n",
    "1. \n",
    "\n",
    "$$\n",
    "\\int 1+x+x^2+x^3dx=x+\\frac{x^2}{2}+\\frac{x^3}{3}+\\frac{x^4}{4}+C.\n",
    "$$\n",
    "\n",
    "2. \n",
    "\n",
    "$$\n",
    "\\int \\frac{4}{x}dx=4\\ln |x|+C.\n",
    "$$\n",
    "\n",
    "3. \n",
    "\n",
    "$$\n",
    "\\int \\frac{(x+1)^2}{x^3}dx=\\int \\frac{1}{x}+\\frac{2}{x^2}+\\frac{1}{x^3}dx=\n",
    "\\ln |x| -\\frac{2}{x}-\\frac{1}{2x^2}+C.\n",
    "$$"
   ]
  },
  {
   "cell_type": "markdown",
   "id": "08c3177c",
   "metadata": {},
   "source": [
    "#### Przykłady do samodzielnego rozwiązania\n",
    "\n",
    "Oblicz:\n",
    "\n",
    "1. $\\displaystyle\n",
    "\\int 2+\\sin x +\\cos xdx.\n",
    "$\n",
    "\n",
    "\n",
    "2. $\\displaystyle\n",
    "\\int \\frac{(x-1)^3}{x}dx.\n",
    "$\n",
    "\n",
    "3. $\\displaystyle\n",
    "\\int 1+4x-5x^4 dx.\n",
    "$"
   ]
  },
  {
   "cell_type": "markdown",
   "id": "cdc459d7",
   "metadata": {},
   "source": [
    "### Całkowanie przez podstawienie\n",
    "\n",
    "> Jeżeli funkcje $f$ i $g$ są różniczkowalne (w odpowiednich przedziałach), to wzór na __pochodną funkcji złożonej__ mówi, że  \n",
    ">\n",
    ">$$\n",
    "(f\\circ g)'(x)=f'(g(x))g'(x).\n",
    "$$\n",
    ">Zatem \n",
    ">\n",
    ">$$\n",
    "\\int f'(g(x))g'(x)dx=f(g(x))+C.\n",
    "$$\n",
    "> Wzór ten  zwany jest  wzorem na ___całkowanie przez podstawienie___.\n",
    "\n",
    "\n",
    "__Uwaga:__\n",
    "\n",
    "\n",
    "Całkując przez podstawienie można postąpić w następujący sposób:\n",
    "\n",
    ">1. W wyrażeniu $\\int f'(g(x))g'(x)dx$ zastępujemy $g(x)$ przez $t$ a $g'(x)dx$ przez $dt$ i otrzymujemy $\\int f'(t)dt$.\n",
    ">2. Ponieważ \n",
    ">\n",
    ">$$\n",
    "\\int f'(t)dt=f(t)+C, \n",
    "$$\n",
    ">\n",
    ">to zastępując teraz $t$ przez $g(x)$\n",
    "otrzymujemy ostatecznie, że \n",
    ">\n",
    ">$$\n",
    "\\int f'(g(x))g'(x)dx=f(g(x))+C.\n",
    "$$\n"
   ]
  },
  {
   "cell_type": "markdown",
   "id": "1a69a960",
   "metadata": {},
   "source": [
    "#### Przykłady"
   ]
  },
  {
   "cell_type": "markdown",
   "id": "994c5a2d",
   "metadata": {},
   "source": [
    "1. Obliczymy\n",
    "\n",
    "$$\n",
    "\\int 3x^2e^{x^3}dx.\n",
    "$$\n",
    "\n",
    "W tym celu podstawiamy $t=x^3$. Wtedy $dt=3x^2dx$.\n",
    "Stąd\n",
    "\n",
    "$$\n",
    "\\int 3x^2e^{x^3}dx=\\int e^t dt=e^t+C=e^{x^3}+C.\n",
    "$$"
   ]
  },
  {
   "cell_type": "markdown",
   "id": "ff4dce28",
   "metadata": {},
   "source": [
    "2.  Obliczymy\n",
    "\n",
    "$$\n",
    "\\int \\frac{1}{2\\sqrt{x}}\\cos\\left(\\sqrt{x}\\right)dx.\n",
    "$$\n",
    "\n",
    "W tym celu podstawiamy $t=\\sqrt{x}$. Wtedy $dt=\\frac{1}{2\\sqrt{x}}dx$.\n",
    "Stąd\n",
    "\n",
    "$$\n",
    "\\int \\frac{1}{2\\sqrt{x}}\\cos\\left(\\sqrt{x}\\right)dx=\\int \\cos(t)dt=\\sin (t)+C =\\sin\\left(\\sqrt{x}\\right)+C.\n",
    "$$"
   ]
  },
  {
   "cell_type": "markdown",
   "id": "a06233c5",
   "metadata": {},
   "source": [
    "3.  Obliczymy\n",
    "\n",
    "$$\n",
    "\\int \\frac{\\ln^5x}{x}dx.\n",
    "$$\n",
    "\n",
    "W tym celu podstawiamy $t=\\ln x$. Wtedy $dt=\\frac{1}{x}dx$.\n",
    "Stąd\n",
    "\n",
    "$$\n",
    "\\int \\frac{\\ln^5x}{x}dx=\\int t^5dt=\\frac{t^6}{6}+C=\\frac{\\ln^6x}{6}+C.\n",
    "$$"
   ]
  },
  {
   "cell_type": "markdown",
   "id": "e9ce4da9",
   "metadata": {},
   "source": [
    "4.   Obliczymy\n",
    "\n",
    "$$\n",
    "\\int x\\sqrt{1+x^2}dx.\n",
    "$$\n",
    "\n",
    "W tym celu podstawiamy $t=1+x^2$. Wtedy $dt=2xdx$.\n",
    "Stąd\n",
    "\n",
    "$$\n",
    "\\int x\\sqrt{1+x^2}dx=\\frac{1}{2}\\int 2x\\sqrt{1+x^2}dx=\\frac{1}{2}\\int\\sqrt{t}dt=\\frac{1}{2}\\cdot\\frac{2}{3}t^{\\frac{3}{2}}+C=\n",
    "\\frac{1}{3}\\sqrt{(1+x^2)^3}+C.\n",
    "$$"
   ]
  },
  {
   "cell_type": "markdown",
   "id": "dde18667",
   "metadata": {},
   "source": [
    "5.  Obliczymy\n",
    "\n",
    "$$\n",
    "\\int \\frac{x^3}{1+x^8}dx.\n",
    "$$\n",
    "\n",
    "W tym celu podstawiamy $t=x^4$. Wtedy $dt=4x^3dx$.\n",
    "Stąd\n",
    "\n",
    "$$\n",
    "\\int \\frac{x^3}{1+x^8}dx=\\frac{1}{4}\\int \\frac{1}{1+t^2}dt=\\frac{1}{4}\\operatorname{arctg}(t)+C=\\frac{1}{4}\\operatorname{arctg}(x^4)+C.\n",
    "$$"
   ]
  },
  {
   "cell_type": "markdown",
   "id": "8d8ee83e",
   "metadata": {},
   "source": [
    "#### Przykłady do samodzielnego rozwiązania\n",
    "\n",
    "1. $\\displaystyle \\int \\cos xe^{\\sin x}dx$\n",
    "\n",
    "\n",
    "2.  $\\displaystyle \\int  \\frac{1}{x}\\frac{1}{1+(\\ln x)^2}dx$\n",
    "\n",
    "\n",
    "3.  $\\displaystyle \\int\\frac{\\sqrt[3]{\\operatorname{tg} x}}{\\cos^2x} dx$\n",
    "\n",
    "\n",
    "4.  $\\displaystyle \\int \\frac{x}{\\sqrt{1+x^2}}dx$\n",
    "\n",
    "\n",
    "5.  $\\displaystyle \\int \\frac{e^{\\frac{1}{x}}}{x^2} dx$\n",
    "\n",
    "\n",
    "6.  $\\displaystyle \\int \\sin^4x\\cos x dx$\n",
    "\n",
    "\n",
    "7.  $\\displaystyle \\int\\frac{\\operatorname{arctg}(x)}{1+x^2} dx$\n",
    "\n",
    "\n"
   ]
  },
  {
   "cell_type": "markdown",
   "id": "6c8b1218",
   "metadata": {},
   "source": [
    "### Przydatna obserwacja"
   ]
  },
  {
   "cell_type": "markdown",
   "id": "fae0f10d",
   "metadata": {},
   "source": [
    ">Ze wzoru na pochodną funkcji złożonej wynika, że jeśli \n",
    ">\n",
    ">$$\n",
    "\\int f(x)dx=F(x)+C, \n",
    "$$\n",
    ">\n",
    ">to \n",
    ">\n",
    ">$$\n",
    "\\int f(ax+b)dx=\\frac{F(ax+b)}{a}+C.\n",
    "$$\n"
   ]
  },
  {
   "cell_type": "markdown",
   "id": "e78929c2",
   "metadata": {},
   "source": [
    "#### Przykłady "
   ]
  },
  {
   "cell_type": "markdown",
   "id": "b22011fb",
   "metadata": {},
   "source": [
    "1. $\\displaystyle\\int e^{4x+1}dx=\\frac{e^{4x+1}}{4}+C$.\n",
    "\n",
    "\n",
    "2.  $\\displaystyle\\int \\cos(2x+1)dx=\\frac{\\sin(2x+1)}{2}+C$.\n",
    "\n",
    "\n",
    "3.  $\\displaystyle\\int \\frac{1}{4x+6}dx=\\frac{\\ln|4x+6|}{4}+C$.\n",
    "\n",
    "\n",
    "4. $\\displaystyle\\int \\frac{1}{(5x+6)^{11}}dx=-\\frac{1}{50(5x+6)^{10}}+C$.\n"
   ]
  },
  {
   "cell_type": "markdown",
   "id": "01aba8c8",
   "metadata": {},
   "source": [
    "#### Przykłady do samodzielnego rozwiązania"
   ]
  },
  {
   "cell_type": "markdown",
   "id": "3c0b85c8",
   "metadata": {},
   "source": [
    "1. $\\displaystyle\\int e^{-3x+1}dx$.\n",
    "\n",
    "\n",
    "2.  $\\displaystyle\\int \\sin(8x+1)dx$.\n",
    "\n",
    "\n",
    "3.  $\\displaystyle\\int \\frac{1}{7x+7}dx$.\n",
    "\n",
    "\n",
    "4. $\\displaystyle\\int \\frac{1}{(8x+6)^{8}}dx$."
   ]
  },
  {
   "cell_type": "markdown",
   "id": "6a023e55",
   "metadata": {},
   "source": [
    "### I jeszcze jedna obserwacja"
   ]
  },
  {
   "cell_type": "markdown",
   "id": "f9f0d9bf",
   "metadata": {},
   "source": [
    ">$$\n",
    "\\int \\frac{f'(x)}{f(x)}dx=\\ln |f(x)|+C.\n",
    "$$"
   ]
  },
  {
   "cell_type": "markdown",
   "id": "3d5728e9",
   "metadata": {},
   "source": [
    "#### Przykłady"
   ]
  },
  {
   "cell_type": "markdown",
   "id": "6bd7a0c6",
   "metadata": {},
   "source": [
    "1. $\\displaystyle \\int\\frac{x}{1+x^2}dx=\\frac{1}{2} \\int\\frac{2x}{1+x^2}dx=\\frac{\\ln(1+x^2)}{2}+C$.\n",
    "\n",
    "\n",
    "2. $\\displaystyle \\int\\frac{\\cos}{7+\\sin x}dx=\\ln(7+\\sin x)+C$."
   ]
  },
  {
   "cell_type": "markdown",
   "id": "5f7c11b1",
   "metadata": {},
   "source": [
    "### Całkowanie przez części\n",
    "\n",
    ">**Twierdzenie.**\n",
    ">\n",
    ">Jeżeli funkcje $f$ i $g$ mają pochodne $f'$ i $g'$ ciągłe w przedziale $I$ \n",
    "(otwartym lub domkniętym), to\n",
    ">\n",
    ">$$\n",
    "\\int f(x)g'(x) \\; dx=f(x)g(x)-\\int f'(x)g(x) \\; dx \\ .\n",
    "$$"
   ]
  },
  {
   "cell_type": "markdown",
   "id": "f9646570",
   "metadata": {},
   "source": [
    "#### Przykłady"
   ]
  },
  {
   "cell_type": "markdown",
   "id": "912c50d2",
   "metadata": {},
   "source": [
    "1. Obliczymy \n",
    "\n",
    "$$\n",
    "\\int xe^xdx.\n",
    "$$\n",
    "\n",
    "Skorzystamy ze wzoru na całkowanie przez części biorąc: $f(x)=x$ i $g'(x)=e^x$. Wtedy \n",
    "$f'(x)=1$ i $g(x)=e^x$ i mamy\n",
    "\n",
    "$$\n",
    "\\int xe^xdx=xe^x-\\int e^xdx=xe^x-e^x+C.\n",
    "$$"
   ]
  },
  {
   "cell_type": "markdown",
   "id": "e4c22485",
   "metadata": {},
   "source": [
    "2. Obliczymy \n",
    "\n",
    "$$\n",
    "\\int (x^2+2x+1)e^{x+1}dx.\n",
    "$$\n",
    "\n",
    "Skorzystamy ze wzoru na całkowanie przez części biorąc: $f(x)=x^2+2x+1$ i $g'(x)=e^{x+1}$. Wtedy \n",
    "$f'(x)=2x+2$ i $g(x)=e^{x+1}$ i mamy\n",
    "\n",
    "$$\n",
    "\\int (x^2+2x+1)e^{x+1}dx =(x^2+2x+1)e^{x+1}-\\int (2x+2)e^{x+1}dx.\n",
    "$$\n",
    "\n",
    "Pozostałą do obliczenia całkę $\\int (2x+2)e^{x+1}dx$ obliczymy ponownie przez części biorac $f(x)=2x+2$ i $g'(x)=e^{x+1}$.\n",
    "Wtedy $f'(x)=2$ i $g(x)=e^{x+1}$ i mamy\n",
    "\n",
    "$$\n",
    "\\begin{align}\n",
    "\\int (x^2+2x+1)e^{x+1}dx =&(x^2+2x+1)e^{x+1}-(2x+2)e^{x+1}+\\int 2e^{x+1}dx\\\\ =&\n",
    "(x^2+2x+1)e^{x+1}-(2x+2)e^{x+1}+2e^{x+1}+C\n",
    "\\\\ =&\n",
    "(x^2+1)e^{x+1}+C.\n",
    "\\end{align}\n",
    "$$"
   ]
  },
  {
   "cell_type": "markdown",
   "id": "ed002a9a",
   "metadata": {},
   "source": [
    "__Uwaga:__\n",
    "Tak można obliczyć każdą całkę postaci\n",
    "\n",
    "$$\n",
    "\\int p(x)e^{ax+b}dx,\n",
    "$$\n",
    "gdzie $p(x)$ jest wielomianem."
   ]
  },
  {
   "cell_type": "markdown",
   "id": "28323ff3",
   "metadata": {},
   "source": [
    "3. Obliczymy \n",
    "\n",
    "$$\n",
    "\\int x\\sin(x)dx.\n",
    "$$\n",
    "\n",
    "Skorzystamy ze wzoru na całkowanie przez części biorąc: $f(x)=x$ i $g'(x)=\\sin (x)$. Wtedy \n",
    "$f'(x)=1$ i $g(x)=-\\cos(x)$ i mamy\n",
    "\n",
    "$$\n",
    "\\int x\\sin(x)dx=-x\\cos(x)+\\int \\cos(x)dx=-x\\cos(x)+\\sin(x)+C.\n",
    "$$"
   ]
  },
  {
   "cell_type": "markdown",
   "id": "c82234a5",
   "metadata": {},
   "source": [
    "4. Obliczymy \n",
    "\n",
    "$$\n",
    "\\int x^2\\cos(2x+1)dx.\n",
    "$$\n",
    "\n",
    "Skorzystamy ze wzoru na całkowanie przez części biorąc: $f(x)=x^2$ i $g'(x)=\\cos(2x+1)$. Wtedy \n",
    "$f'(x)=2x$ i $g(x)=\\frac{\\sin(2x+1)}{2}$ i mamy\n",
    "\n",
    "$$\n",
    "\\int  x^2\\cos(2x+1)dx =\\frac{x^2}{2}\\sin(2x+1)-\\int x\\sin(2x+1)dx.\n",
    "$$\n",
    "\n",
    "Pozostałą do obliczenia całkę $\\int x\\sin(2x+1)dx$ obliczymy ponownie przez części biorac $f(x)=x$ i $g'(x)=\\sin(2x+1)$.\n",
    "Wtedy $f'(x)=1$ i $g(x)=-\\frac{\\cos(2x+1)}{2}$ i mamy\n",
    "\n",
    "$$\n",
    "\\begin{align}\n",
    "\\int x^2\\cos(2x+1)dx =&\\frac{x^2}{2}\\sin(2x+1)+\\frac{x}{2}\\cos(2x+1)-\\int \\frac{\\cos(2x+1)}{2}dx \\\\ =&\n",
    "\\frac{x^2}{2}\\sin(2x+1)+\\frac{x}{2}\\cos(2x+1)- \\frac{\\sin(2x+1)}{4}+C.\n",
    "\\end{align}\n",
    "$$"
   ]
  },
  {
   "cell_type": "markdown",
   "id": "5424678d",
   "metadata": {},
   "source": [
    "__Uwaga:__\n",
    "Tak można obliczyć każdą całkę postaci\n",
    "\n",
    "$$\n",
    "\\int p(x)\\sin(ax+b)dx, \\int p(x)cos(ax+b)dx\n",
    "$$\n",
    "gdzie $p(x)$ jest wielomianem."
   ]
  },
  {
   "cell_type": "markdown",
   "id": "9e997b3c",
   "metadata": {},
   "source": [
    "5. Obliczymy \n",
    "\n",
    "$$\n",
    "\\int \\ln xdx.\n",
    "$$\n",
    "\n",
    "Skorzystamy ze wzoru na całkowanie przez części biorąc: $f(x)=\\ln x$ i $g'(x)=1$. Wtedy \n",
    "$f'(x)=\\frac{1}{x}$ i $g(x)=x$ i mamy\n",
    "\n",
    "$$\n",
    "\\int \\ln x dx=x\\ln x-\\int 1dx=x\\ln x -x+C.\n",
    "$$"
   ]
  },
  {
   "cell_type": "markdown",
   "id": "ae33fda7",
   "metadata": {},
   "source": [
    "6. Obliczymy \n",
    "\n",
    "$$\n",
    "\\int x^8\\ln xdx.\n",
    "$$\n",
    "\n",
    "Skorzystamy ze wzoru na całkowanie przez części biorąc: $f(x)=\\ln x$ i $g'(x)=x^8$. Wtedy \n",
    "$f'(x)=\\frac{1}{x}$ i $g(x)=\\frac{x^9}{9}$ i mamy\n",
    "\n",
    "$$\n",
    "\\int \\ln x dx=\\frac{x^9\\ln x}{9}-\\int \\frac{x^8}{9}dx=\\frac{x^9\\ln x}{9}- \\frac{x^9}{81}+C.\n",
    "$$"
   ]
  },
  {
   "cell_type": "markdown",
   "id": "6a29acdc",
   "metadata": {},
   "source": [
    "__Uwaga:__\n",
    "Tak można obliczyć każdą całkę postaci\n",
    "\n",
    "$$\n",
    "\\int p(x)\\ln xdx,\n",
    "$$\n",
    "gdzie $p(x)$ jest wielomianem."
   ]
  },
  {
   "cell_type": "markdown",
   "id": "83108cd9",
   "metadata": {},
   "source": [
    "7. Obliczymy \n",
    "\n",
    "$$\n",
    "\\int \\cos(x)e^xdx.\n",
    "$$\n",
    "\n",
    "\n",
    "Skorzystamy ze wzoru na całkowanie przez części biorąc: $f(x)=\\cos(x)$ i $g'(x)=e^x$. Wtedy \n",
    "$f'(x)=-\\sin(x)$ i $g(x)=e^x$ i mamy\n",
    "\n",
    "$$\n",
    "\\int \\cos(x)e^xdx =-\\sin(x)e^x+\\int \\sin(x)e^xdx.\n",
    "$$\n",
    "\n",
    "Pozostałą do obliczenia całkę $\\int \\sin(x)e^xdx$ obliczymy ponownie przez części biorac $f(x)=\\sin(x)$ i $g'(x)=e^x$.\n",
    "Wtedy $f'(x)=\\cos (x)$ i $g(x)=e^x$ i mamy\n",
    "\n",
    "$$\n",
    "\\begin{align}\n",
    "\\int \\cos(x)e^xdx =&-\\sin(x)e^x+\\cos(x)e^x-\\int \\cos(x)e^x.\n",
    "\\end{align}\n",
    "$$\n",
    "\n",
    "Stąd \n",
    "\n",
    "$$\n",
    "2\\int \\cos(x)e^xdx =-\\sin(x)e^x+\\cos(x)e^x,\n",
    "$$\n",
    "\n",
    "a zatem \n",
    "\n",
    "$$\n",
    "\\int \\cos(x)e^xdx =\\frac{-\\sin(x)e^x+\\cos(x)e^x}{2}+C.\n",
    "$$\n"
   ]
  },
  {
   "cell_type": "markdown",
   "id": "261877c9",
   "metadata": {},
   "source": [
    "#### Przykłady do samodzielnego rozwiązania"
   ]
  },
  {
   "cell_type": "markdown",
   "id": "63578605",
   "metadata": {},
   "source": [
    "1. $\\displaystyle \\int (x+3)e^{x+4}dx$.\n",
    "\n",
    "\n",
    "2. $\\displaystyle\\int x^3e^{x}dx$.\n",
    "\n",
    "\n",
    "3. $\\displaystyle\\int (x+2)\\cos(2x+1)dx$.\n",
    "\n",
    "\n",
    "4. $\\displaystyle\\int x^2\\sin(x+3)dx$.\n",
    "\n",
    "\n",
    "5. $\\displaystyle\\int x^6\\ln xdx$."
   ]
  },
  {
   "cell_type": "markdown",
   "id": "a3250bf9",
   "metadata": {},
   "source": [
    "__Uwaga.__\n",
    "Oczywisćie nie każdą całkę można policzyć używając tylko metody całkowania przez cześci i przez podstawienie.\n",
    "Ponadto istnieją też takie funkcje, których funkcji pierwotnej nie można przedstawić za pomocą funkcji elementarnych."
   ]
  }
 ],
 "metadata": {
  "kernelspec": {
   "display_name": "Python 3 (ipykernel)",
   "language": "python",
   "name": "python3"
  },
  "language_info": {
   "codemirror_mode": {
    "name": "ipython",
    "version": 3
   },
   "file_extension": ".py",
   "mimetype": "text/x-python",
   "name": "python",
   "nbconvert_exporter": "python",
   "pygments_lexer": "ipython3",
   "version": "3.9.13"
  },
  "toc": {
   "base_numbering": 1,
   "nav_menu": {},
   "number_sections": false,
   "sideBar": true,
   "skip_h1_title": false,
   "title_cell": "Table of Contents",
   "title_sidebar": "Contents",
   "toc_cell": false,
   "toc_position": {},
   "toc_section_display": true,
   "toc_window_display": true
  }
 },
 "nbformat": 4,
 "nbformat_minor": 5
}
