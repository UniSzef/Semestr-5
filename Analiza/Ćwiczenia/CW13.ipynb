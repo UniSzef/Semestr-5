{
 "cells": [
  {
   "cell_type": "markdown",
   "id": "9f2398e3",
   "metadata": {},
   "source": [
    "# Całkowanie wybranych klas funkcji"
   ]
  },
  {
   "cell_type": "markdown",
   "id": "6b480aaf",
   "metadata": {},
   "source": [
    "## Cel zajęć\n",
    "\n",
    "Kontynuujemy poznawanie metod obliczania całek nieoznaczonych. Dowiemy się  w szczególności jak policzyć całkę z dowolnej funkcji wymiernej, dowiemy się o podstawieniu uniwersalnym pozwalającym obliczyć całki zawierające funkcje trygonometryczne, poznamy też sposób na obliczenie wybranych całek zawierających funkcje niewymierne."
   ]
  },
  {
   "cell_type": "markdown",
   "id": "1cd1fd48",
   "metadata": {},
   "source": [
    "## Wybrane całki"
   ]
  },
  {
   "cell_type": "markdown",
   "id": "5455fc2c",
   "metadata": {},
   "source": [
    "Podczas ostatnich zajęć  nauczyliśmy się wzoru na całkowanie przez części i wzoru na całkowanie przez podstawienie.\n",
    "Często w celu oblicznia całki trzeba użyć obydwu tych metod (i wcale nie jest czasami jasne jak to zrobić, obliczanie całek jest istotnie trudniejsze niż obliczanie pochodnych)."
   ]
  },
  {
   "cell_type": "markdown",
   "id": "5788d460",
   "metadata": {},
   "source": [
    "1. Obliczymy  \n",
    "\n",
    "$$\n",
    "\\int \\operatorname{arctg}xdx.\n",
    "$$\n",
    "\n",
    "Skorzystamy ze wzoru na całkowanie przez części biorąc: $f(x)=\\operatorname{arctg}x$ i $g'(x)=1$. Wtedy \n",
    "$f'(x)=\\frac{1}{1+x^2}$ i $g(x)=x$ i mamy\n",
    "\n",
    "$$\n",
    "\\begin{align*}\n",
    "\\int \\operatorname{arctg}xdx=&x\\operatorname{arctg}x-\\int\\frac{x}{1+x^2}\\\\\n",
    "=& x\\operatorname{arctg}x-\\frac{\\ln(1+x^2)}{2}+C.\n",
    "\\end{align*}\n",
    "$$"
   ]
  },
  {
   "cell_type": "markdown",
   "id": "21bd02ca",
   "metadata": {},
   "source": [
    "2. Obliczymy\n",
    "\n",
    "$$\n",
    "\\int \\sqrt{1-x^2}dx.\n",
    "$$\n",
    "\n",
    "W tym celu zauważmy, że \n",
    "\n",
    "$$\n",
    "\\begin{align*}\n",
    "\\int \\sqrt{1-x^2}dx=&\\int \\frac{1-x^2}{\\sqrt{1-x^2}}dx\\\\\n",
    "=&\\int \\frac{1}{\\sqrt{1-x^2}}dx- \\int x\\cdot \\frac{x}{\\sqrt{1-x^2}}dx\\\\\n",
    "=&\\arcsin x + \\int x\\cdot \\left(\\sqrt{1-x^2}\\right)'dx\\\\\n",
    "=& \\arcsin x +x\\sqrt{1-x^2}-\\int \\sqrt{1-x^2}dx.\n",
    "\\end{align*}\n",
    "$$\n",
    "\n",
    "Zatem \n",
    "\n",
    "$$\n",
    "\\int \\sqrt{1-x^2}dx=\\frac{\\arcsin x}{2}+\\frac{x\\sqrt{1-x^2}}{2}+C.\n",
    "$$"
   ]
  },
  {
   "cell_type": "markdown",
   "id": "ab3afca5",
   "metadata": {},
   "source": [
    "__Uwaga:__ policzona właśnie całka pozwoli nam za chwilę obliczyć pole koła."
   ]
  },
  {
   "cell_type": "markdown",
   "id": "487fdd29",
   "metadata": {},
   "source": [
    "3. Obliczymy \n",
    "\n",
    "$$\n",
    "\\int e^{\\sqrt{x}}dx.\n",
    "$$\n",
    "\n",
    "W tym celu podstawiamy $t=\\sqrt{x}$. Wtedy $dt=\\frac{1}{2\\sqrt{x}}dx$.\n",
    "\n",
    "Stąd\n",
    "\n",
    "$$\n",
    "\\begin{align*}\n",
    "\\int e^{\\sqrt{x}}dx=&2\\int \\sqrt{x}\\cdot e^{\\sqrt{x}}\\cdot\\frac{1}{2\\sqrt{x}}dx\\\\=&2\\int te^tdt\\\\\n",
    "=& 2te^t-e^t+C\\\\\n",
    "=&2\\sqrt{x}e^\\sqrt{x}-2e^\\sqrt{x}+C.\n",
    "\\end{align*}\n",
    "$$"
   ]
  },
  {
   "cell_type": "markdown",
   "id": "c5e3bf6c",
   "metadata": {},
   "source": [
    "4. Obliczymy \n",
    "\n",
    "$$\n",
    "\\int \\ln ^2xdx.\n",
    "$$\n",
    "\n",
    "Skorzystamy ze wzoru na całkowanie przez części biorąc: $f(x)=\\ln^2x$ i $g'(x)=1$. Wtedy \n",
    "$f'(x)=2\\frac{\\ln x}{x}$ i $g(x)=x$ i mamy\n",
    "\n",
    "$$\n",
    "\\begin{align*}\n",
    "\\int \\ln ^2xdx=x\\ln^2x-2\\int \\ln xdx=x\\ln^2x-2x\\ln x+2x+C.\n",
    "\\end{align*}\n",
    "$$\n"
   ]
  },
  {
   "cell_type": "markdown",
   "id": "afacccaf",
   "metadata": {},
   "source": [
    "## Wzory rekurencyjne"
   ]
  },
  {
   "cell_type": "markdown",
   "id": "b3e5a165",
   "metadata": {},
   "source": [
    "Pokażemy teraz jak obliczyć \n",
    "\n",
    "$$\n",
    "I_n=\\int \\sin^n(x)dx\n",
    "$$\n",
    "\n",
    "dla dowolnego $n\\in \\mathbb{N}$.\n",
    "\n",
    "Dla $n=1$ \n",
    "mamy oczywiście \n",
    "\n",
    "$$\n",
    "I_1=-\\cos(x)+C.\n",
    "$$\n",
    "\n",
    "Aby obliczyć $I_2$ zauważmy, że z jedynki trygonometrycznej i wzoru na cosinus podwojonego kąta wynika, że \n",
    "\n",
    "$$\n",
    "    \\sin^2(x)=\\frac{1-\\cos(2x)}{2}.\n",
    "$$\n",
    "\n",
    "Zatem \n",
    "\n",
    "$$ \n",
    "\\int \\sin^2(x)dx=\\frac{1}{2}\\int 1-\\cos(2x)dx=\\frac{1}{2}x-\\frac{1}{4}\\sin(2x)+C.\n",
    "$$\n",
    "\n",
    "Dla $n\\geq 2 $ sprowadzimy obliczanie $I_n$ do obliczenia całek wcześniejszych.\n",
    "Niech $f(x)=\\sin^{n-1}(x)$ i $g'(x)=\\sin(x)$.\n",
    "Wtedy $f'(x)=(n-1)\\sin^{n-2}(x)\\cos(x)$\n",
    " i $g(x)=-\\cos(x)$.\n",
    " Zatem ze wzoru na całkowanie przez części\n",
    " \n",
    "$$\n",
    "\\begin{aligned}\n",
    "    I_n &= -\\sin^{n-1}(x)\\cos(x) - \\int -(n-1)\\sin^{n-2}(x)\\cos^2(x) \\, dx \\\\\n",
    "    &= -\\sin^{n-1}(x)\\cos(x) + (n-1)\\int \\sin^{n-2}(x)(1 - \\sin^2(x)) \\, dx \\\\\n",
    "    &= -\\sin^{n-1}(x)\\cos(x) + (n-1)\\int \\sin^{n-2}(x) - \\sin^n(x) \\, dx \\\\\n",
    "    &= -\\sin^{n-1}(x)\\cos(x) + (n-1)I_{n-2} - (n-1)I_n.\n",
    "\\end{aligned}\n",
    "$$\n",
    "\n",
    "Stąd\n",
    "\n",
    "$$\n",
    "nI_n = -\\sin^{n-1}(x)\\cos(x) + (n-1)I_{n-2} \n",
    "$$\n",
    "\n",
    "\n",
    "Ostatecznie\n",
    "\n",
    "$$\n",
    "I_n = -\\frac{1}{n}\\sin^{n-1}(x)\\cos(x) + \\frac{n-1}{n}I_{n-2}.\n",
    "$$\n",
    "\n",
    "Dla przykładu \n",
    "\n",
    "$$\n",
    "\\begin{aligned}\n",
    "    I_4 &= -\\frac{1}{4}\\sin^3(x)\\cos(x) + \\frac{3}{4}I_2 \\\\\n",
    "    &= -\\frac{1}{4}\\sin^3(x)\\cos(x) + \\frac{3}{4}\\left(\\frac{1}{2}x-\\frac{1}{4}\\sin(2x)\\right) +C\\\\\n",
    "    &= -\\frac{1}{4}\\sin^3(x)\\cos(x) - \\frac{3}{16}\\sin(2x)+\\frac{3}{8}x+C.\n",
    "\\end{aligned}\n",
    "$$\n"
   ]
  },
  {
   "cell_type": "markdown",
   "id": "84aa2b13",
   "metadata": {},
   "source": [
    "#### Przykład do samodzielnego rozwiązania\n",
    "Wyprowadź wzór rekurencyjny na obliczenie \n",
    "\n",
    "$$\n",
    "I_n=\\int \\cos^n(x)dx.\n",
    "$$"
   ]
  },
  {
   "cell_type": "markdown",
   "id": "f603ef9c",
   "metadata": {},
   "source": [
    "## Calkowanie funkcji wymiernych\n",
    "\n",
    "Dowiemy się teraz jak obliczyć całkę z dowolnej funkcji wymiernej. Przypomnijmy kilka ważnych informacji ze __Wstępu do Matematyki__."
   ]
  },
  {
   "cell_type": "markdown",
   "id": "ac123253",
   "metadata": {},
   "source": [
    "### Definicja funkcji wymiernej\n",
    "\n",
    ">Funkcję $w$ nazywamy\n",
    ">funkcją wymierną jednej zmiennej rzeczywistej (w skrócie funkcją wymierną), gdy określona jest ona wzorem\n",
    ">\n",
    ">$$\n",
    "w(x)=\\frac{p(x)}{q(x)},\n",
    "$$\n",
    ">\n",
    "> gdzie $p$ oraz $q$ są wielomianami jednej zmiennej rzeczywistej i ponadto $q$ nie jest wielomianem zerowym.\n",
    ">* Dziedziną funkcji wymiernej jest zbiór tych wszystkich liczb\n",
    "rzeczywistych dla których $q(x)\\not=0.$ "
   ]
  },
  {
   "cell_type": "markdown",
   "id": "5f3a2472",
   "metadata": {},
   "source": [
    "### Definicja ułamka prostego\n",
    "\n",
    "> Funkcję wymierną $w$ nazywamy \n",
    ">\n",
    ">* ułamkiem prostym pierwszego rodzaju, gdy \n",
    ">\n",
    ">$$\n",
    "w(x)=\\frac{A}{(Bx+C)^k},\n",
    "$$\n",
    ">\n",
    "> gdzie $A,B,C\\in\\mathbb{R}$, $B\\not=0$ oraz $k\\in\\mathbb{N}$;\n",
    ">\n",
    ">* ułamkiem prostym drugiego rodzaju, gdy \n",
    ">\n",
    ">$$\n",
    "w(x)=\\frac{Ax+B}{(Cx^2+Dx+E)^l},\n",
    "$$\n",
    ">\n",
    "> gdzie \n",
    "$A,B,C,D,E\\in\\mathbb{R}$, $C\\not=0$,  $l\\in\\mathbb{N}$ oraz $D^2-4CE<0$ (to oznacza, że  funkcja $Cx^2+Dx+E$ nie ma miejsc zerowych);\n",
    ">\n",
    ">* ułamkiem prostym, gdy jest ułamkiem prostym pierwszego lub drugiego rodzaju."
   ]
  },
  {
   "cell_type": "markdown",
   "id": "6f8a33a0",
   "metadata": {},
   "source": [
    "### Twierdzenie o rozkładzie funkcji wymiernej\n",
    "\n",
    "> Niech $w$ będzie funkcją wymierną.Wtedy  $w$ można przedstawić jako sumę wielomianu i  skończonej liczby ułamków prostych."
   ]
  },
  {
   "cell_type": "markdown",
   "id": "1bd731ec",
   "metadata": {},
   "source": [
    "__Uwaga:__ z powyższych informacji wynika, że aby policzyć całkę z dowolnej funkcji wymiernej, wystarczy umieć liczyć całki z wielomianów i ułamków prostych. Calkowanie wielomianów jest proste, zajmiemy się teraz całkowaniem ułamków prostych."
   ]
  },
  {
   "cell_type": "markdown",
   "id": "7ee9f26d",
   "metadata": {},
   "source": [
    ">Przypomijmy, że jeśli \n",
    ">\n",
    ">$$\n",
    "\\int f(x)dx=F(x)+C, \n",
    "$$\n",
    ">\n",
    ">to \n",
    ">\n",
    ">$$\n",
    "\\int f(ax+b)dx=\\frac{F(ax+b)}{a}+C.\n",
    "$$\n"
   ]
  },
  {
   "cell_type": "markdown",
   "id": "0a2c1b97",
   "metadata": {},
   "source": [
    "### Całkowanie ułamków prostych pierwszego rodzaju"
   ]
  },
  {
   "cell_type": "markdown",
   "id": "abf00ce4",
   "metadata": {},
   "source": [
    "1. Mamy \n",
    "\n",
    "$$\n",
    "\\int \\frac{1}{x}dx=\\ln|x|+C.\n",
    "$$\n",
    "\n",
    "2. Mamy \n",
    "\n",
    "$$\n",
    "\\int \\frac{1}{4x+7}dx=\\frac{\\ln|4x+7|}{4}+C.\n",
    "$$\n",
    "\n",
    "3. Mamy\n",
    "\n",
    "$$\n",
    "\\int \\frac{3}{7x+14}dx=\\frac{3\\ln|7x+13|}{7}+C.\n",
    "$$"
   ]
  },
  {
   "cell_type": "markdown",
   "id": "6aae0028",
   "metadata": {},
   "source": [
    "4. Mamy\n",
    "\n",
    "$$\n",
    "\\int \\frac{1}{x^7}dx=-\\frac{1}{6x^6}+C.\n",
    "$$\n",
    "\n",
    "5. Mamy \n",
    "\n",
    "$$\n",
    "\\int \\frac{1}{(2x+3)^7}dx=-\\frac{1}{2\\cdot 6(2x+3)^6}+C.\n",
    "$$"
   ]
  },
  {
   "cell_type": "markdown",
   "id": "d8936595",
   "metadata": {},
   "source": [
    "### Przykłady do samodzielnego rozwiązania"
   ]
  },
  {
   "cell_type": "markdown",
   "id": "53fb02a5",
   "metadata": {},
   "source": [
    "Oblicz:\n",
    "\n",
    "$$\n",
    "\\int\\frac{1}{3x+2}dx,\\quad \\int\\frac{1}{-2x+3}dx,\\quad \\int\\frac{1}{(2x+2)^{11}}dx,\\quad \\int\\frac{1}{(3x+2)^3}dx.\n",
    "$$"
   ]
  },
  {
   "cell_type": "markdown",
   "id": "e99047fa",
   "metadata": {},
   "source": [
    "### Całkowanie ułamków prostych drugiego rodzaju"
   ]
  },
  {
   "cell_type": "markdown",
   "id": "e1300014",
   "metadata": {},
   "source": [
    "Najpierw nauczymy się obliczać całki z funkcji wymiernych postaci\n",
    "\n",
    "$$\n",
    "w(x)=\\frac{Ax+B}{Cx^2+Dx+E},\n",
    "$$\n",
    "\n",
    "gdzie \n",
    "$A,B,C,D,E\\in\\mathbb{R}$, $C\\not=0$,oraz $D^2-4CE<0$."
   ]
  },
  {
   "cell_type": "markdown",
   "id": "2251663f",
   "metadata": {},
   "source": [
    "1. Mamy\n",
    "\n",
    "$$\n",
    "\\int \\frac{1}{x^2+1}dx=\\operatorname{arctg}x+C\n",
    "$$\n",
    "\n",
    "2. Mamy \n",
    "\n",
    "$$\n",
    "\\int \\frac{1}{x^2+2x+2}dx=\n",
    "\\int \\frac{1}{(x+1)^2+1}dx=\n",
    "\\operatorname{arctg}(x+1)+C\n",
    "$$\n",
    "\n",
    "3.  Mamy \n",
    "\n",
    "$$\n",
    "\\begin{align*}\n",
    "\\int \\frac{1}{x^2+2x+10}dx=&\n",
    "\\int \\frac{1}{(x+1)^2+9}dx=\n",
    "\\frac{1}{9} \\int \\frac{1}{\\left(\\frac{x+1}{3}\\right)^2+1}dx\\\\=&\n",
    "\\frac{1}{9}\\cdot\\frac{\\operatorname{arctg}\\left(\\frac{x+1}{3}\\right)}{\\frac{1}{3}}+C=\n",
    "\\frac{1}{3}\\operatorname{arctg}\\left(\\frac{x+1}{3}\\right)+C.\n",
    "\\end{align*}\n",
    "$$"
   ]
  },
  {
   "cell_type": "markdown",
   "id": "0956e4a9",
   "metadata": {},
   "source": [
    "> Przypomnijmy, że \n",
    ">\n",
    ">$$\n",
    "\\int \\frac{f'(x)}{f(x)}dx=\\ln |f(x)|+C.\n",
    "$$"
   ]
  },
  {
   "cell_type": "markdown",
   "id": "1678983f",
   "metadata": {},
   "source": [
    "4. Mamy\n",
    "\n",
    "$$\n",
    "\\int \\frac{2x}{x^2+1}dx=\\ln (x^2+1)+C.\n",
    "$$\n",
    "\n",
    "5. Mamy \n",
    "\n",
    "$$\n",
    "\\int \\frac{2x+1}{x^2+1}=\\int \\frac{2x}{x^2+1}dx+\\int \\frac{1}{x^2+1}=\\ln (x^2+1)+\\operatorname{arctg}x+C.\n",
    "$$\n",
    "\n",
    "6. Mamy  \n",
    "\n",
    "$$\n",
    "\\begin{align*}\n",
    "\\int\\frac{4x+5}{x^2+2x+2}dx=&\n",
    "\\int \\frac{2(2x+2)+1}{x^2+2x+2}dx\\\\\n",
    "=&2\\int\\frac{2x+2}{x^2+2x+2}dx+\\int\\frac{1}{(x+1)^2+1}dx\\\\\n",
    "=& 2\\ln (x^2+2x+2)+\\operatorname{arctg}(x+1)+C.\n",
    "\\end{align*}\n",
    "$$"
   ]
  },
  {
   "cell_type": "markdown",
   "id": "b186a69e",
   "metadata": {},
   "source": [
    "Przejdziemy teraz do całkowania funkcji wymiernych postaci\n",
    "\n",
    "$$\n",
    "w(x)=\\frac{Ax+B}{(Cx^2+Dx+E)^l},\n",
    "$$\n",
    "\n",
    "gdzie \n",
    "$A,B,C,D,E\\in\\mathbb{R}$, $C\\not=0$,  $l\\in\\mathbb{N}$ oraz $D^2-4CE<0$.\n",
    "\n",
    "Co do pomysłów, nie różni się to od poprzednich rozważań. Jedyną dodatkową informacją jakiej potrzebujemy jest następujący wzór rekurencyjny."
   ]
  },
  {
   "cell_type": "markdown",
   "id": "2095b05f",
   "metadata": {},
   "source": [
    "__FAKT__\n",
    ">\n",
    ">Niech dla $n\\in\\mathbb{N}$\n",
    ">\n",
    ">$$\n",
    "T_n=\\int\\frac{1}{(x^2+1)^n}dx.\n",
    "$$\n",
    ">\n",
    ">Wtedy \n",
    ">\n",
    ">$$\n",
    "T_1=\\operatorname{arctg}x+C\n",
    "$$\n",
    ">\n",
    ">i dla $n\\geq 2$\n",
    ">\n",
    ">$$\n",
    "T_n=\\frac{1}{2n-2}\\cdot\\frac{x}{(x^2+1)^{n-1}}+\\frac{2n-3}{2n-2}T_{n-1}.\n",
    "$$"
   ]
  },
  {
   "cell_type": "markdown",
   "id": "fe6a4c53",
   "metadata": {},
   "source": [
    "7. Mamy\n",
    "\n",
    "$$\n",
    "\\int \\frac{1}{(x^2+1)^2}dx=\\frac{1}{2}\\cdot \\frac{x}{x^2+1}+\\frac{1}{2}\\operatorname{arctg}x+C.\n",
    "$$\n",
    "\n",
    "8. Mamy\n",
    "\n",
    "\n",
    "$$\n",
    "\\int \\frac{2x+1}{(x^2+1)^2}dx=\n",
    "\\int\\frac{2x}{(x+1)^2}dx+\\int \\frac{1}{(x^2+1)^2}dx\n",
    "$$\n",
    "\n",
    "Aby policzyć \n",
    "\n",
    "$$\n",
    "\\int \\frac{2x}{(x^2+1)^2}dx\n",
    "$$\n",
    "\n",
    "podstawiamy $t=x^2+1$. Wtedy $dt=2xdx$. Stąd \n",
    "\n",
    "$$\n",
    "\\int \\frac{2x}{(x^2+1)^2}dx=\\int\\frac{1}{t^2}dt=-\\frac{1}{t}+C=-\\frac{1}{x^2+1}+C.\n",
    "$$\n",
    "\n",
    "Ostatecznie\n",
    "\n",
    "$$\n",
    "\\int \\frac{2x+1}{(x^2+1)^2}dx=-\\frac{1}{x^2+1}+\\frac{1}{2}\\cdot \\frac{x}{x^2+1}+\\frac{1}{2}\\operatorname{arctg}x+C.\n",
    "$$"
   ]
  },
  {
   "cell_type": "markdown",
   "id": "b6d108fd",
   "metadata": {},
   "source": [
    "### Przykłady do samodzielnego rozwiązania"
   ]
  },
  {
   "cell_type": "markdown",
   "id": "07e826ed",
   "metadata": {},
   "source": [
    "Oblicz:\n",
    "\n",
    "$$\n",
    "\\int\\frac{1}{x^2+5}dx,\\quad \\int\\frac{1}{x^2+4x+8}dx,\\quad \\int\\frac{2x+4}{x^2+4x+8}dx,\\quad\n",
    "\\int\\frac{2x+5}{x^2+4x+8}dx,\\quad\\int\\frac{1}{(x^2+1)^3}dx.\n",
    "$$"
   ]
  },
  {
   "cell_type": "markdown",
   "id": "c35de0f9",
   "metadata": {},
   "source": [
    "### Podsumowanie"
   ]
  },
  {
   "cell_type": "markdown",
   "id": "46cd25ff",
   "metadata": {},
   "source": [
    "1. Obliczymy\n",
    "\n",
    "$$\n",
    "\\int \\frac{4}{x^2-4}dx.\n",
    "$$\n",
    "\n",
    "Najpierw zauważmy, że \n",
    "\n",
    "$$\n",
    "\\frac{4}{x^2-4}=\\frac{1}{x-2}-\\frac{1}{x+2}.\n",
    "$$\n",
    "\n",
    "Stąd\n",
    "\n",
    "$$\n",
    "\\int \\frac{4}{x^2-4}dx=\\ln |x-2|-\\ln|x+2| +C\n",
    "$$"
   ]
  },
  {
   "cell_type": "markdown",
   "id": "fc1507f6",
   "metadata": {},
   "source": [
    "2. Obliczymy \n",
    "\n",
    "$$\n",
    "\\int\\frac{x^4+x^3+2x^2+2x+2}{(x+1)(x^2+1)}dx.\n",
    "$$\n",
    "\n",
    "Dzieląc przes siebie wielomiany i rozkładając funkcję na ułamki proste otrzymujemy, że \n",
    "\n",
    "$$\n",
    "\\frac{x^4+x^3+2x^2+2x+2}{(x+1)(x^2+1)}=x+\\frac{1}{x+1}+\\frac{1}{x^2+1}.\n",
    "$$\n",
    "\n",
    "Stąd\n",
    "\n",
    "$$\n",
    "\\int\\frac{x^4+x^3+2x^2+2x+2}{(x+1)(x^2+1)}dx=\\frac{x^2}{2}+\\ln |x+1|+\\operatorname{arctg}(x)+C.\n",
    "$$\n"
   ]
  },
  {
   "cell_type": "markdown",
   "id": "9ee562c8",
   "metadata": {},
   "source": [
    "## Całki zawierajace funkcje trygonometryczne (materiał dodatkowy)"
   ]
  },
  {
   "cell_type": "markdown",
   "id": "ab0c5fab",
   "metadata": {},
   "source": [
    "### Podstawienie uniwersalne"
   ]
  },
  {
   "cell_type": "markdown",
   "id": "44a1c1e8",
   "metadata": {},
   "source": [
    "Dowiemy się teraz jak obliczć dowolną całkę postaci \n",
    "\n",
    "$$\n",
    "\\int W(\\sin x, \\cos x)dx,\n",
    "$$\n",
    "\n",
    "gdzie $W(x,y)$ jest dowolną funkcją wymierną dwóch zmiennych rzeczywistych."
   ]
  },
  {
   "cell_type": "markdown",
   "id": "e48a8366",
   "metadata": {},
   "source": [
    "Każdą taką całkę można obliczyć podstawiając \n",
    "\n",
    "$$\n",
    "t=\\operatorname{tg}\\left(\\frac{x}{2}\\right).\n",
    "$$"
   ]
  },
  {
   "cell_type": "markdown",
   "id": "010f4688",
   "metadata": {},
   "source": [
    "Wtedy \n",
    "\n",
    "$$\n",
    "2\\operatorname{arctg}t=x\n",
    "$$\n",
    "\n",
    "więc \n",
    "\n",
    "$$\n",
    "dx=\\frac{2}{1+t^2}dt.\n",
    "$$\n",
    "\n",
    "Ponadto mamy\n",
    "\n",
    "$$\n",
    "\\sin x =\\frac{2\\operatorname{tg}\\left(\\frac{x}{2}\\right)}{1+\\operatorname{tg}^2\\left(\\frac{x}{2}\\right)}=\\frac{2t}{1+t^2}\\text{ oraz }\n",
    "\\cos x =\\frac{1-\\operatorname{tg}^2\\left(\\frac{x}{2}\\right)}{1+\\operatorname{tg}^2\\left(\\frac{x}{2}\\right)}=\\frac{1-t^2}{1+t^2}.\n",
    "$$\n",
    "\n",
    "Po wykonaniu takiego podstawienia nasza całka zamieni się w całkę z pewnej funkcji wymiernej."
   ]
  },
  {
   "cell_type": "markdown",
   "id": "acffe501",
   "metadata": {},
   "source": [
    "1. Obliczymy \n",
    "\n",
    "$$\n",
    "\\int \\frac{1}{\\sin x}dx.\n",
    "$$\n",
    "\n",
    "Wykonując podstawienie uniwersalne dostajemy\n",
    "\n",
    "$$\n",
    "\\int \\frac{1}{\\sin x}dx=\\int \\frac{1+t^2}{2t}\\cdot \\frac{2}{1+t^2}dt\n",
    "=\\int\\frac{1}{t}dt=\\ln|t|+C=\\ln\\left|\\operatorname{tg}\\left(\\frac{x}{2}\\right)\\right|+C\n",
    "$$"
   ]
  },
  {
   "cell_type": "markdown",
   "id": "7f43decc",
   "metadata": {},
   "source": [
    "2. Obliczymy \n",
    "\n",
    "$$\n",
    "\\int \\frac{2+\\sin x}{\\sin x (1+\\cos x) }dx.\n",
    "$$"
   ]
  },
  {
   "cell_type": "markdown",
   "id": "ae1f1c2b",
   "metadata": {},
   "source": [
    "Po wykonaniu podstawienia uniwersalnego i wykonaniu niezbędnych rachunków dostajemy, że \n",
    "\n",
    "$$\n",
    "\\begin{align*}\n",
    "\\int \\frac{2+\\sin x}{\\sin x (1+\\cos x) }dx=&\\int \n",
    "\\frac{t^2+t+1}{t}dt=\\int t+1+\\frac{1}{t}dt=\n",
    "\\frac{t^2}{2}+t+\\ln|t|+C\\\\\n",
    "=&\\frac{\\operatorname{tg}^2\\left(\\frac{x}{2}\\right)}{2}+\\operatorname{tg}\\left(\\frac{x}{2}\\right)+\n",
    "\\ln\\left|\\operatorname{tg}\\left(\\frac{x}{2}\\right)\\right|\n",
    "+C.\n",
    "\\end{align*}\n",
    "$$"
   ]
  },
  {
   "cell_type": "markdown",
   "id": "1df71077",
   "metadata": {},
   "source": [
    "__UWAGA:__ ze względu na pracochłonność podstawienie uniwersalne powinno być stosowane w ostateczności."
   ]
  },
  {
   "cell_type": "markdown",
   "id": "731e51dc",
   "metadata": {},
   "source": [
    "## Całkowanie pewnych funkcji niewymiernych (materiał dodatkowy)"
   ]
  },
  {
   "cell_type": "markdown",
   "id": "5ed21678",
   "metadata": {},
   "source": [
    "Zobaczymy teraz jak obliczyć dowolną całkę postaci \n",
    "\n",
    "$$\n",
    "\\int\\frac{W_n(x)}{\\sqrt{ax^2+bx+c}}dx,~~~~~~~~~~~~~~~~~~~~~~~~~~~~~~~(1)\n",
    "$$\n",
    "\n",
    "gdzie $W_n$ jest dowolnym wielomianem stopnia $n$."
   ]
  },
  {
   "cell_type": "markdown",
   "id": "c8f3ffc3",
   "metadata": {},
   "source": [
    "Najpierw zobaczymy jak policzyć \n",
    "\n",
    "$$\n",
    "\\int\\frac{1}{\\sqrt{ax^2+bx+c}}dx.~~~~~~~~~~~~~~~~~~~~~~~~~~~~~(2)\n",
    "$$"
   ]
  },
  {
   "cell_type": "markdown",
   "id": "56774fe9",
   "metadata": {},
   "source": [
    "__Przypadek $a>0$__\n",
    "\n",
    "Bezpośrednie sprawdzenie pokazuje, że \n",
    "\n",
    "$$\n",
    "\\int\\frac{1}{\\sqrt{x^2+k}}dx=\\ln|x+\\sqrt{x^2+k}|+C.\n",
    "$$\n",
    "\n",
    "Korzystając z tego wzoru można obliczyć wszystkie tego typu $(2)$, gdzie $a>0$.\n",
    "\n",
    "1. Mamy\n",
    "\n",
    "\n",
    "$$\n",
    "\\int\\frac{1}{\\sqrt{x^2+4x}}dx=\\int\\frac{1}{\\sqrt{(x+2)^2-4}}dx=\\ln|x+2+\\sqrt{(x+2)^2-4}|+C.\n",
    "$$\n",
    "\n",
    "2.  Mamy\n",
    "\n",
    "\n",
    "$$\n",
    "\\int\\frac{1}{\\sqrt{x^2+2x+7}}dx=\\int\\frac{1}{\\sqrt{(x+1)^2+6}}dx=\\ln|x+1+\\sqrt{(x+1)^2+6}|+C.\n",
    "$$\n"
   ]
  },
  {
   "cell_type": "markdown",
   "id": "80116390",
   "metadata": {},
   "source": [
    "__Przypadek $a<0$__\n",
    "\n",
    "Wiemy, że\n",
    "\n",
    "$$\n",
    "\\int\\frac{1}{\\sqrt{1-x^2}}dx=\\arcsin x+C.\n",
    "$$\n",
    "\n",
    "Korzystając z tego wzoru można obliczyć wszystkie tego typu $(2)$, gdzie $a<0$.\n",
    "\n",
    "1. Mamy\n",
    "\n",
    "\n",
    "$$\n",
    "\\int\\frac{1}{\\sqrt{4-x^2}}dx=\\frac{1}{2}\\int\\frac{1}{\\sqrt{1-\\left(\\frac{x}{2}\\right)^2}}dx=\\frac{1}{2}\\frac{\\arcsin\\left(\\frac{x}{2}\\right)}{\\frac{1}{2}}+C=\\arcsin\\left(\\frac{x}{2}\\right)+C.\n",
    "$$\n",
    "\n",
    "2.  Mamy\n",
    "\n",
    "\n",
    "$$\n",
    "\\int\\frac{1}{\\sqrt{-3+4x-x^2}}dx=\\int\\frac{1}{\\sqrt{1-(x-2)^2}}dx=\\arcsin(x-2)+C.\n",
    "$$\n"
   ]
  },
  {
   "cell_type": "markdown",
   "id": "64cb0f6e",
   "metadata": {},
   "source": [
    "Wrócimy teraz do obliczenia całek postaci $(1)$. Prawdziwe jest nastepujące twierdzenie."
   ]
  },
  {
   "cell_type": "markdown",
   "id": "273c05f6",
   "metadata": {},
   "source": [
    ">__Twierdzenie__ \n",
    ">\n",
    ">Niech $a\\not=0$ i niech $W_n$ będzie wielomianem stopnia $n$. \n",
    "Istnieją wtedy: wielomian $W_{n-1}$ stopnia $n-1$ oraz $A\\in\\mathbb{R}$ \n",
    "takie, że \n",
    ">\n",
    ">$$\n",
    "\\int\\frac{W_n(x)}{\\sqrt{ax^2+bx+c}}dx=W_{n-1}(x)\\cdot\\sqrt{ax^2+bx+c}+A\\int\\frac{1}{\\sqrt{ax^2+bx+c}}dx.\n",
    "$$"
   ]
  },
  {
   "cell_type": "markdown",
   "id": "94c62e5e",
   "metadata": {},
   "source": [
    "1. Obliczymy \n",
    "\n",
    "$$\n",
    "\\int \\frac{x^2}{\\sqrt{x^2+1}}dx.\n",
    "$$\n",
    "\n",
    "Z powyższego twierdzenia wynika, że istnieją liczby $a,b,c$ takie, że \n",
    "\n",
    "$$\n",
    "\\int \\frac{x^2}{\\sqrt{x^2+1}}dx=(ax+b)\\cdot\\sqrt{x^2+1}+c\\int\\frac{1}{\\sqrt{x^2+1}}dx,\n",
    "$$\n",
    "\n",
    "naszym celem jest znaleźć te liczby.\n",
    "W tym celu różniczkujemy powyższą równość i otrzymujemy równanie \n",
    "\n",
    "$$\n",
    "\\frac{x^2}{\\sqrt{x^2+1}}=a\\sqrt{x^2+1}+(ax+b)\\cdot \\frac{x}{\\sqrt{x^2+1}}+\\frac{c}{\\sqrt{x^2+1}}.\n",
    "$$\n",
    "\n",
    "Mnożąc tę równość przez $\\sqrt{x^2+1}$\n",
    "otrzymujemy\n",
    "\n",
    "$$\n",
    "x^2=a\\cdot(x^2+1)+(ax+b)\\cdot x+c\n",
    "$$\n",
    "\n",
    "Stąd \n",
    "\n",
    "$$\n",
    "x^2=2ax^2+bx+(a+c).\n",
    "$$\n",
    "\n",
    "A zatem $a=\\frac{1}{2}$, $b=0$, $c=-\\frac{1}{2}$.  \n",
    "\n",
    "\n",
    "Ostatecznie\n",
    "\n",
    "$$\n",
    "\\int \\frac{x^2}{\\sqrt{x^2+1}}dx=\\frac{1}{2}x\\sqrt{x^2+1}-\\frac{1}{2}\\int\\frac{1}{\\sqrt{x^2+1}}dx=\n",
    "\\frac{1}{2}x\\sqrt{x^2+1}-\\frac{1}{2}\\ln|x+\\sqrt{x^2+1}|+C.\n",
    "$$"
   ]
  },
  {
   "cell_type": "markdown",
   "id": "c695cd74",
   "metadata": {},
   "source": [
    "2. Obliczymy \n",
    "\n",
    "$$\n",
    "\\int \\frac{x^3}{\\sqrt{1-x^2}}dx.\n",
    "$$"
   ]
  },
  {
   "cell_type": "markdown",
   "id": "e4b1bb91",
   "metadata": {},
   "source": [
    "Z twierdzenia powyżej wynika, że istnieją liczby $a,b,c,d$  takie, że \n",
    "\n",
    "$$\n",
    "\\int \\frac{x^3}{\\sqrt{1-x^2}}dx=(ax^2+bx+c)\\cdot\\sqrt{1-x^2}+d\\int \\frac{1}{\\sqrt{1-x^2}}dx.\n",
    "$$"
   ]
  },
  {
   "cell_type": "markdown",
   "id": "641849e3",
   "metadata": {},
   "source": [
    "Różniczkujemy powyższą równość i otrzymujemy równanie \n",
    " \n",
    "$$\n",
    "\\frac{x^3}{\\sqrt{1-x^2}}=(2ax+b)\\cdot\\sqrt{1-x^2}-(ax^2+bx+c)\\cdot\\frac{x}{\\sqrt{1-x^2}}+\\frac{d}{\\sqrt{1-x^2}}.\n",
    "$$"
   ]
  },
  {
   "cell_type": "markdown",
   "id": "4064a352",
   "metadata": {},
   "source": [
    "Mnożąc tę równość przez $\\sqrt{1-x^2}$  dostajemy\n",
    "\n",
    "$$\n",
    "x^3=(2ax+b)(1-x^2)-(ax^2+bx+c)\\cdot x+d.\n",
    "$$"
   ]
  },
  {
   "cell_type": "markdown",
   "id": "df93d1a0",
   "metadata": {},
   "source": [
    "Stąd\n",
    "\n",
    "$$\n",
    "x^3=-3ax^3-2bx^2+(2a-c)x+d.\n",
    "$$"
   ]
  },
  {
   "cell_type": "markdown",
   "id": "7a94a7e9",
   "metadata": {},
   "source": [
    "Zatem $a=-\\frac{1}{3}$, $b=0$, $c=-\\frac{2}{3}$ oraz $d=0$."
   ]
  },
  {
   "cell_type": "markdown",
   "id": "6ae14fbd",
   "metadata": {},
   "source": [
    "Ostatecznie \n",
    "\n",
    "$$\n",
    "\\int \\frac{x^3}{\\sqrt{1-x^2}}dx=-\\frac{1}{3}(x^2+2)\\sqrt{1-x^2}+C.\n",
    "$$"
   ]
  }
 ],
 "metadata": {
  "kernelspec": {
   "display_name": "Python 3 (ipykernel)",
   "language": "python",
   "name": "python3"
  },
  "language_info": {
   "codemirror_mode": {
    "name": "ipython",
    "version": 3
   },
   "file_extension": ".py",
   "mimetype": "text/x-python",
   "name": "python",
   "nbconvert_exporter": "python",
   "pygments_lexer": "ipython3",
   "version": "3.9.13"
  },
  "toc": {
   "base_numbering": 1,
   "nav_menu": {},
   "number_sections": false,
   "sideBar": true,
   "skip_h1_title": false,
   "title_cell": "Table of Contents",
   "title_sidebar": "Contents",
   "toc_cell": false,
   "toc_position": {},
   "toc_section_display": true,
   "toc_window_display": true
  }
 },
 "nbformat": 4,
 "nbformat_minor": 5
}
