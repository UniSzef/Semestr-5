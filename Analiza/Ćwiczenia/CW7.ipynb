{
 "cells": [
  {
   "cell_type": "markdown",
   "id": "9f2398e3",
   "metadata": {},
   "source": [
    "# Jednostajna ciągłość, asymptoty funkcji"
   ]
  },
  {
   "cell_type": "markdown",
   "id": "c3cf3a0e",
   "metadata": {},
   "source": [
    "## Cel zajęć"
   ]
  },
  {
   "cell_type": "markdown",
   "id": "ead64872",
   "metadata": {},
   "source": [
    "Podczas zajęć zapoznamy się z pojęciem funkcji jednostajnie ciąglej i zobaczymy jak pokazywać, że funkcja jednostajnie ciągla jest lub nie. Ponadto policzymy asymptoty pionowe i ukośne funkcji."
   ]
  },
  {
   "cell_type": "markdown",
   "id": "eb19c3da",
   "metadata": {},
   "source": [
    "## Jednostajna ciągłość funkcji"
   ]
  },
  {
   "cell_type": "markdown",
   "id": "867d89ba",
   "metadata": {},
   "source": [
    "Naszym celem będzie teraz poznanie bardzo ważnej klasy funkcji jednostajnie ciągłych.\n",
    "Przypomnijmy najpierw definicję takich funkcji."
   ]
  },
  {
   "cell_type": "markdown",
   "id": "d6e68cf9",
   "metadata": {},
   "source": [
    ">__Definicja.__ Funkcję $f$ określoną w niepustym zbiorze $A\\subset \\Bbb R$ nazywamy __jednostajnie ciągłą na zbiorze $A$__, \n",
    "gdy dla każdego $\\varepsilon >0$ istnieje $\\delta>0$ taka, że dla dowolnych $x,x_0\\in A$ spełniających warunek \n",
    "$\\mid x-x_0\\mid<\\delta$, zachodzi nierówność $\\mid f(x)-f(x_0)\\mid<\\varepsilon$."
   ]
  },
  {
   "cell_type": "markdown",
   "id": "6ccc9495",
   "metadata": {},
   "source": [
    "Porównajmy: ciągłość funkcji $f$ na zbiorze $A$ oznacza, że \n",
    "\n",
    "$$\n",
    "{\\forall}_{x_0\\in A} \\quad {\\forall}_{\\varepsilon>0}\\quad \n",
    "{\\exists}_{\\delta>0}\\quad {\\forall}_{x\\in A} \\quad \n",
    "\\mid x-x_0\\mid<\\delta \\ \\Longrightarrow \\ \\mid f(x)-f(x_0)\\mid <\\varepsilon \\ , \n",
    "$$\n",
    "\n",
    "Liczba $\\delta$ zależy tu zarówno od $\\varepsilon$ i od $x_0$.\n",
    "\n",
    "Jednostajna ciąglość funkcji $f$ na zbiorze $A$ oznacza, że \n",
    "\n",
    "$$\n",
    "{\\forall}_{\\varepsilon>0} \\quad  {\\exists}_{\\delta>0}\\quad\n",
    "{\\forall}_{x_0\\in A}\\quad {\\forall}_{x\\in A} \\quad \n",
    "\\mid x-x_0\\mid<\\delta \\ \\Longrightarrow \\ \\mid f(x)-f(x_0)\\mid <\\varepsilon \\ . \n",
    "$$\n",
    "Tutaj liczba $\\delta$ zależy tylko od $\\varepsilon$.\n",
    "\n",
    "__Uwaga:__ jest jasne, że każda funkcja jednostajnie ciągła na zbiorze $A$ jest funkcją ciągłą na $A$. Za chwilę zobczymy przykłady funkcji ciągłych, ale nie jednostajnie ciągłych."
   ]
  },
  {
   "cell_type": "markdown",
   "id": "49db2c27",
   "metadata": {},
   "source": [
    "### Ciągłość i jednostajna ciągłość na interaktywnym rysunku"
   ]
  },
  {
   "cell_type": "code",
   "execution_count": 1,
   "id": "62350d0c",
   "metadata": {},
   "outputs": [
    {
     "data": {
      "application/vnd.jupyter.widget-view+json": {
       "model_id": "378bc3f7fa664e32ad343f6f43c860b3",
       "version_major": 2,
       "version_minor": 0
      },
      "text/plain": [
       "interactive(children=(FloatSlider(value=5.0, description='a:', max=10.0, min=0.1), FloatSlider(value=2.0, desc…"
      ]
     },
     "metadata": {},
     "output_type": "display_data"
    }
   ],
   "source": [
    "import matplotlib.pyplot as plt\n",
    "import numpy as np\n",
    "import matplotlib.patches as patches\n",
    "import ipywidgets as widgets\n",
    "from IPython.display import display\n",
    "from ipywidgets import interactive\n",
    "\n",
    "# Define the x values (interval from 0 to 10)\n",
    "x = np.linspace(0.1, 10, 100)  # Using 0.1 instead of 0 to avoid division by zero in 1/x\n",
    "\n",
    "# Calculate the corresponding y values for each function\n",
    "y1 = 1 / x\n",
    "\n",
    "\n",
    "# Initial values for a, d, and e\n",
    "initial_a = 5\n",
    "initial_d = 2\n",
    "initial_e = 2\n",
    "\n",
    "# Create the plot\n",
    "def update_plot(a, d, e):\n",
    "    plt.figure(figsize=(8, 6))  # Optional: Set the figure size\n",
    "    plt.plot(x, y1, label='1/x', color='blue')\n",
    " \n",
    "\n",
    "    # Add labels and legend\n",
    "    plt.xlabel('x')\n",
    "    plt.ylabel('y')\n",
    "    plt.title('Plot of 1/x')\n",
    "    plt.legend()\n",
    "\n",
    "    # Set the y-axis limits to improve visualization\n",
    "    plt.ylim(-5, 10)\n",
    "\n",
    "    # Add the green rectangle\n",
    "    rectangle = patches.Rectangle((a - d, 1/a - e), 2*d, 2*e, linewidth=1, edgecolor='black', facecolor='lightgreen')\n",
    "    plt.gca().add_patch(rectangle)\n",
    "    \n",
    "    #add a point \n",
    "    plt.scatter(a,1/a, color='black')\n",
    "   \n",
    "    # Display the plot\n",
    "    plt.grid(True)  # Optional: Add grid lines\n",
    "    plt.show()\n",
    "\n",
    "# Create interactive sliders\n",
    "a_slider = widgets.FloatSlider(value=initial_a, min=0.1, max=10, step=0.1, description='a:')\n",
    "d_slider = widgets.FloatSlider(value=initial_d, min=0.1, max=10, step=0.1, description='d:')\n",
    "e_slider = widgets.FloatSlider(value=initial_e, min=0.1, max=10, step=0.1, description='e:')\n",
    "\n",
    "# Create an interactive plot with widgets\n",
    "interactive_plot = interactive(update_plot, a=a_slider, d=d_slider, e=e_slider)\n",
    "display(interactive_plot)\n"
   ]
  },
  {
   "cell_type": "markdown",
   "id": "850f9b7e",
   "metadata": {},
   "source": [
    "### Przykłady funkcji jednostajnie ciągłych"
   ]
  },
  {
   "cell_type": "markdown",
   "id": "0ab7430b",
   "metadata": {},
   "source": [
    "__Przykład 1.__\n",
    "\n",
    "Pokażemy, że funkcja $f\\colon\\mathbb{R}\\to\\mathbb{R}$ dana wzorem $f(x)=x^2$ jest jednostajnie ciągła na przedziale $[0,10]$.\n",
    "Moglibyśmy to wywnioskować bezpośrednio z nastepującego twierdzenia."
   ]
  },
  {
   "cell_type": "markdown",
   "id": "bcbf9e9d",
   "metadata": {},
   "source": [
    ">__Twierdzenie.__ Funkcja ciągła w przedziale domkniętym i ograniczonym jest w tym przedziale jednostajnie ciągła."
   ]
  },
  {
   "cell_type": "markdown",
   "id": "58e84ac9",
   "metadata": {},
   "source": [
    "Ale zrobimy to odwołując się bezpośrednio do definicji.\n",
    "Niech zatem $\\varepsilon>0$ i niech $x,x_0\\in[0,10]$.\n",
    "Wtedy \n",
    "\n",
    "$$\n",
    "\\left|f(x)-f(x_0)\\right|=\\left|x^2-x_0^2\\right|=(x+x_0)\\left|x-x_0\\right|\\leq 20 \\left|x-x_0\\right|.\n",
    "$$\n",
    "\n",
    "Zatem jeśli \n",
    "\n",
    "$$|x-x_0|<\\delta:=\\frac{\\varepsilon}{20},$$\n",
    "\n",
    "to \n",
    "\n",
    "$$\n",
    "\\left|f(x)-f(x_0)\\right|<\\varepsilon.\n",
    "$$\n",
    "\n",
    "Pokazaliśmy zatem jednostajną ciągłość funkcji $f$ na przedziale $[0,10]$"
   ]
  },
  {
   "cell_type": "markdown",
   "id": "4192d720",
   "metadata": {},
   "source": [
    "__Zadanie do samodzielnego rozwiązania__\n",
    "\n",
    "Pokaż, że funkcja $f\\colon\\mathbb{R}\\to\\mathbb{R}$ dana wzorem $f(x)=x^2$ jest jednostajnie ciągła na przedziale $[-5,2]$."
   ]
  },
  {
   "cell_type": "markdown",
   "id": "42ee61cc",
   "metadata": {},
   "source": [
    "__Przykład 2.__\n",
    "\n",
    "Pokażemy, że funkcja $f\\colon (0,\\infty)\\to\\mathbb{R}$ dana wzorem $f(x)=\\frac{1}{x}$ jest jednostajnie ciągła na przedziale $[1,\\infty)$.\n",
    "\n",
    "Niech $\\varepsilon>0$ i niech $x,x_0\\in [1,\\infty)$. \n",
    "Wtedy\n",
    "\n",
    "$$\n",
    "\\left|f(x)-f(x_0)\\right|=\\left|\\frac{1}{x}-\\frac{1}{x_0}\\right|=\\frac{|x-x_0|}{x\\cdot x_0}\\leq |x-x_0|.\n",
    "$$\n",
    "\n",
    "Zatem jeśli \n",
    "\n",
    "$$|x-x_0|<\\delta:=\\varepsilon,$$\n",
    "\n",
    "to \n",
    "\n",
    "$$\n",
    "\\left|f(x)-f(x_0)\\right|<\\varepsilon.\n",
    "$$"
   ]
  },
  {
   "cell_type": "markdown",
   "id": "898dc8c9",
   "metadata": {},
   "source": [
    "__Zadanie do samodzielnego rozwiązania__\n",
    "\n",
    "Pokaż, że  funkcja $f\\colon (0,\\infty)\\to\\mathbb{R}$ dana wzorem $f(x)=\\frac{1}{x^3}$ jest jednostajnie ciągła na przedziale $(1,\\infty)$."
   ]
  },
  {
   "cell_type": "markdown",
   "id": "aca8c9f2",
   "metadata": {},
   "source": [
    "__Przykład 3.__\n",
    "\n",
    "Pokażemy, że funkcja $f\\colon\\mathbb{R}\\to\\mathbb{R}$ dana wzorem $f(x)=\\sin x$ jest jednostajnie ciągła na  $\\mathbb{R}$."
   ]
  },
  {
   "cell_type": "markdown",
   "id": "7fd2a0a3",
   "metadata": {},
   "source": [
    "Niech $\\varepsilon>0$ i niech $x,x_0\\in \\mathbb{R}$. \n",
    "Wtedy korzystając ze wzoru na różnicę sinusów i nierówności $|\\sin (y)|\\leq |y|$ prawdziwej dla każdego $y\\in\\mathbb{R}$\n",
    "dostajemy, że \n",
    "$$\n",
    "\\begin{align*}\n",
    "\\left|f(x)-f(x_0)\\right|=\n",
    "\\left|\\sin(x)-\\sin(x_0)\\right|=&\n",
    "2 \\left|\\cos\\left(\\frac{x+x_0}{2}\\right)\\sin\\left(\\frac{x-x_0}{2}\\right)\\right|\\\\\n",
    "\\leq & 2 \\left|\\sin\\left(\\frac{x-x_0}{2}\\right)\\right|\n",
    "\\\\\n",
    "\\leq& |x-x_0|.\n",
    "\\end{align*}\n",
    "$$\n",
    "\n",
    "Zatem jeśli \n",
    "\n",
    "$$|x-x_0|<\\delta:=\\varepsilon,$$\n",
    "\n",
    "to \n",
    "\n",
    "$$\n",
    "\\left|f(x)-f(x_0)\\right|<\\varepsilon.\n",
    "$$"
   ]
  },
  {
   "cell_type": "markdown",
   "id": "d70fa0b9",
   "metadata": {},
   "source": [
    "__Zadanie do samodzielnego rozwiązania__\n",
    "\n",
    "Pokaż, że  funkcja $f\\colon [0,\\infty)\\to\\mathbb{R}$ dana wzorem $f(x)=\\sqrt{x}$ jest jednostajnie ciągła na przedziale $[0,\\infty)$."
   ]
  },
  {
   "cell_type": "markdown",
   "id": "94d608dc",
   "metadata": {},
   "source": [
    "### Jak pokazać, że funkcja nie jest jednostajnie ciągła?"
   ]
  },
  {
   "cell_type": "markdown",
   "id": "09a1c147",
   "metadata": {},
   "source": [
    ">__Fakt__\n",
    ">\n",
    ">Funkcja $f\\colon A\\to\\mathbb{R}$ jest jednostajnie ciągła na $A$, gdy dla dowolnych dwóch ciągów $(a_n)_{n\\in\\mathbb{N}}$,\n",
    "$(b_n)_{n\\in\\mathbb{N}}$ elementów zbioru $A$ takich, że \n",
    ">\n",
    ">$$\n",
    "\\lim_{n\\to\\infty}(a_n-b_n)=0\n",
    "$$\n",
    ">\n",
    ">mamy\n",
    ">\n",
    ">$$\n",
    "\\lim_{n\\to\\infty}(f(a_n)-f(b_n))=0.\n",
    "$$"
   ]
  },
  {
   "cell_type": "markdown",
   "id": "747af9ab",
   "metadata": {},
   "source": [
    "__Przykład 1.__\n",
    "\n",
    "Pokażemy, że funkcja $f\\colon\\mathbb{R}\\to\\mathbb{R}$ dana wzorem $f(x)=x^2$  nie jest jednostajnie ciągła na $\\mathbb{R}$."
   ]
  },
  {
   "cell_type": "markdown",
   "id": "b6df1c0f",
   "metadata": {},
   "source": [
    "Wykres tej funkcji sugeruje następującą rzecz: jeśli argumenty są blisko siebie i są przy tym bardzo duże, to wtedy wartości funkcji w tych punktach różnią się istotnie."
   ]
  },
  {
   "cell_type": "code",
   "execution_count": 4,
   "id": "ff75b61c",
   "metadata": {},
   "outputs": [
    {
     "data": {
      "application/vnd.jupyter.widget-view+json": {
       "model_id": "2934316e9012415d917db3f0586380a1",
       "version_major": 2,
       "version_minor": 0
      },
      "text/plain": [
       "interactive(children=(FloatSlider(value=5.0, description='a:', max=10.0, min=0.1), FloatSlider(value=2.0, desc…"
      ]
     },
     "metadata": {},
     "output_type": "display_data"
    }
   ],
   "source": [
    "import matplotlib.pyplot as plt\n",
    "import numpy as np\n",
    "import matplotlib.patches as patches\n",
    "import ipywidgets as widgets\n",
    "from IPython.display import display\n",
    "from ipywidgets import interactive\n",
    "\n",
    "# Define the x values (interval from 0 to 5)\n",
    "x = np.linspace(0, 10, 100)  #\n",
    "\n",
    "# Calculate the corresponding y values for each function\n",
    "y1 = x*x\n",
    "\n",
    "\n",
    "# Initial values for a, d, and e\n",
    "initial_a = 5\n",
    "initial_d = 2\n",
    "initial_e = 2\n",
    "\n",
    "# Create the plot\n",
    "def update_plot(a, d, e):\n",
    "    plt.figure(figsize=(8, 6))  # Optional: Set the figure size\n",
    "    plt.plot(x, y1, label='x^2', color='blue')\n",
    " \n",
    "\n",
    "    # Add labels and legend\n",
    "    plt.xlabel('x')\n",
    "    plt.ylabel('y')\n",
    "    plt.title('Plot of x^2')\n",
    "    plt.legend()\n",
    "\n",
    "    # Set the y-axis limits to improve visualization\n",
    "    plt.ylim(0, 100)\n",
    "\n",
    "    # Add the green rectangle\n",
    "    rectangle = patches.Rectangle((a - d, a*a - e), 2*d, 2*e, linewidth=1, edgecolor='black', facecolor='lightgreen')\n",
    "    plt.gca().add_patch(rectangle)\n",
    "    \n",
    "    #add a point \n",
    "    plt.scatter(a,a*a, color='black')\n",
    "   \n",
    "    # Display the plot\n",
    "    plt.grid(True)  # Optional: Add grid lines\n",
    "    plt.show()\n",
    "\n",
    "# Create interactive sliders\n",
    "a_slider = widgets.FloatSlider(value=initial_a, min=0.1, max=10, step=0.1, description='a:')\n",
    "d_slider = widgets.FloatSlider(value=initial_d, min=0.1, max=10, step=0.1, description='d:')\n",
    "e_slider = widgets.FloatSlider(value=initial_e, min=0.1, max=10, step=0.1, description='e:')\n",
    "\n",
    "# Create an interactive plot with widgets\n",
    "interactive_plot = interactive(update_plot, a=a_slider, d=d_slider, e=e_slider)\n",
    "display(interactive_plot)\n"
   ]
  },
  {
   "cell_type": "markdown",
   "id": "95f3b0c9",
   "metadata": {},
   "source": [
    "Sformalizujemy teraz nasze rozważania.\n",
    "W tym celu niech \n",
    "\n",
    "$$\n",
    "a_n=n+\\frac{1}{n} \\text{ oraz niech } b_n=n.\n",
    "$$\n",
    "\n",
    "Wtedy \n",
    "\n",
    "$$\n",
    "\\lim_{n\\to\\infty}(a_n-b_n)=\\lim_{n\\to\\infty}\\frac{1}{n}=0.\n",
    "$$\n",
    "\n",
    "Ponadto dla każdego $n\\in\\mathbb{N}$ mamy\n",
    "\n",
    "$$\n",
    "f(a_n)-f(b_n)=\\left(n+\\frac{1}{n}\\right)^2-n^2=2+\\frac{1}{n^2}.\n",
    "$$\n",
    "\n",
    "Zatem ciąg $(f(a_n)-f(b_n))_{n\\in\\mathbb{N}}$ nie jest zbieżny do zera.\n",
    "Stąd $f$ nie jest jednostajnie ciągła.\n",
    "\n"
   ]
  },
  {
   "cell_type": "markdown",
   "id": "f72fc65d",
   "metadata": {},
   "source": [
    "__Zadanie do samodzielnego rozwiązania__\n",
    "\n",
    "Pokaż, że  funkcja $f\\colon \\mathbb{R}\\to\\mathbb{R}$ dana wzorem $f(x)=\\sin(x^2)$ nie jest jednostajnie ciągła na $\\mathbb{R}$.\n",
    "\n",
    "__Hint:__ zmodyfikuj kod powyzej w celu uzyskania wykresu tej funkcji."
   ]
  },
  {
   "cell_type": "markdown",
   "id": "533eeef3",
   "metadata": {},
   "source": [
    "__Przykład 2.__\n",
    "\n",
    "Pokażemy, że funkcja $f\\colon(0,1)\\to\\mathbb{R}$ dana wzorem $f(x)=\\frac{1}{x}$  nie jest jednostajnie ciągła na $(0,1)$.\n",
    "\n",
    "Niech \n",
    "\n",
    "$$\n",
    "a_n=\\frac{1}{n+1} \\text{ oraz niech } b_n=\\frac{1}{n}.\n",
    "$$\n",
    "\n",
    "Wtedy \n",
    "\n",
    "$$\n",
    "\\lim_{n\\to\\infty}(a_n-b_n)=\\lim_{n\\to\\infty}\\frac{1}{n+1}-\\frac{1}{n}=0.\n",
    "$$\n",
    "\n",
    "Ponadto dla każdego $n\\in\\mathbb{N}$ mamy\n",
    "\n",
    "$$\n",
    "f(a_n)-f(b_n)=n+1-n=1.\n",
    "$$\n",
    "\n",
    "Zatem ciąg $(f(a_n)-f(b_n))_{n\\in\\mathbb{N}}$ nie jest zbieżny do zera.\n",
    "Stąd $f$ nie jest jednostajnie ciągła.\n"
   ]
  },
  {
   "cell_type": "markdown",
   "id": "16899231",
   "metadata": {},
   "source": [
    "__Zadanie do samodzielnego rozwiązania__\n",
    "\n",
    "Pokaż, że  funkcja $f\\colon (0,1)\\to\\mathbb{R}$ dana wzorem $f(x)=\\frac{1}{x^2}$ nie jest jednostajnie ciągła na przedziale $(0,1)$."
   ]
  },
  {
   "cell_type": "markdown",
   "id": "2c791a8a",
   "metadata": {},
   "source": [
    "## Asympototy ukośne"
   ]
  },
  {
   "cell_type": "markdown",
   "id": "1b36a8e0",
   "metadata": {},
   "source": [
    "__Przypomnienie teorii__"
   ]
  },
  {
   "cell_type": "markdown",
   "id": "d4e76e27",
   "metadata": {},
   "source": [
    ">__Definicja.__ Jeżeli istnieje $M\\in \\Bbb R$ taka, że $f$ jest ciągła w przedziale $(M,+\\infty)$ $\\ [(-\\infty,M)]$, \n",
    "oraz istnieje prosta $y=mx+n$ taka, że\n",
    ">\n",
    ">$$\n",
    "\\lim_{x\\to +\\infty}[f(x)-(mx+n)]=0 \\ ,\n",
    "$$\n",
    ">\n",
    ">$$\n",
    "\\text{odpowiednio:} \\ [\\lim_{x\\to -\\infty}[f(x)-(mx+n)]=0] \n",
    "$$\n",
    ">\n",
    ">to tę prostą nazywamy __asymptotą ukośną funkcji $f$__ przy $x\\to +\\infty$  $\\ [\\text {przy } x\\to -\\infty]$. "
   ]
  },
  {
   "cell_type": "markdown",
   "id": "845137e1",
   "metadata": {},
   "source": [
    ">__Twierdzenie.__ Warunkiem koniecznym i wystarczającym na to, aby funkcja $y=mx+n$ \n",
    "była asymptotą ukośną funkcji $f$ dla $x\\to +\\infty \\ [x\\to -\\infty]$, jest aby:\n",
    ">\n",
    ">$$\n",
    "m=\\lim_{x\\to +\\infty}\\frac {f(x)}x \\quad\\quad \\text {oraz} \\quad\\quad n=\\lim_{x\\to +\\infty}(f(x)-mx) \\ ,\n",
    "$$\n",
    ">\n",
    ">$$\n",
    "\\text{odpowiednio:} \\ \\left [m=\\lim_{x\\to -\\infty}\\frac {f(x)}x \\quad\\quad \\text {oraz}\\quad\\quad n=\\lim_{x\\to -\\infty}(f(x)-mx)\\right ] \\ .\n",
    "$$"
   ]
  },
  {
   "cell_type": "markdown",
   "id": "d472271f",
   "metadata": {},
   "source": [
    "__Przykład 1.__"
   ]
  },
  {
   "cell_type": "markdown",
   "id": "4a0bdd1f",
   "metadata": {},
   "source": [
    "Wyznaczymy asympoty ukośne funkcji \n",
    "\n",
    "$$\n",
    "f(x)=\\frac{x^2}{x^2+1}.\n",
    "$$\n",
    "\n",
    "Dziedziną funkcji $f$ jest $\\mathbb{R}$.\n",
    "Mamy\n",
    "\n",
    "$$\n",
    "m=\\lim_{x\\to +\\infty}\\frac {f(x)}x=\\lim_{x\\to+\\infty}\\frac{x^2}{x^3+x}=0\n",
    "$$\n",
    "\n",
    "oraz \n",
    "\n",
    "$$\n",
    "n=\\lim_{x\\to +\\infty}(f(x)-mx)=\\lim_{x\\to +\\infty}f(x)=\\lim_{x\\to +\\infty}\\frac{x^2}{x^2+1}=1.\n",
    "$$\n",
    "\n",
    "Zatem prosta \n",
    "\n",
    "$$\n",
    "y=1\n",
    "$$\n",
    "\n",
    "jest asymptotą ukośną funkcji $f$ dla $x\\to \\infty$. Identyczne rachunki jak powżyej pokazują, że jest ona również asymptotą funkcji $f$ dla $x\\to-\\infty$."
   ]
  },
  {
   "cell_type": "code",
   "execution_count": 1,
   "id": "6ba4f6e0",
   "metadata": {},
   "outputs": [
    {
     "data": {
      "image/png": "[encoded data removed]",
      "text/plain": [
       "<Figure size 640x480 with 1 Axes>"
      ]
     },
     "metadata": {},
     "output_type": "display_data"
    }
   ],
   "source": [
    "import matplotlib.pyplot as plt\n",
    "import numpy as np\n",
    "\n",
    "# Create an array of x values\n",
    "x = np.linspace(-10, 10, 400)  # Adjust the range as needed\n",
    "\n",
    "# Calculate the corresponding y values using the function\n",
    "y = x**2 / (x**2 + 1)\n",
    "\n",
    "# Create the plot for the function\n",
    "plt.plot(x, y, label='y = x^2 / (x^2 + 1)', color='blue')\n",
    "\n",
    "# Add a red dashed line for y = 1\n",
    "plt.axhline(y=1, color='red', linestyle='--', label='y = 1')\n",
    "\n",
    "# Add more visible axes\n",
    "plt.axhline(0, color='black', linewidth=2)\n",
    "plt.axvline(0, color='black', linewidth=2)\n",
    "\n",
    "# Add labels and legend\n",
    "plt.xlabel('x')\n",
    "plt.ylabel('y')\n",
    "plt.legend()\n",
    "\n",
    "# Show the plot\n",
    "plt.grid()\n",
    "plt.show()\n"
   ]
  },
  {
   "cell_type": "markdown",
   "id": "ff665ffe",
   "metadata": {},
   "source": [
    "__Przykład 2.__"
   ]
  },
  {
   "cell_type": "markdown",
   "id": "3ac6312d",
   "metadata": {},
   "source": [
    "Wyznaczymy asympoty ukośne funkcji \n",
    "\n",
    "$$\n",
    "f(x)=\\sqrt{x^2+x+1}.\n",
    "$$\n",
    "\n",
    "Dziedziną funkcji $f$ jest $\\mathbb{R}$.\n",
    "Mamy\n",
    "\n",
    "$$\n",
    "\\begin{align*}\n",
    "m=\\lim_{x\\to +\\infty}\\frac {f(x)}x=&\\lim_{x\\to+\\infty}\\frac{\\sqrt{x^2+x+1}}{x}\n",
    "= \\lim_{x\\to+\\infty}\\sqrt{\\frac{x^2+x+1}{x^2}}\n",
    "=1\n",
    "\\end{align*}\n",
    "$$\n",
    "\n",
    "oraz \n",
    "\n",
    "$$\n",
    "\\begin{align*}\n",
    "n=\\lim_{x\\to +\\infty}(f(x)-mx)=\\lim_{x\\to +\\infty}f(x)=\n",
    "\\lim_{x\\to\\infty}\\sqrt{x^2+x+1}-x=\n",
    "\\lim_{x\\to\\infty}\\frac{x+1}{\\sqrt{x^2+x+1}+x}\n",
    "=\\frac{1}{2}\n",
    ".\n",
    "\\end{align*}\n",
    "$$\n",
    "\n",
    "Zatem prosta \n",
    "\n",
    "$$\n",
    "y=x+\\frac{1}{2}\n",
    "$$\n",
    "\n",
    "jest asymptotą ukośną funkcji $f$ dla $x\\to\\infty$. \n",
    "\n",
    "Mamy\n",
    "\n",
    "$$\n",
    "\\begin{align*}\n",
    "m=\\lim_{x\\to -\\infty}\\frac {f(x)}x=&\\lim_{x\\to-\\infty}\\frac{\\sqrt{x^2+x+1}}{x}\n",
    "= \\lim_{x\\to\\infty}-\\sqrt{\\frac{x^2+x+1}{x^2}}\n",
    "=-1\n",
    "\\end{align*}\n",
    "$$\n",
    "\n",
    "oraz \n",
    "\n",
    "$$\n",
    "\\begin{align*}\n",
    "n=\\lim_{x\\to -\\infty}(f(x)-mx)=\\lim_{x\\to -\\infty}f(x)=\n",
    "\\lim_{x\\to-\\infty}\\sqrt{x^2+x+1}+x=\n",
    "\\lim_{x\\to-\\infty}\\frac{x+1}{\\sqrt{x^2+x+1}-x}\n",
    "=-\\frac{1}{2}\n",
    ".\n",
    "\\end{align*}\n",
    "$$\n",
    "\n",
    "Zatem prosta \n",
    "\n",
    "$$\n",
    "y=-x-\\frac{1}{2}\n",
    "$$\n",
    "\n",
    "jest asymptotą ukośną funkcji $f$ dla $x\\to -\\infty$. "
   ]
  },
  {
   "cell_type": "code",
   "execution_count": 2,
   "id": "0972f737",
   "metadata": {},
   "outputs": [
    {
     "data": {
      "image/png": "[encoded data removed]",
      "text/plain": [
       "<Figure size 640x480 with 1 Axes>"
      ]
     },
     "metadata": {},
     "output_type": "display_data"
    }
   ],
   "source": [
    "import matplotlib.pyplot as plt\n",
    "import numpy as np\n",
    "\n",
    "# Create an array of x values\n",
    "x = np.linspace(-10, 10, 400)  # Adjust the range as needed\n",
    "\n",
    "# Calculate the corresponding y values for the function sqrt(x^2 + x + 1)\n",
    "y = np.sqrt(x**2 + x + 1)\n",
    "\n",
    "# Create the plot for the function sqrt(x^2 + x + 1)\n",
    "plt.plot(x, y, label='y = sqrt(x^2 + x + 1)', color='blue')\n",
    "\n",
    "# Add a red dashed line for y = x + 1/2\n",
    "plt.plot(x, x + 0.5, color='red', linestyle='--', label='y = x + 1/2')\n",
    "\n",
    "# Add a green dashed line for y = -x - 1/2\n",
    "plt.plot(x, -x - 0.5, color='green', linestyle='--', label='y = -x - 1/2')\n",
    "\n",
    "# Add labels and legend\n",
    "plt.xlabel('x')\n",
    "plt.ylabel('y')\n",
    "plt.legend()\n",
    "\n",
    "# Add more visible axes\n",
    "plt.axhline(0, color='black', linewidth=2)\n",
    "plt.axvline(0, color='black', linewidth=2)\n",
    "\n",
    "# Show the plot\n",
    "plt.grid()\n",
    "plt.show()\n"
   ]
  },
  {
   "cell_type": "markdown",
   "id": "5b4eebff",
   "metadata": {},
   "source": [
    "__Zadanie do samodzielnego rozwiązania__\n",
    "\n",
    "Wyznacz asymptoty ukośne funkcji  $f(x)=\\operatorname{arctg}x$ oraz funkcji $g(x)=x-\\operatorname{arctg}x$."
   ]
  },
  {
   "cell_type": "markdown",
   "id": "9844cec9",
   "metadata": {},
   "source": [
    "__Zadanie do samodzielnego rozwiązania__ (po skończonym kursie z pochodnych)\n",
    "\n",
    "Wyznacz asymptoty ukośne funkcji  $f(x)=\\ln(e^x+1)$."
   ]
  },
  {
   "cell_type": "markdown",
   "id": "9bf84287",
   "metadata": {},
   "source": [
    "## Asympoty pionowe"
   ]
  },
  {
   "cell_type": "markdown",
   "id": "59b6231d",
   "metadata": {},
   "source": [
    ">__Definicja.__ Jeżeli funkcja $f$ jest ciągła w przedziale $(x_0-\\varepsilon,x_0)$ $\\ \\ [(x_0,x_0+\\varepsilon)]$  \n",
    "dla pewnego $\\varepsilon>0$ oraz\n",
    ">\n",
    ">$$\n",
    "\\lim_{x\\to x_0+}\\mid f(x)\\mid=+\\infty\\quad \\left[\\lim_{x\\to x_0+}\\mid f(x)\\mid=+\\infty\\right]\n",
    "$$\n",
    ">\n",
    ">to mówimy, że prosta $x=x_0$ jest __lewostronną [prawostronną] asymptotą pionową__ funkcji $f$."
   ]
  },
  {
   "cell_type": "markdown",
   "id": "b24cc040",
   "metadata": {},
   "source": [
    "__Przykład 1.__\n",
    "\n",
    "Wyznaczymy asymptoty pionowe funkcji $f(x)=\\frac{1}{x^2-5x+6}$.\n",
    "Jej dziedziną jest zbiór $\\mathbb{R}\\setminus\\{2,3\\}$.\n",
    "\n",
    "Mamy\n",
    "\n",
    "$$\n",
    "\\lim_{x\\to2-}\\frac{1}{x^2-5x+6}=\\infty\\text{, }\\lim_{x\\to2+}\\frac{1}{x^2-5x+6}=-\\infty\n",
    "$$\n",
    "\n",
    "oraz\n",
    "\n",
    "$$\n",
    "\\lim_{x\\to3-}\\frac{1}{x^2-5x+6}=-\\infty\\text{, }\\lim_{x\\to3+}\\frac{1}{x^2-5x+6}=\\infty.\n",
    "$$\n",
    "\n",
    "Zatem proste $x=2$ i $x=3$ sa asymptotami pionowymi funkcji $f$."
   ]
  },
  {
   "cell_type": "code",
   "execution_count": 3,
   "id": "9a5c6a36-da05-4167-932d-4b45676492e2",
   "metadata": {},
   "outputs": [
    {
     "data": {
      "image/png": "[encoded data removed]",
      "text/plain": [
       "<Figure size 800x600 with 1 Axes>"
      ]
     },
     "metadata": {},
     "output_type": "display_data"
    }
   ],
   "source": [
    "import numpy as np\n",
    "import matplotlib.pyplot as plt\n",
    "\n",
    "# Define the x values for each interval\n",
    "x1 = np.linspace(0.1, 1.95, 400)\n",
    "x2 = np.linspace(2.05, 2.95, 400)\n",
    "x3 = np.linspace(3.05, 4.95, 400)\n",
    "\n",
    "# Define the function for each interval\n",
    "y1 = 1 / (x1**2 - 5*x1 + 6)\n",
    "y2 = 1 / (x2**2 - 5*x2 + 6)\n",
    "y3 = 1 / (x3**2 - 5*x3 + 6)\n",
    "\n",
    "# Create a single plot for all three intervals\n",
    "plt.figure(figsize=(8, 6))\n",
    "\n",
    "plt.plot(x1, y1, label='(0,2)', color='blue')\n",
    "plt.plot(x2, y2, label='(2,3)', color='green')\n",
    "plt.plot(x3, y3, label='(3,5)', color='red')\n",
    "\n",
    "# Add vertical red lines at x = 2 and x = 3\n",
    "plt.axvline(x=2, color='red', linestyle='--', label='x = 2')\n",
    "plt.axvline(x=3, color='red', linestyle='--', label='x = 3')\n",
    "\n",
    "# Set labels and legend\n",
    "plt.xlabel('x')\n",
    "plt.ylabel('y')\n",
    "plt.legend()\n",
    "\n",
    "# Add more visible axes\n",
    "plt.axhline(0, color='black', linewidth=2)\n",
    "plt.axvline(0, color='black', linewidth=2)\n",
    "\n",
    "# Show the plot\n",
    "plt.grid(True)\n",
    "plt.show()\n"
   ]
  },
  {
   "cell_type": "markdown",
   "id": "0d0760ed",
   "metadata": {},
   "source": [
    "__Przykład 2.__\n",
    "\n",
    "Wyznaczymy asymptoty pionowe funkcji $f(x)=\\frac{x}{x^2-4}$.\n",
    "Jej dziedziną jest zbiór $\\mathbb{R}\\setminus\\{-2,2\\}$.\n",
    "\n",
    "Mamy\n",
    "\n",
    "$$\n",
    "\\lim_{x\\to-2-}\\frac{x}{x^2-4}=-\\infty\\text{, }\\lim_{x\\to-2+}\\frac{x}{x^2-4}=\\infty\n",
    "$$\n",
    "\n",
    "oraz\n",
    "\n",
    "$$\n",
    "\\lim_{x\\to2-}\\frac{x}{x^2-4}=-\\infty\\text{, }\\lim_{x\\to2+}\\frac{x}{x^2-4}=\\infty\n",
    "$$\n",
    "\n",
    "Zatem proste $x=-2$ i $x=2$ sa asymptotami pionowymi funkcji $f$."
   ]
  },
  {
   "cell_type": "code",
   "execution_count": 4,
   "id": "ccde8ddc-7dd5-44e5-ad84-61841e8f3acd",
   "metadata": {},
   "outputs": [
    {
     "data": {
      "image/png": "[encoded data removed]",
      "text/plain": [
       "<Figure size 800x600 with 1 Axes>"
      ]
     },
     "metadata": {},
     "output_type": "display_data"
    }
   ],
   "source": [
    "import numpy as np\n",
    "import matplotlib.pyplot as plt\n",
    "\n",
    "# Define the x values for each interval\n",
    "x1 = np.linspace(-5, -2.1, 400)\n",
    "x2 = np.linspace(-1.9, 1.9, 400)\n",
    "x3 = np.linspace(2.1, 5, 400)\n",
    "\n",
    "# Define the function for each interval\n",
    "y1 = x1 / (x1**2 - 4)\n",
    "y2 = x2 / (x2**2 - 4)\n",
    "y3 = x3 / (x3**2 - 4)\n",
    "\n",
    "# Create a single plot for all three intervals\n",
    "plt.figure(figsize=(8, 6))\n",
    "\n",
    "plt.plot(x1, y1, label='(-5,-2)', color='blue')\n",
    "plt.plot(x2, y2, label='(-2,2)', color='green')\n",
    "plt.plot(x3, y3, label='(2,5)', color='red')\n",
    "\n",
    "# Add vertical lines at x = -2 and x = 2\n",
    "plt.axvline(x=-2, color='red', linestyle='--', label='x = -2')\n",
    "plt.axvline(x=2, color='red', linestyle='--', label='x = 2')\n",
    "\n",
    "# Set labels and legend\n",
    "plt.xlabel('x')\n",
    "plt.ylabel('y')\n",
    "plt.legend()\n",
    "\n",
    "# Add more visible axes\n",
    "plt.axhline(0, color='black', linewidth=2)\n",
    "plt.axvline(0, color='black', linewidth=2)\n",
    "\n",
    "# Show the plot\n",
    "plt.grid(True)\n",
    "plt.show()\n"
   ]
  },
  {
   "cell_type": "code",
   "execution_count": null,
   "id": "abfaddcf-b5ed-42f0-bcac-0b44e1218c43",
   "metadata": {},
   "outputs": [],
   "source": []
  }
 ],
 "metadata": {
  "kernelspec": {
   "display_name": "Python 3 (ipykernel)",
   "language": "python",
   "name": "python3"
  },
  "language_info": {
   "codemirror_mode": {
    "name": "ipython",
    "version": 3
   },
   "file_extension": ".py",
   "mimetype": "text/x-python",
   "name": "python",
   "nbconvert_exporter": "python",
   "pygments_lexer": "ipython3",
   "version": "3.9.13"
  },
  "toc": {
   "base_numbering": 1,
   "nav_menu": {},
   "number_sections": false,
   "sideBar": true,
   "skip_h1_title": false,
   "title_cell": "Table of Contents",
   "title_sidebar": "Contents",
   "toc_cell": false,
   "toc_position": {},
   "toc_section_display": true,
   "toc_window_display": false
  }
 },
 "nbformat": 4,
 "nbformat_minor": 5
}
