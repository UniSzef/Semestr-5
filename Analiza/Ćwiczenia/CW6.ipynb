{
 "cells": [
  {
   "cell_type": "markdown",
   "id": "9f2398e3",
   "metadata": {},
   "source": [
    "# Ciągłość funkcji"
   ]
  },
  {
   "cell_type": "markdown",
   "id": "e582f65d",
   "metadata": {},
   "source": [
    "## Cel zajęć\n",
    "\n",
    "Podczas zajęć zapoznamy się z pojęciem funkcji ciągłej, zobaczymy własności funkcji ciągłych i ich zastosowania."
   ]
  },
  {
   "cell_type": "markdown",
   "id": "a336ff8f-d2c9-4533-8240-df1a9b9282ee",
   "metadata": {},
   "source": [
    "## Ciągłość"
   ]
  },
  {
   "cell_type": "markdown",
   "id": "9977c635-3e4c-4b4a-a32c-b80161643c30",
   "metadata": {},
   "source": [
    "### Ciągłość funkcji w punkcie\n",
    "\n",
    ">__Definicja.__ Funkcję $f$ określoną w $(x_0-a,x_0+a)$,  $a>0$, nazywamy __ciągłą w punkcie $x_0$__, gdy istnieje \n",
    "granica funkcji $f$ w tym punkcie i jest równa wartości funkcji $f(x_0)$:\n",
    ">\n",
    ">$$\n",
    "\\lim_{x\\to x_0}f(x)=f(x_0) \\ .\n",
    "$$\n"
   ]
  },
  {
   "cell_type": "markdown",
   "id": "d859daf5",
   "metadata": {},
   "source": [
    "### Rodzaje punktów nieciągłości"
   ]
  },
  {
   "cell_type": "markdown",
   "id": "57c5d7d5",
   "metadata": {},
   "source": [
    ">__Definicja.__ Niech $f \\ : \\ (x_0-a,x_0+a)\\longrightarrow \\Bbb R$ i niech $f$ będzie nieciągła \n",
    "w punkcie $x_0$. Mówimy, że:\n",
    ">\n",
    ">($1^0$) funkcja $f$ ma nieciągłość I rodzaju o ile istnieją granice jednostronne \n",
    "$\\lim_{x\\to x_0-}f(x)$ i $\\lim_{x\\to x_0+}f(x)$; jeżeli przy tym istnieje $\\lim_{x\\to x_0}f(x)$ to nieciągłość \n",
    "nazywamy usuwalną, a jeżeli nie  - nieusuwalną,\n",
    ">\n",
    ">($2^0$) funkcja $f$ ma nieciągłość II rodzaju, o ile nie istnieje choć jedna z granic\n",
    "jednostronnych $\\lim_{x\\to x_0-}f(x)$,  $\\lim_{x\\to x_0+} f(x)$."
   ]
  },
  {
   "cell_type": "markdown",
   "id": "080b18aa",
   "metadata": {},
   "source": [
    "### Przykład 1"
   ]
  },
  {
   "cell_type": "markdown",
   "id": "a0b82590-dca3-4b2f-9020-e1017f77ba7e",
   "metadata": {},
   "source": [
    "Funcja $f(x)=x^2$  jest ciągła na $\\mathbb{R}$, bo dla każdego $x_0$\n",
    "mamy\n",
    "\n",
    "$$\n",
    "\\lim_{x\\to x_0}x^2=x_0^2=f(x_0).\n",
    "$$"
   ]
  },
  {
   "cell_type": "markdown",
   "id": "8e9de8ab-3314-48c1-9133-367f00e45451",
   "metadata": {},
   "source": [
    "### Przykład 2"
   ]
  },
  {
   "cell_type": "markdown",
   "id": "c5e22c01-e8af-449c-a54b-b2259500335f",
   "metadata": {},
   "source": [
    "Zbadamy ciągłość funkcji danej wzorem \n",
    "\n",
    "$$\n",
    "f(x)=\\begin{cases}\n",
    "2x+1, & x\\geq 0\\\\\n",
    "x& x<0.\n",
    "\\end{cases}\n",
    "$$\n",
    "\n",
    "1. Jeśli $x_0>0$, to \n",
    "\n",
    "$$\n",
    "\\lim_{x\\to x_0}f(x)=\\lim_{x\\to x_0}(2x+1)=2x_0+1=f(x_0).\n",
    "$$\n",
    "\n",
    "2.  Jeśli $x_0<0$, to \n",
    "\n",
    "$$\n",
    "\\lim_{x\\to x_0}f(x)=\\lim_{x\\to x_0}x=x_0=f(x_0).\n",
    "$$\n",
    "\n",
    "3. Mamy\n",
    "\n",
    " \n",
    "\n",
    "$$\n",
    "\\lim_{x\\to 0+}f(x)=\\lim_{x\\to 0+}(2x+1)=1=f(x_0) \\text{ i } \\lim_{x\\to 0-}f(x)=\\lim_{x\\to 0-}x=0.\n",
    "$$\n",
    "\n",
    "Zatem $f$ jest ciągła na zbiorze $\\mathbb{R}\\setminus \\{0\\}$. Ponadto $f$ nie jest ciągła w $x_0=0$ (ma w tym punkcie nieusuwalną nieciągłość I rodzaju, $f$ jest prawostronnie ciągła w $x_0=0$). "
   ]
  },
  {
   "cell_type": "markdown",
   "id": "0af56534-632c-4576-baaf-c36f2622da80",
   "metadata": {},
   "source": [
    "### Przykład 3"
   ]
  },
  {
   "cell_type": "markdown",
   "id": "8fb63730-15fe-4d5f-9273-f4b7110b170b",
   "metadata": {},
   "source": [
    "Zbadamy ciągłość funkcji danej wzorem \n",
    "\n",
    "$$\n",
    "f(x)=\\begin{cases}\n",
    "x^2+x, & x>0\\\\\n",
    "x^3-x& x<0,\\\\\n",
    "1,& x=0.\n",
    "\\end{cases}\n",
    "$$\n",
    "\n",
    "1. Jeśli $x_0>0$, to \n",
    "\n",
    "$$\n",
    "\\lim_{x\\to x_0}f(x)=\\lim_{x\\to x_0}(x^2+x)=x^2_0+x_0=f(x_0).\n",
    "$$\n",
    "\n",
    "2.  Jeśli $x_0<0$, to \n",
    "\n",
    "$$\n",
    "\\lim_{x\\to x_0}f(x)=\\lim_{x\\to x_0}(x^3-x)=x_0^3-x_0=f(x_0).\n",
    "$$\n",
    "\n",
    "3. Mamy\n",
    "\n",
    " \n",
    "\n",
    "$$\n",
    "\\lim_{x\\to 0+}f(x)=\\lim_{x\\to 0+}(x^2+x)=0 \\text{ i } \\lim_{x\\to 0-}f(x)=\\lim_{x\\to 0-}x^3-x=0.\n",
    "$$\n",
    "\n",
    "Zatem $f$ jest ciągła na zbiorze $\\mathbb{R}\\setminus \\{0\\}$. Ponadto $f$ nie jest ciągła w $x_0=0$ (ma w tym punkcie usuwalną nieciągłość I rodzaju, gdbyby było $f(0)=0$, to $f$ byłaby ciągła na $\\mathbb{R}$). "
   ]
  },
  {
   "cell_type": "markdown",
   "id": "6987a119-27e4-4a7e-a72e-c03862e79ca3",
   "metadata": {},
   "source": [
    "### Przykład 4\n",
    "\n",
    "Funkcja $f\\colon\\mathbb{R}\\to\\mathbb{R}$\n",
    "dana wzorem \n",
    "\n",
    "$$\n",
    "f(x)=\\begin{cases}\n",
    "\\sin\\frac{1}{x}& x>0\\\\\n",
    "0& x<0.\n",
    "\\end{cases}\n",
    "$$\n",
    "\n",
    "jest ciągła na $\\mathbb{R}\\setminus \\{0\\}$  a w punkcie $x_0=0$ ma nieciągłość II rodzaju bo nie ma tam granicy prawostronnej."
   ]
  },
  {
   "cell_type": "markdown",
   "id": "4af19efb",
   "metadata": {},
   "source": [
    "## Własnośći funkcji ciągłych"
   ]
  },
  {
   "cell_type": "markdown",
   "id": "49708ce3",
   "metadata": {},
   "source": [
    "### Własność Darboux"
   ]
  },
  {
   "cell_type": "markdown",
   "id": "73a217c5",
   "metadata": {},
   "source": [
    ">__Twierdzenie__ (własność Darboux) \n",
    ">\n",
    ">Jeżeli funkcja $f$ jest określona i ciągła\n",
    "w przedziale $P= [a,b]$ oraz $x_1,x_2\\in  P$,  $x_1<x_2$ będą takie, że $y_1=f(x_1)\\neq f(x_2)=y_2$, \n",
    "to funkcja $f$ przyjmuje w przedziale $[x_1,x_2]$ wszystkie wartości pośrednie między $y_1$ i $y_2$."
   ]
  },
  {
   "cell_type": "markdown",
   "id": "0620dc10-cbc5-43ae-9be3-b6a3053ec881",
   "metadata": {},
   "source": [
    "__UWAGA:__\n",
    "Bardzo ważne jest aby przed stosowaniem powyższego twierdzenia upewnić się, że spełnione są jego założenia to znaczy czy $f$ jest ciągła i określona na przedziale domkniętym.\n",
    "Poniższe przykłady pokazują, że są to założenia istotne.\n",
    "\n",
    "1. Funkcja $f\\colon[-1,1]\\to\\mathbb{R}$ dana wzorem \n",
    "\n",
    "$$\n",
    "f(x)=\\begin{cases} 1,& x\\geq 0\\\\\n",
    "0, & x<0\n",
    "\\end{cases}\n",
    "$$ \n",
    "przyjmuje wartośći $0$ i $1$ i nigdzie nie przyjmuje wartości $\\frac{1}{2}$. Zauważmy, że $f$ nie jest ciągła w punkcie $x_0=0$.\n",
    "\n",
    "2. Funkcja $f\\colon [-2,-1]\\cup [1,2]\\to\\mathbb{R}$ dana wzorem $f(x)=x$ jest ciągła, przyjmuje wartość $-1$ i $1$  i nigdzie nie przyjmuje wartości $0$."
   ]
  },
  {
   "cell_type": "markdown",
   "id": "461726ce",
   "metadata": {},
   "source": [
    "__Przykład 1.__\n",
    "\n",
    "Uzasadnimy, że funkcja $f(x)=x^3+3x^2-3$ ma dokładnie trzy miejsca zerowe.\n",
    "\n",
    "Zauważmy najpierw, że \"szkolne\" metody znajdowania miejsc zerowych tego wielomianu nie działają ($p$ nie ma wymiernych miejsc zerowych).\n",
    "Ale widzimy, że \n",
    "\n",
    "$$f(-3)=-3,\\quad f(-2)=1,\\quad f(0)=-3,\\quad f(1)=1 $$\n",
    "zatem $f$ musi mieć conajmiej trzy miejsca zerowe na mocy własności Darboux. Więcej ich mieć nie może bo jest wielomianem stopnia trzy."
   ]
  },
  {
   "cell_type": "markdown",
   "id": "ac44083d",
   "metadata": {},
   "source": [
    "__Przykład 2.__\n",
    "\n",
    "Uzasadnimy, że równanie \n",
    "\n",
    "$$\n",
    "(1-x)\\cos x=\\sin x\n",
    "$$\n",
    "ma rozwiązanie w przedziale $(0,1)$. \n",
    "\n",
    "W tym celu zauważmy, że \n",
    "funkcja $f\\colon[0,1]\\to\\mathbb{R}$ dana wzorem $f(x)=(1-x)\\cos x-\\sin x$ jest ciągła, $f(0)=1$ i $f(1)=-\\sin(1)<0$. Konkluzja wynika z własności Darboux."
   ]
  },
  {
   "cell_type": "markdown",
   "id": "07f6b394",
   "metadata": {},
   "source": [
    "### Osiąganie kresów"
   ]
  },
  {
   "cell_type": "markdown",
   "id": "7ddbe8c9",
   "metadata": {},
   "source": [
    ">__Twierdzenie.__ Funkcja ciągła w przedziale domkniętym jest w tym\n",
    "przedziale ograniczona.\n",
    "\n",
    ">__Twierdzenie.__ Funkcja ciągła w przedziale domkniętym osiąga w nim swoje kresy."
   ]
  },
  {
   "cell_type": "markdown",
   "id": "590b0148-30be-4f11-92a0-c7c28dfc4a5f",
   "metadata": {},
   "source": [
    "__UWAGA:__\n",
    "Bardzo ważne jest aby przed stosowaniem powyższego twierdzenia upewnić się, że spełnione są jego założenia to znaczy czy $f$ jest ciągła i określona na przedziale domkniętym.\n",
    "Poniższe przykłady pokazują, że są to założenia istotne.\n",
    "\n",
    "1. Funkcja $f\\colon (0,1)\\to\\mathbb{R}$ dana wzorem $f(x)=\\frac{1}{x}$ jest ciągła i $f((0,1))=(1,\\infty)$. Nie jest to zatem funkcja ograniczona.\n",
    "\n",
    "2. Funkcja $f\\colon [0,1]\\to\\mathbb{R}$ dana wzorem \n",
    "\n",
    "$$\n",
    "f(x)=\\begin{cases}\n",
    "x,& x\\in [0,1)\\\\\n",
    "0,& x=0\n",
    "\\end{cases}\n",
    "$$\n",
    "ma zbiór wartości równy $[0,1)$. Nie osiąga zatem swojego kresu górnego.\n",
    "\n"
   ]
  },
  {
   "cell_type": "markdown",
   "id": "af822f64",
   "metadata": {},
   "source": [
    "__Przykład__\n",
    "\n",
    "Rozważmy rodzinę wszystkich prostokątów o obwodzie $4$. Uzasadnimy, że istnieje taki prostokąt należący do tej rodziny, który ma największe pole.\n",
    "\n",
    "W tym celu zauważmy, że jeśli prostokąt ma obwód $4$ i jeden z jego boków ma długość $x$ ($x$ musi byc z przedziału [0,2]), to jego pole jest równe\n",
    "\n",
    "$$\n",
    "p(x)=x(2-x).\n",
    "$$\n",
    "\n",
    "Ponieważ funkcja $p$ jest ciągła na $[0,2]$ (i dodatnia na przedziale (0,2)), to istnieje taki $x\\in (0,2)$ dla którego $p$ przyjmuje wartość największą.\n",
    "Nietrudno się jest przekonać ($p$ jest funkcją kwadratową), że w istocie  $x=1$."
   ]
  },
  {
   "cell_type": "markdown",
   "id": "e9e699c2-6a8c-47c3-8894-188410930958",
   "metadata": {},
   "source": [
    "__UWAGA:__ powyższe zadanie jest przykładem zadania optymalizacyjnego. Wrócimy do tego typu zadań jak opanujemy rachunek różniczkowy, teraz nie mamy narzędzi by tego typu problemy rozwiązywać."
   ]
  },
  {
   "cell_type": "code",
   "execution_count": null,
   "id": "3e66fdf3-4c89-427a-b0b5-94517d81c509",
   "metadata": {},
   "outputs": [],
   "source": []
  }
 ],
 "metadata": {
  "kernelspec": {
   "display_name": "Python 3 (ipykernel)",
   "language": "python",
   "name": "python3"
  },
  "language_info": {
   "codemirror_mode": {
    "name": "ipython",
    "version": 3
   },
   "file_extension": ".py",
   "mimetype": "text/x-python",
   "name": "python",
   "nbconvert_exporter": "python",
   "pygments_lexer": "ipython3",
   "version": "3.9.13"
  },
  "toc": {
   "base_numbering": 1,
   "nav_menu": {},
   "number_sections": false,
   "sideBar": true,
   "skip_h1_title": false,
   "title_cell": "Table of Contents",
   "title_sidebar": "Contents",
   "toc_cell": false,
   "toc_position": {},
   "toc_section_display": true,
   "toc_window_display": true
  }
 },
 "nbformat": 4,
 "nbformat_minor": 5
}
